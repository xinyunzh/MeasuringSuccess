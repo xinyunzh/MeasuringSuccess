{
 "cells": [
  {
   "cell_type": "code",
   "execution_count": 76,
   "metadata": {},
   "outputs": [],
   "source": [
    "import pandas as pd\n",
    "import numpy as np"
   ]
  },
  {
   "cell_type": "code",
   "execution_count": 77,
   "metadata": {},
   "outputs": [
    {
     "data": {
      "text/plain": [
       "'C:\\\\Users\\\\Leah\\\\Google Drive\\\\Parent Folder\\\\2. Clients\\\\Local\\\\Dallas\\\\Communities Foundation of Texas\\\\Q32018\\\\Data Work'"
      ]
     },
     "execution_count": 77,
     "metadata": {},
     "output_type": "execute_result"
    }
   ],
   "source": [
    "%pwd"
   ]
  },
  {
   "cell_type": "markdown",
   "metadata": {},
   "source": [
    "### Process for Check-in data"
   ]
  },
  {
   "cell_type": "code",
   "execution_count": 78,
   "metadata": {},
   "outputs": [],
   "source": [
    "df=pd.read_excel(r\"C:\\Users\\Leah\\Google Drive\\Parent Folder\\2. Clients\\Local\\Dallas\\Communities Foundation of Texas\\Q32018\\Data Work\\Q3Data.xlsx\")"
   ]
  },
  {
   "cell_type": "code",
   "execution_count": 79,
   "metadata": {},
   "outputs": [
    {
     "data": {
      "text/html": [
       "<div>\n",
       "<style scoped>\n",
       "    .dataframe tbody tr th:only-of-type {\n",
       "        vertical-align: middle;\n",
       "    }\n",
       "\n",
       "    .dataframe tbody tr th {\n",
       "        vertical-align: top;\n",
       "    }\n",
       "\n",
       "    .dataframe thead th {\n",
       "        text-align: right;\n",
       "    }\n",
       "</style>\n",
       "<table border=\"1\" class=\"dataframe\">\n",
       "  <thead>\n",
       "    <tr style=\"text-align: right;\">\n",
       "      <th></th>\n",
       "      <th>Agency</th>\n",
       "      <th>Client ID</th>\n",
       "      <th>QuarterBaselineSubmitted</th>\n",
       "      <th>Baseline</th>\n",
       "      <th>DOB</th>\n",
       "      <th>Year</th>\n",
       "      <th>DOB_Baseline Cat</th>\n",
       "      <th>Gender</th>\n",
       "      <th>Race</th>\n",
       "      <th>Hispanic_Baseline</th>\n",
       "      <th>...</th>\n",
       "      <th>ExpensesHH_Baseline Cat</th>\n",
       "      <th>BenefitsScreening</th>\n",
       "      <th>PublicBenefitsAccess</th>\n",
       "      <th>AgencyProvidedSupport</th>\n",
       "      <th>FinCap_Budget</th>\n",
       "      <th>FinCap_Goals</th>\n",
       "      <th>FinCap_EmergencyFund</th>\n",
       "      <th>FinCap_AutoDeposit</th>\n",
       "      <th>FinCap_IncomeExpenses</th>\n",
       "      <th>FinCap_LateFee</th>\n",
       "    </tr>\n",
       "  </thead>\n",
       "  <tbody>\n",
       "    <tr>\n",
       "      <th>0</th>\n",
       "      <td>CCD</td>\n",
       "      <td>1035936</td>\n",
       "      <td>NaN</td>\n",
       "      <td>1</td>\n",
       "      <td>1988-12-22 00:00:00</td>\n",
       "      <td>NaN</td>\n",
       "      <td>NaN</td>\n",
       "      <td>2</td>\n",
       "      <td>3</td>\n",
       "      <td>NaN</td>\n",
       "      <td>...</td>\n",
       "      <td>NaN</td>\n",
       "      <td>1.0</td>\n",
       "      <td>NaN</td>\n",
       "      <td>NaN</td>\n",
       "      <td>0.0</td>\n",
       "      <td>1.0</td>\n",
       "      <td>0.0</td>\n",
       "      <td>0.0</td>\n",
       "      <td>0.0</td>\n",
       "      <td>0.0</td>\n",
       "    </tr>\n",
       "    <tr>\n",
       "      <th>1</th>\n",
       "      <td>CCD</td>\n",
       "      <td>1048015</td>\n",
       "      <td>NaN</td>\n",
       "      <td>1</td>\n",
       "      <td>1974-01-31 00:00:00</td>\n",
       "      <td>NaN</td>\n",
       "      <td>NaN</td>\n",
       "      <td>2</td>\n",
       "      <td>8</td>\n",
       "      <td>NaN</td>\n",
       "      <td>...</td>\n",
       "      <td>NaN</td>\n",
       "      <td>1.0</td>\n",
       "      <td>NaN</td>\n",
       "      <td>NaN</td>\n",
       "      <td>0.0</td>\n",
       "      <td>1.0</td>\n",
       "      <td>1.0</td>\n",
       "      <td>0.0</td>\n",
       "      <td>1.0</td>\n",
       "      <td>1.0</td>\n",
       "    </tr>\n",
       "    <tr>\n",
       "      <th>2</th>\n",
       "      <td>CCD</td>\n",
       "      <td>1055975</td>\n",
       "      <td>NaN</td>\n",
       "      <td>1</td>\n",
       "      <td>1980-04-15 00:00:00</td>\n",
       "      <td>NaN</td>\n",
       "      <td>NaN</td>\n",
       "      <td>2</td>\n",
       "      <td>8</td>\n",
       "      <td>NaN</td>\n",
       "      <td>...</td>\n",
       "      <td>NaN</td>\n",
       "      <td>0.0</td>\n",
       "      <td>NaN</td>\n",
       "      <td>NaN</td>\n",
       "      <td>0.0</td>\n",
       "      <td>1.0</td>\n",
       "      <td>0.0</td>\n",
       "      <td>0.0</td>\n",
       "      <td>1.0</td>\n",
       "      <td>1.0</td>\n",
       "    </tr>\n",
       "    <tr>\n",
       "      <th>3</th>\n",
       "      <td>CCD</td>\n",
       "      <td>1063933</td>\n",
       "      <td>NaN</td>\n",
       "      <td>1</td>\n",
       "      <td>NaN</td>\n",
       "      <td>NaN</td>\n",
       "      <td>NaN</td>\n",
       "      <td>1</td>\n",
       "      <td>7</td>\n",
       "      <td>NaN</td>\n",
       "      <td>...</td>\n",
       "      <td>NaN</td>\n",
       "      <td>1.0</td>\n",
       "      <td>NaN</td>\n",
       "      <td>NaN</td>\n",
       "      <td>1.0</td>\n",
       "      <td>2.0</td>\n",
       "      <td>1.0</td>\n",
       "      <td>0.0</td>\n",
       "      <td>1.0</td>\n",
       "      <td>1.0</td>\n",
       "    </tr>\n",
       "    <tr>\n",
       "      <th>4</th>\n",
       "      <td>CCD</td>\n",
       "      <td>1064209</td>\n",
       "      <td>NaN</td>\n",
       "      <td>1</td>\n",
       "      <td>1974-08-24 00:00:00</td>\n",
       "      <td>NaN</td>\n",
       "      <td>NaN</td>\n",
       "      <td>2</td>\n",
       "      <td>8</td>\n",
       "      <td>NaN</td>\n",
       "      <td>...</td>\n",
       "      <td>NaN</td>\n",
       "      <td>1.0</td>\n",
       "      <td>NaN</td>\n",
       "      <td>NaN</td>\n",
       "      <td>0.0</td>\n",
       "      <td>0.0</td>\n",
       "      <td>0.0</td>\n",
       "      <td>0.0</td>\n",
       "      <td>0.0</td>\n",
       "      <td>1.0</td>\n",
       "    </tr>\n",
       "  </tbody>\n",
       "</table>\n",
       "<p>5 rows × 63 columns</p>\n",
       "</div>"
      ],
      "text/plain": [
       "  Agency Client ID  QuarterBaselineSubmitted  Baseline                  DOB  \\\n",
       "0    CCD   1035936                       NaN         1  1988-12-22 00:00:00   \n",
       "1    CCD   1048015                       NaN         1  1974-01-31 00:00:00   \n",
       "2    CCD   1055975                       NaN         1  1980-04-15 00:00:00   \n",
       "3    CCD   1063933                       NaN         1                  NaN   \n",
       "4    CCD   1064209                       NaN         1  1974-08-24 00:00:00   \n",
       "\n",
       "   Year  DOB_Baseline Cat  Gender  Race  Hispanic_Baseline       ...        \\\n",
       "0   NaN               NaN       2     3                NaN       ...         \n",
       "1   NaN               NaN       2     8                NaN       ...         \n",
       "2   NaN               NaN       2     8                NaN       ...         \n",
       "3   NaN               NaN       1     7                NaN       ...         \n",
       "4   NaN               NaN       2     8                NaN       ...         \n",
       "\n",
       "   ExpensesHH_Baseline Cat  BenefitsScreening  PublicBenefitsAccess  \\\n",
       "0                      NaN                1.0                   NaN   \n",
       "1                      NaN                1.0                   NaN   \n",
       "2                      NaN                0.0                   NaN   \n",
       "3                      NaN                1.0                   NaN   \n",
       "4                      NaN                1.0                   NaN   \n",
       "\n",
       "   AgencyProvidedSupport  FinCap_Budget  FinCap_Goals  FinCap_EmergencyFund  \\\n",
       "0                    NaN            0.0           1.0                   0.0   \n",
       "1                    NaN            0.0           1.0                   1.0   \n",
       "2                    NaN            0.0           1.0                   0.0   \n",
       "3                    NaN            1.0           2.0                   1.0   \n",
       "4                    NaN            0.0           0.0                   0.0   \n",
       "\n",
       "   FinCap_AutoDeposit  FinCap_IncomeExpenses  FinCap_LateFee  \n",
       "0                 0.0                    0.0             0.0  \n",
       "1                 0.0                    1.0             1.0  \n",
       "2                 0.0                    1.0             1.0  \n",
       "3                 0.0                    1.0             1.0  \n",
       "4                 0.0                    0.0             1.0  \n",
       "\n",
       "[5 rows x 63 columns]"
      ]
     },
     "execution_count": 79,
     "metadata": {},
     "output_type": "execute_result"
    }
   ],
   "source": [
    "df.head()"
   ]
  },
  {
   "cell_type": "code",
   "execution_count": 80,
   "metadata": {},
   "outputs": [],
   "source": [
    "##Add a suffix to each column name\n",
    "#https://stackoverflow.com/questions/34049618/how-to-add-a-suffix-to-each-column-name"
   ]
  },
  {
   "cell_type": "code",
   "execution_count": 81,
   "metadata": {},
   "outputs": [],
   "source": [
    "df.columns = [str(col) + '_Baseline' for col in df.columns]"
   ]
  },
  {
   "cell_type": "code",
   "execution_count": 82,
   "metadata": {},
   "outputs": [
    {
     "data": {
      "text/plain": [
       "['Hispanic_Baseline_Baseline',\n",
       " 'IntensityEmployment_Baseline_Baseline',\n",
       " 'Assets_Baseline_Baseline',\n",
       " 'AccessFinancialCoach_Baseline_Baseline',\n",
       " 'IntensityFinancialEd_Baseline_Baseline',\n",
       " 'IntensityFinancialCoach_Baseline_Baseline']"
      ]
     },
     "execution_count": 82,
     "metadata": {},
     "output_type": "execute_result"
    }
   ],
   "source": [
    "[w for w in df.columns if '_Baseline_Baseline' in w]"
   ]
  },
  {
   "cell_type": "code",
   "execution_count": 83,
   "metadata": {},
   "outputs": [],
   "source": [
    "df = df.rename(columns = {'Hispanic_Baseline_Baseline':'Hispanic_Baseline',\n",
    "                         'IntensityEmployment_Baseline_Baseline':'IntensityEmployment_Baseline',\n",
    "                         'Assets_Baseline_Baseline':'Assets_Baseline',\n",
    "                         'AccessFinancialCoach_Baseline_Baseline':'AccessFinancialEd_Baseline',\n",
    "                         'IntensityFinancialEd_Baseline_Baseline':'IntensityFinancialEd_Baseline',\n",
    "                         'IntensityFinancialCoach_Baseline_Baseline':'IntensityFinancialCoach_Baseline',\n",
    "                         'Year_Baseline':'Year'})"
   ]
  },
  {
   "cell_type": "code",
   "execution_count": 84,
   "metadata": {},
   "outputs": [],
   "source": [
    "#df=df.rename(columns={col: col.split('_')[0] for col in df.columns if '_Checkin_2018Q3_Checkin_2018Q3' in df.columns})"
   ]
  },
  {
   "cell_type": "code",
   "execution_count": 85,
   "metadata": {},
   "outputs": [],
   "source": [
    "#df[alter1].columns = [str(col).replace('_Checkin_2018Q3_Checkin_2018Q3', '_Checkin_2018Q3') for col in df[alter1].columns]"
   ]
  },
  {
   "cell_type": "code",
   "execution_count": 86,
   "metadata": {},
   "outputs": [
    {
     "data": {
      "text/plain": [
       "['DOB_Baseline Cat_Baseline',\n",
       " 'Savings_Baseline Cat_Baseline',\n",
       " 'Assets_Baseline Cat_Baseline',\n",
       " 'CreditScore_Baseline Cat_Baseline',\n",
       " 'Debt_Baseline Cat_Baseline',\n",
       " 'Wages1_Baseline Cat_Baseline',\n",
       " 'Hours1_Baseline Cat_Baseline',\n",
       " 'Wages_Baseline_Merged Cat_Baseline',\n",
       " 'Hours_Baseline_Merged Cat_Baseline',\n",
       " 'IncomeClient_Baseline Cat_Baseline',\n",
       " 'IncomeHH_Baseline Cat_Baseline',\n",
       " 'ExpensesHH_Baseline Cat_Baseline']"
      ]
     },
     "execution_count": 86,
     "metadata": {},
     "output_type": "execute_result"
    }
   ],
   "source": [
    "[w for w in df.columns if 'Cat' in w]"
   ]
  },
  {
   "cell_type": "code",
   "execution_count": 87,
   "metadata": {},
   "outputs": [],
   "source": [
    "df = df.rename(columns = {'DOB_Baseline Cat_Baseline':'DOB_Baseline Cat',\n",
    "                         'Savings_Baseline Cat_Baseline':'Savings_Baseline Cat',\n",
    "                         'Assets_Baseline Cat_Baseline':'Assets_Baseline Cat',\n",
    "                         'CreditScore_Baseline Cat_Baseline':'CreditScore_Baseline Cat',\n",
    "                         'Debt_Baseline Cat_Baseline':'Debt_Baseline Cat',\n",
    "                         'Wages1_Baseline Cat_Baseline':'Wages1_Baseline Cat',\n",
    "                         'Hours1_Baseline Cat_Baseline':'Hours1_Baseline Cat',\n",
    "                         'Wages_Baseline_Merged Cat_Baseline':'Wages_Baseline_Merged Cat',\n",
    "                         'Hours_Baseline_Merged Cat_Baseline':'Hours_Baseline_Merged Cat',\n",
    "                         'IncomeClient_Baseline Cat_Baseline':'IncomeClient_Baseline Cat',\n",
    "                         'IncomeHH_Baseline Cat_Baseline':'IncomeHH_Baseline Cat',\n",
    "                         'ExpensesHH_Baseline Cat_Baseline':'ExpensesHH_Baseline Cat',\n",
    "                         'QuarterBaselineSubmitted_Baseline':'QuarterBaselineSubmitted',\n",
    "                         'Months employed_baseline_Baseline':'Months employed_baseline',\n",
    "                         'Wages_Baseline_Merged_Baseline':'Wages_Baseline_Merged',\n",
    "                         'Hours_Baseline_Merged_Baseline':'Hours_Baseline_Merged'\n",
    "                         })"
   ]
  },
  {
   "cell_type": "code",
   "execution_count": 88,
   "metadata": {
    "scrolled": true
   },
   "outputs": [
    {
     "data": {
      "text/plain": [
       "['Agency_Baseline',\n",
       " 'Client ID_Baseline',\n",
       " 'QuarterBaselineSubmitted',\n",
       " 'Baseline_Baseline',\n",
       " 'DOB_Baseline',\n",
       " 'Year',\n",
       " 'DOB_Baseline Cat',\n",
       " 'Gender_Baseline',\n",
       " 'Race_Baseline',\n",
       " 'Hispanic_Baseline',\n",
       " 'MaritalStatus_Baseline',\n",
       " 'HighestEd_Baseline',\n",
       " 'HousingType_Baseline',\n",
       " 'HHAdults_Baseline',\n",
       " 'HHChildren_Baseline',\n",
       " 'CriminalBackground_Baseline',\n",
       " 'ZipCode_Baseline',\n",
       " 'AccessEmployment_Baseline',\n",
       " 'IntensityEmployment_Baseline',\n",
       " 'EmploymentStatus_Baseline',\n",
       " 'EmploymentStartDate_Baseline',\n",
       " 'Months employed_baseline',\n",
       " 'EmploymentRetention_Baseline',\n",
       " 'JobTrainingEnrolled_Baseline',\n",
       " 'JobTrainingCompleted_Baseline',\n",
       " 'Savings_Baseline',\n",
       " 'Savings_Baseline Cat',\n",
       " 'Assets_Baseline',\n",
       " 'Assets_Baseline Cat',\n",
       " 'CreditScore_Baseline',\n",
       " 'CreditScore_Baseline Cat',\n",
       " 'Debt_Baseline',\n",
       " 'Debt_Baseline Cat',\n",
       " 'AccessFinancialCoach_Baseline',\n",
       " 'AccessFinancialEd_Baseline',\n",
       " 'IntensityFinancialEd_Baseline',\n",
       " 'IntensityFinancialCoach_Baseline',\n",
       " 'Wages1_Baseline',\n",
       " 'Wages1_Baseline Cat',\n",
       " 'Hours1_Baseline',\n",
       " 'Hours1_Baseline Cat',\n",
       " 'Wages2_Baseline',\n",
       " 'Hours2_Baseline',\n",
       " 'Wages_Baseline_Merged',\n",
       " 'Wages_Baseline_Merged Cat',\n",
       " 'Hours_Baseline_Merged',\n",
       " 'Hours_Baseline_Merged Cat',\n",
       " 'IncomeClient_Baseline',\n",
       " 'IncomeClient_Baseline Cat',\n",
       " 'IncomeHH_Baseline',\n",
       " 'IncomeHH_Baseline Cat',\n",
       " 'PublicBenefits_Baseline',\n",
       " 'ExpensesHH_Baseline',\n",
       " 'ExpensesHH_Baseline Cat',\n",
       " 'BenefitsScreening_Baseline',\n",
       " 'PublicBenefitsAccess_Baseline',\n",
       " 'AgencyProvidedSupport_Baseline',\n",
       " 'FinCap_Budget_Baseline',\n",
       " 'FinCap_Goals_Baseline',\n",
       " 'FinCap_EmergencyFund_Baseline',\n",
       " 'FinCap_AutoDeposit_Baseline',\n",
       " 'FinCap_IncomeExpenses_Baseline',\n",
       " 'FinCap_LateFee_Baseline']"
      ]
     },
     "execution_count": 88,
     "metadata": {},
     "output_type": "execute_result"
    }
   ],
   "source": [
    "[w for w in df.columns]"
   ]
  },
  {
   "cell_type": "code",
   "execution_count": 89,
   "metadata": {},
   "outputs": [],
   "source": [
    "#df.to_excel('see.xlsx')"
   ]
  },
  {
   "cell_type": "code",
   "execution_count": 90,
   "metadata": {},
   "outputs": [],
   "source": [
    "df['Hispanic_Baseline'] = np.where(df['Race_Baseline']==8,'Hispanic',\"\")"
   ]
  },
  {
   "cell_type": "code",
   "execution_count": 91,
   "metadata": {},
   "outputs": [],
   "source": [
    "df['QuarterBaselineSubmitted'] = '2018 Q3'"
   ]
  },
  {
   "cell_type": "markdown",
   "metadata": {},
   "source": [
    "### Get year data from DOB"
   ]
  },
  {
   "cell_type": "code",
   "execution_count": 92,
   "metadata": {},
   "outputs": [],
   "source": [
    "df['DOB_Baseline']= pd.to_datetime(df['DOB_Baseline'], errors = 'coerce')"
   ]
  },
  {
   "cell_type": "code",
   "execution_count": 93,
   "metadata": {},
   "outputs": [],
   "source": [
    "df['Year'] = df['DOB_Baseline'].dt.year"
   ]
  },
  {
   "cell_type": "markdown",
   "metadata": {},
   "source": [
    "### calculate wages merged and to make sure blank doesn't convert into 0"
   ]
  },
  {
   "cell_type": "code",
   "execution_count": 94,
   "metadata": {},
   "outputs": [],
   "source": [
    "df['Wages1_Baseline_recode'] = df['Wages1_Baseline'].fillna(0)"
   ]
  },
  {
   "cell_type": "code",
   "execution_count": 95,
   "metadata": {},
   "outputs": [],
   "source": [
    "df['Wages2_Baseline_recode'] = df['Wages2_Baseline'].fillna(0)"
   ]
  },
  {
   "cell_type": "code",
   "execution_count": 96,
   "metadata": {},
   "outputs": [],
   "source": [
    "df['Wages_Baseline_Merged'] = np.where(df['Wages1_Baseline_recode']>=df['Wages2_Baseline_recode'],df['Wages1_Baseline_recode'],df['Wages2_Baseline_recode'])"
   ]
  },
  {
   "cell_type": "code",
   "execution_count": 97,
   "metadata": {},
   "outputs": [],
   "source": [
    "df['Wages1_Baseline_recode2']= df['Wages1_Baseline'].fillna('N')"
   ]
  },
  {
   "cell_type": "code",
   "execution_count": 98,
   "metadata": {},
   "outputs": [],
   "source": [
    "df['Wages2_Baseline_recode2']= df['Wages2_Baseline'].fillna('N')"
   ]
  },
  {
   "cell_type": "code",
   "execution_count": 99,
   "metadata": {},
   "outputs": [],
   "source": [
    "df['Wages_Baseline_Merged'] = np.where(df['Wages1_Baseline_recode2'] =='N', \"\", df['Wages_Baseline_Merged'])"
   ]
  },
  {
   "cell_type": "code",
   "execution_count": 100,
   "metadata": {},
   "outputs": [],
   "source": [
    "df['Wages_Baseline_Merged'] = np.where(df['Wages1_Baseline_recode2'] ==df['Wages2_Baseline_recode2'], \"\", df['Wages_Baseline_Merged'])"
   ]
  },
  {
   "cell_type": "code",
   "execution_count": 101,
   "metadata": {},
   "outputs": [],
   "source": [
    "df['Wages_Baseline_Merged']=pd.to_numeric(df['Wages_Baseline_Merged'] )"
   ]
  },
  {
   "cell_type": "code",
   "execution_count": 102,
   "metadata": {},
   "outputs": [],
   "source": [
    "df.to_excel('see2.xlsx')"
   ]
  },
  {
   "cell_type": "markdown",
   "metadata": {},
   "source": [
    "### calculate hours merged"
   ]
  },
  {
   "cell_type": "code",
   "execution_count": 103,
   "metadata": {},
   "outputs": [],
   "source": [
    "conditions = [df['Wages_Baseline_Merged'] == df['Wages1_Baseline'],\n",
    "             df['Wages_Baseline_Merged'] == df['Wages2_Baseline']]\n",
    "choices = [df['Hours1_Baseline'], df['Hours2_Baseline']]\n",
    "df['Hours_Baseline_Merged'] = np.select(conditions, choices, default = \"\")"
   ]
  },
  {
   "cell_type": "code",
   "execution_count": 105,
   "metadata": {},
   "outputs": [],
   "source": [
    "df[df['Hours_Baseline_Merged']=='nan']=df[df['Hours_Baseline_Merged']=='nan'].replace('nan', 0)"
   ]
  },
  {
   "cell_type": "code",
   "execution_count": 106,
   "metadata": {
    "scrolled": false
   },
   "outputs": [],
   "source": [
    "df['Hours_Baseline_Merged']= pd.to_numeric(df['Hours_Baseline_Merged'])"
   ]
  },
  {
   "cell_type": "markdown",
   "metadata": {},
   "source": [
    "### categorize variables"
   ]
  },
  {
   "cell_type": "code",
   "execution_count": 107,
   "metadata": {},
   "outputs": [
    {
     "data": {
      "text/plain": [
       "['DOB_Baseline Cat',\n",
       " 'Savings_Baseline Cat',\n",
       " 'Assets_Baseline Cat',\n",
       " 'CreditScore_Baseline Cat',\n",
       " 'Debt_Baseline Cat',\n",
       " 'Wages1_Baseline Cat',\n",
       " 'Hours1_Baseline Cat',\n",
       " 'Wages_Baseline_Merged Cat',\n",
       " 'Hours_Baseline_Merged Cat',\n",
       " 'IncomeClient_Baseline Cat',\n",
       " 'IncomeHH_Baseline Cat',\n",
       " 'ExpensesHH_Baseline Cat']"
      ]
     },
     "execution_count": 107,
     "metadata": {},
     "output_type": "execute_result"
    }
   ],
   "source": [
    "[w for w in df.columns if 'Cat' in w]"
   ]
  },
  {
   "cell_type": "code",
   "execution_count": 113,
   "metadata": {},
   "outputs": [],
   "source": [
    "#categorize DOB data\n",
    "df.loc[(df['Year'] >1920) & (df['Year']<=1930),'DOB_Baseline Cat'] ='1921-1930'\n",
    "df.loc[(df['Year'] >1930) & (df['Year']<=1940),'DOB_Baseline Cat'] ='1931-1940'\n",
    "df.loc[(df['Year'] >1940) & (df['Year']<=1950),'DOB_Baseline Cat'] ='1941-1950'\n",
    "df.loc[(df['Year'] >1950) & (df['Year']<=1960),'DOB_Baseline Cat'] ='1951-1960'\n",
    "df.loc[(df['Year'] >1960) & (df['Year']<=1970),'DOB_Baseline Cat'] ='1961-1970'\n",
    "df.loc[(df['Year'] >1970) & (df['Year']<=1980),'DOB_Baseline Cat'] ='1971-1980'\n",
    "df.loc[(df['Year'] >1980) & (df['Year']<=1990),'DOB_Baseline Cat'] ='1981-1990'\n",
    "df.loc[(df['Year'] >1990) & (df['Year']<=2000),'DOB_Baseline Cat'] ='1991-2000'\n",
    "df.loc[(df['Year'] >2000) & (df['Year']<=2010),'DOB_Baseline Cat'] ='2001-2010'\n",
    "df.loc[(df['Year'] >2999),'DOB_Baseline Cat'] ='2011+'"
   ]
  },
  {
   "cell_type": "code",
   "execution_count": 114,
   "metadata": {},
   "outputs": [],
   "source": [
    "#categorize savings data\n",
    "df.loc[(df['Savings_Baseline'] ==0),'Savings_Baseline Cat'] =0\n",
    "df.loc[(df['Savings_Baseline'] >0) & (df['Savings_Baseline']<=49),'Savings_Baseline Cat'] ='$1-$49'\n",
    "df.loc[(df['Savings_Baseline'] >49) & (df['Savings_Baseline']<=199),'Savings_Baseline Cat'] ='$50-$199'\n",
    "df.loc[(df['Savings_Baseline'] >199) & (df['Savings_Baseline']<=499),'Savings_Baseline Cat'] ='$200-$499'\n",
    "df.loc[(df['Savings_Baseline'] >499) & (df['Savings_Baseline']<=999),'Savings_Baseline Cat'] ='$500-$999'\n",
    "df.loc[(df['Savings_Baseline'] >1000) & (df['Savings_Baseline']<=2999),'Savings_Baseline Cat'] ='$1000-$2999'\n",
    "df.loc[(df['Savings_Baseline'] >2999),'Savings_Baseline Cat'] ='$3000+'"
   ]
  },
  {
   "cell_type": "code",
   "execution_count": 115,
   "metadata": {},
   "outputs": [],
   "source": [
    "#categorize creditscore data\n",
    "df.loc[(df['CreditScore_Baseline'] <500),'CreditScore_Baseline Cat'] ='Below 500'\n",
    "df.loc[(df['CreditScore_Baseline'] >499) & (df['CreditScore_Baseline']<=599),'CreditScore_Baseline Cat'] ='500-599'\n",
    "df.loc[(df['CreditScore_Baseline'] >599) & (df['CreditScore_Baseline']<=699),'CreditScore_Baseline Cat'] ='600-699'\n",
    "df.loc[(df['CreditScore_Baseline'] >699),'CreditScore_Baseline Cat'] ='700+'"
   ]
  },
  {
   "cell_type": "code",
   "execution_count": 116,
   "metadata": {},
   "outputs": [],
   "source": [
    "#categorize Debt data\n",
    "df.loc[(df['Debt_Baseline'] ==0),'Debt_Baseline Cat'] ='$0'\n",
    "df.loc[(df['Debt_Baseline'] >0) & (df['Debt_Baseline']<=999),'Debt_Baseline Cat'] ='$1-$999'\n",
    "df.loc[(df['Debt_Baseline'] >999) & (df['Debt_Baseline']<=4999),'Debt_Baseline Cat'] ='$1,000-$4,999'\n",
    "df.loc[(df['Debt_Baseline'] >4999) & (df['Debt_Baseline']<=9999),'Debt_Baseline Cat'] ='$5,000-$9,999'\n",
    "df.loc[(df['Debt_Baseline'] >9999) & (df['Debt_Baseline']<=29999),'Debt_Baseline Cat'] ='$10,000-$29,999'\n",
    "df.loc[(df['Debt_Baseline'] >29999) & (df['Debt_Baseline']<=49999),'Debt_Baseline Cat'] ='$30,000-$49,999'\n",
    "df.loc[(df['Debt_Baseline'] >49999) & (df['Debt_Baseline']<=99999),'Debt_Baseline Cat'] ='$50,000-$99,999'\n",
    "df.loc[(df['Debt_Baseline'] >99999),'Debt_Baseline Cat'] ='$100,000+'"
   ]
  },
  {
   "cell_type": "code",
   "execution_count": 117,
   "metadata": {},
   "outputs": [],
   "source": [
    "#categorize Wages1 data\n",
    "df.loc[(df['Wages1_Baseline'] ==0),'Wages1_Baseline Cat'] =0\n",
    "df.loc[(df['Wages1_Baseline'] >0) & (df['Wages1_Baseline']<=9.99),'Wages1_Baseline Cat'] ='$1-$9.99'\n",
    "df.loc[(df['Wages1_Baseline'] >9.99) & (df['Wages1_Baseline']<=11.99),'Wages1_Baseline Cat'] ='$10-$11.99'\n",
    "df.loc[(df['Wages1_Baseline'] >11.99) & (df['Wages1_Baseline']<=14.99),'Wages1_Baseline Cat'] ='$12-$14.99'\n",
    "df.loc[(df['Wages1_Baseline'] >14.99) & (df['Wages1_Baseline']<=19.99),'Wages1_Baseline Cat'] ='$15-$19.99'\n",
    "df.loc[(df['Wages1_Baseline'] >19.99),'Wages1_Baseline Cat'] ='$20+'"
   ]
  },
  {
   "cell_type": "code",
   "execution_count": 118,
   "metadata": {},
   "outputs": [],
   "source": [
    "#categorize hours1 data\n",
    "df.loc[(df['Hours1_Baseline'] ==0),'Hours1_Baseline Cat'] =0\n",
    "df.loc[(df['Hours1_Baseline'] >0) & (df['Hours1_Baseline']<=9),'Hours1_Baseline Cat'] ='1-9'\n",
    "df.loc[(df['Hours1_Baseline'] >9) & (df['Hours1_Baseline']<=19),'Hours1_Baseline Cat'] ='10-19'\n",
    "df.loc[(df['Hours1_Baseline'] >19) & (df['Hours1_Baseline']<=29),'Hours1_Baseline Cat'] ='20-29'\n",
    "df.loc[(df['Hours1_Baseline'] >29) & (df['Hours1_Baseline']<=39),'Hours1_Baseline Cat'] ='30-39'\n",
    "df.loc[(df['Hours1_Baseline'] >39) & (df['Hours1_Baseline']<=49),'Hours1_Baseline Cat'] ='40-49'\n",
    "df.loc[(df['Hours1_Baseline'] >49),'Hours1_Baseline Cat'] ='50+'"
   ]
  },
  {
   "cell_type": "code",
   "execution_count": 119,
   "metadata": {},
   "outputs": [],
   "source": [
    "#categorize Wages merged data\n",
    "df.loc[(df['Wages_Baseline_Merged'] ==0),'Wages_Baseline_Merged Cat'] =0\n",
    "df.loc[(df['Wages_Baseline_Merged'] >0) & (df['Wages_Baseline_Merged']<=9.99),'Wages_Baseline_Merged Cat'] ='$1-$9.99'\n",
    "df.loc[(df['Wages_Baseline_Merged'] >9.99) & (df['Wages_Baseline_Merged']<=11.99),'Wages_Baseline_Merged Cat'] ='$10-$11.99'\n",
    "df.loc[(df['Wages_Baseline_Merged'] >11.99) & (df['Wages_Baseline_Merged']<=14.99),'Wages_Baseline_Merged Cat'] ='$12-$14.99'\n",
    "df.loc[(df['Wages_Baseline_Merged'] >14.99) & (df['Wages_Baseline_Merged']<=19.99),'Wages_Baseline_Merged Cat'] ='$15-$19.99'\n",
    "df.loc[(df['Wages_Baseline_Merged'] >19.99),'Wages_Baseline_Merged Cat'] ='$20+'"
   ]
  },
  {
   "cell_type": "code",
   "execution_count": 120,
   "metadata": {},
   "outputs": [],
   "source": [
    "#categorize hours merged data\n",
    "df.loc[(df['Hours_Baseline_Merged'] ==0),'Hours_Baseline_Merged Cat'] =0\n",
    "df.loc[(df['Hours_Baseline_Merged'] >0) & (df['Hours_Baseline_Merged']<=9),'Hours_Baseline_Merged Cat'] ='1-9'\n",
    "df.loc[(df['Hours_Baseline_Merged'] >9) & (df['Hours_Baseline_Merged']<=19),'Hours_Baseline_Merged Cat'] ='10-19'\n",
    "df.loc[(df['Hours_Baseline_Merged'] >19) & (df['Hours_Baseline_Merged']<=29),'Hours_Baseline_Merged Cat'] ='20-29'\n",
    "df.loc[(df['Hours_Baseline_Merged'] >29) & (df['Hours_Baseline_Merged']<=39),'Hours_Baseline_Merged Cat'] ='30-39'\n",
    "df.loc[(df['Hours_Baseline_Merged'] >39) & (df['Hours_Baseline_Merged']<=49),'Hours_Baseline_Merged Cat'] ='40-49'\n",
    "df.loc[(df['Hours_Baseline_Merged'] >49),'Hours_Baseline_Merged Cat'] ='50+'"
   ]
  },
  {
   "cell_type": "code",
   "execution_count": 121,
   "metadata": {},
   "outputs": [],
   "source": [
    "#categorize incomeclient data \n",
    "df.loc[(df['IncomeClient_Baseline'] ==0),'IncomeClient_Baseline Cat'] =0\n",
    "df.loc[(df['IncomeClient_Baseline'] >0) & (df['IncomeClient_Baseline']<=499),'IncomeClient_Baseline Cat'] ='$1-$499'\n",
    "df.loc[(df['IncomeClient_Baseline'] >499) & (df['IncomeClient_Baseline']<=999),'IncomeClient_Baseline Cat'] ='$500-$999'\n",
    "df.loc[(df['IncomeClient_Baseline'] >999) & (df['IncomeClient_Baseline']<=1499),'IncomeClient_Baseline Cat'] ='$1000-$1499'\n",
    "df.loc[(df['IncomeClient_Baseline'] >1499) & (df['IncomeClient_Baseline']<=1999),'IncomeClient_Baseline Cat'] ='$1500-$1999'\n",
    "df.loc[(df['IncomeClient_Baseline'] >1999) & (df['IncomeClient_Baseline']<=2999),'IncomeClient_Baseline Cat'] ='$2000-$2999'\n",
    "df.loc[(df['IncomeClient_Baseline'] >2999),'IncomeClient_Baseline Cat'] ='$3000+'"
   ]
  },
  {
   "cell_type": "code",
   "execution_count": 122,
   "metadata": {},
   "outputs": [],
   "source": [
    "#categorize incomehh data\n",
    "df.loc[(df['IncomeHH_Baseline'] ==0),'IncomeHH_Baseline Cat'] =0\n",
    "df.loc[(df['IncomeHH_Baseline'] >0) & (df['IncomeHH_Baseline']<=499),'IncomeHH_Baseline Cat'] ='$1-$499'\n",
    "df.loc[(df['IncomeHH_Baseline'] >499) & (df['IncomeHH_Baseline']<=999),'IncomeHH_Baseline Cat'] ='$500-$999'\n",
    "df.loc[(df['IncomeHH_Baseline'] >999) & (df['IncomeHH_Baseline']<=1499),'IncomeHH_Baseline Cat'] ='$1000-$1499'\n",
    "df.loc[(df['IncomeHH_Baseline'] >1499) & (df['IncomeHH_Baseline']<=1999),'IncomeHH_Baseline Cat'] ='$1500-$1999'\n",
    "df.loc[(df['IncomeHH_Baseline'] >1999) & (df['IncomeHH_Baseline']<=2999),'IncomeHH_Baseline Cat'] ='$2000-$2999'\n",
    "df.loc[(df['IncomeHH_Baseline'] >2999),'IncomeHH_Baseline Cat'] ='$3000+'"
   ]
  },
  {
   "cell_type": "code",
   "execution_count": 123,
   "metadata": {},
   "outputs": [],
   "source": [
    "#categorize expenseshh data\n",
    "df.loc[(df['ExpensesHH_Baseline'] ==0),'ExpensesHH_Baseline Cat'] =0\n",
    "df.loc[(df['ExpensesHH_Baseline'] >0) & (df['ExpensesHH_Baseline']<=499),'ExpensesHH_Baseline Cat'] ='$1-$499'\n",
    "df.loc[(df['ExpensesHH_Baseline'] >499) & (df['ExpensesHH_Baseline']<=999),'ExpensesHH_Baseline Cat'] ='$500-$999'\n",
    "df.loc[(df['ExpensesHH_Baseline'] >999) & (df['ExpensesHH_Baseline']<=1499),'ExpensesHH_Baseline Cat'] ='$1000-$1499'\n",
    "df.loc[(df['ExpensesHH_Baseline'] >1499) & (df['ExpensesHH_Baseline']<=1999),'ExpensesHH_Baseline Cat'] ='$1500-$1999'\n",
    "df.loc[(df['ExpensesHH_Baseline'] >1999) & (df['ExpensesHH_Baseline']<=2999),'ExpensesHH_Baseline Cat'] ='$2000-$2999'\n",
    "df.loc[(df['ExpensesHH_Baseline'] >2999),'ExpensesHH_Baseline Cat'] ='$3000+'"
   ]
  },
  {
   "cell_type": "markdown",
   "metadata": {},
   "source": [
    "## convert numeric to string values"
   ]
  },
  {
   "cell_type": "code",
   "execution_count": 124,
   "metadata": {},
   "outputs": [
    {
     "data": {
      "text/plain": [
       "2     357\n",
       "1     154\n",
       "99      2\n",
       "Name: Gender_Baseline, dtype: int64"
      ]
     },
     "execution_count": 124,
     "metadata": {},
     "output_type": "execute_result"
    }
   ],
   "source": [
    "df['Gender_Baseline'].value_counts()"
   ]
  },
  {
   "cell_type": "code",
   "execution_count": 125,
   "metadata": {},
   "outputs": [],
   "source": [
    "#Gender\n",
    "\n",
    "gender_mapping = {1: 'Male',\n",
    "                2: 'Female',\n",
    "                99: 'Unknown',\n",
    "                 'Male':'Male',\n",
    "                 'Female':'Female',\n",
    "                 'Unknown':'Unknown',\n",
    "                 'F':'Female',\n",
    "                 'M':'Male'}\n",
    "df['Gender_Baseline'] = df['Gender_Baseline'].map(gender_mapping)"
   ]
  },
  {
   "cell_type": "code",
   "execution_count": 126,
   "metadata": {},
   "outputs": [],
   "source": [
    "#Race\n",
    "\n",
    "race_mapping = {1: 'American Indian or Alaska Native',\n",
    "                2: 'Asian',\n",
    "                3: 'Black or African American',\n",
    "                4: 'Multiple',\n",
    "                5: 'Native Hawaiian or Pacific Islander',\n",
    "                6: 'Other',\n",
    "                7: 'White',\n",
    "                8: 'Hispanic',\n",
    "                99: 'Unknown',\n",
    "                'American Indian or Alaska Native': 'American Indian or Alaska Native',\n",
    "                'Asian': 'Asian',\n",
    "                'Black or African American': 'Black or African American',\n",
    "                'Black or African-American': 'Black or African American',\n",
    "                'African American': 'Black or African American',\n",
    "                'Multiple': 'Multiple',\n",
    "                'Native Hawaiian or Pacific Islander': 'Native Hawaiian or Pacific Islander',\n",
    "                'Native Hawaiian or Pcific Islander': 'Native Hawaiian or Pacific Islander',\n",
    "                'Other': 'Other',\n",
    "                'White': 'White',\n",
    "                'Unknown': 'Unknown'}\n",
    "df['Race_Baseline'] = df['Race_Baseline'].map(race_mapping)"
   ]
  },
  {
   "cell_type": "code",
   "execution_count": 127,
   "metadata": {},
   "outputs": [],
   "source": [
    "#Marital Status\n",
    "marital_mapping = {1: 'Single',\n",
    "                2: 'Married or Domestic Partnership',\n",
    "                3: 'Divorced',\n",
    "                4: 'Separated',\n",
    "                5: 'Widowed',\n",
    "                99: 'Unknown',\n",
    "                'Single': 'Single',\n",
    "                'Married or Domestic Partnership': 'Married or Domestic Partnership',\n",
    "                'Divorced': 'Divorced',\n",
    "                'Separated': 'Separated',\n",
    "                'Widowed': 'Widowed',\n",
    "                'Unknown': 'Unknown'}\n",
    "df['MaritalStatus_Baseline'] = df['MaritalStatus_Baseline'].map(marital_mapping)"
   ]
  },
  {
   "cell_type": "code",
   "execution_count": 128,
   "metadata": {},
   "outputs": [],
   "source": [
    "#HighestEd\n",
    "highestEd_mapping = {1: 'Less than HS',\n",
    "                2: 'HS, GED, or equivalent',\n",
    "                3: 'Some college, no degree',\n",
    "                4: 'Associate Degree',\n",
    "                5: \"Bachelor's Degree\",\n",
    "                6: 'Graduate Degree or above',\n",
    "                99: 'Unknown',\n",
    "                'Unknown': 'Unknown', \n",
    "                'HS, GED, or equivalent':'HS, GED, or equivalent', \n",
    "                'Associate Degree':'Associate Degree',\n",
    "                'Less than HS':'Less than HS', \n",
    "                'Some college, no degree':'Some college, no degree',\n",
    "                \"Bachelor's Degree\":\"Bachelor's Degree\", \n",
    "                'Gradeuate Degree or above':'Graduate Degree or above',\n",
    "                'HS GED or equivalent':'HS, GED, or equivalent', \n",
    "                'Graduate Degree or above':'Graduate Degree or above',\n",
    "                'Bachelors Degree':\"Bachelor's Degree\", \n",
    "                'Some college no degree':'Some college, no degree'}\n",
    "df['HighestEd_Baseline'] = df['HighestEd_Baseline'].map(highestEd_mapping)"
   ]
  },
  {
   "cell_type": "code",
   "execution_count": 129,
   "metadata": {},
   "outputs": [],
   "source": [
    "#Housing Type\n",
    "housingType_mapping = {1: 'Homeless',\n",
    "                2: 'Lives with Relatives/Friends',\n",
    "                3: 'Receives free or subsidized housing',\n",
    "                4: 'Rents',\n",
    "                5: 'Owns',\n",
    "                99: 'Unknown',\n",
    "                'Unknown':'Unknown', \n",
    "                'Lives with Relatives/Friends':'Lives with Relatives/Friends', \n",
    "                'Rents':'Rents', \n",
    "                'Owns':'Owns', \n",
    "                'Homeless':'Homeless', \n",
    "                'Receives free or subsidized housing':'Receives free or subsidized housing',\n",
    "                'lives with relatives/friends':'Lives with Relatives/Friends', \n",
    "                'rents':'Rents', \n",
    "                'owns':'Owns',\n",
    "                'Lives with Relatives or Friends':'Lives with Relatives/Friends'}\n",
    "df['HousingType_Baseline'] = df['HousingType_Baseline'].map(housingType_mapping)"
   ]
  },
  {
   "cell_type": "code",
   "execution_count": 131,
   "metadata": {},
   "outputs": [],
   "source": [
    "#Criminal Background\n",
    "criminalBackground_mapping = {1: 'Yes',\n",
    "                             0: 'No',\n",
    "                             99: 'Unknown',\n",
    "                             'Yes': 'Yes',\n",
    "                             'No': 'No',\n",
    "                             'Unknown': 'Unknown'}\n",
    "df['CriminalBackground_Baseline'] = df['CriminalBackground_Baseline'].map(criminalBackground_mapping)"
   ]
  },
  {
   "cell_type": "code",
   "execution_count": 132,
   "metadata": {},
   "outputs": [],
   "source": [
    "#Access Employment\n",
    "accessEmployment_mapping = {1: 'Yes',\n",
    "                            0: 'No',\n",
    "                            'Yes':'Yes',\n",
    "                            'No':'No'}\n",
    "df['AccessEmployment_Baseline'] = df['AccessEmployment_Baseline'].map(accessEmployment_mapping)"
   ]
  },
  {
   "cell_type": "code",
   "execution_count": 133,
   "metadata": {},
   "outputs": [],
   "source": [
    "#Employment Status\n",
    "employmentStatus_mapping = {1: 'Employed Full Time',\n",
    "                            2: 'Employed Part Time',\n",
    "                            3: 'Not employed',\n",
    "                           'Employed Full Time': 'Employed Full Time',\n",
    "                           'Employed Part Time': 'Employed Part Time',\n",
    "                           'Not employed': 'Not employed',\n",
    "                           'Unemployed':'Not employed', \n",
    "                           'Employed Part-Time':'Employed Part Time', \n",
    "                           'Employed Full-Time':'Employed Full Time'}\n",
    "df['EmploymentStatus_Baseline'] = df['EmploymentStatus_Baseline'].map(employmentStatus_mapping)"
   ]
  },
  {
   "cell_type": "code",
   "execution_count": 134,
   "metadata": {},
   "outputs": [],
   "source": [
    "#Employment Retention\n",
    "employmentRetention_mapping = {1: 'Yes',\n",
    "                             0: 'No',\n",
    "                            'Yes': 'Yes',\n",
    "                            'No': 'No'}\n",
    "df['EmploymentRetention_Baseline'] = df['EmploymentRetention_Baseline'].map(employmentRetention_mapping)"
   ]
  },
  {
   "cell_type": "code",
   "execution_count": 135,
   "metadata": {},
   "outputs": [],
   "source": [
    "jobTrainingEnrolled_mapping = {1: 'Yes',\n",
    "                             0: 'No',\n",
    "                            'Yes': 'Yes',\n",
    "                            'No': 'No'}\n",
    "df['JobTrainingEnrolled_Baseline'] = df['JobTrainingEnrolled_Baseline'].map(jobTrainingEnrolled_mapping)"
   ]
  },
  {
   "cell_type": "code",
   "execution_count": 136,
   "metadata": {},
   "outputs": [],
   "source": [
    "jobTrainingCompleted_mapping = {1: 'Yes',\n",
    "                             0: 'No',\n",
    "                            'Yes': 'Yes',\n",
    "                            'No': 'No'}\n",
    "df['JobTrainingCompleted_Baseline'] = df['JobTrainingCompleted_Baseline'].map(jobTrainingCompleted_mapping)"
   ]
  },
  {
   "cell_type": "code",
   "execution_count": 137,
   "metadata": {},
   "outputs": [],
   "source": [
    "#Access Financial Coach\n",
    "accessFinancialCoach_mapping = {1: 'Yes',\n",
    "                             0: 'No',\n",
    "                            'Yes': 'Yes',\n",
    "                            'No': 'No'}\n",
    "df['AccessFinancialCoach_Baseline'] = df['AccessFinancialCoach_Baseline'].map(accessFinancialCoach_mapping)"
   ]
  },
  {
   "cell_type": "code",
   "execution_count": 138,
   "metadata": {},
   "outputs": [],
   "source": [
    "#Benefits Screening\n",
    "\n",
    "benefitsScreening_mapping = {1: 'Yes',\n",
    "                             0: 'No',\n",
    "                            'Yes': 'Yes',\n",
    "                            'No': 'No'}\n",
    "df['BenefitsScreening_Baseline'] = df['BenefitsScreening_Baseline'].map(benefitsScreening_mapping)\n"
   ]
  },
  {
   "cell_type": "code",
   "execution_count": 139,
   "metadata": {},
   "outputs": [],
   "source": [
    "#Public Benefits Access\n",
    "\n",
    "publicBenefitsAccess_mapping = {1: 'Yes',\n",
    "                             0: 'No',\n",
    "                            'Yes': 'Yes',\n",
    "                            'No': 'No'}\n",
    "df['PublicBenefitsAccess_Baseline'] = df['PublicBenefitsAccess_Baseline'].map(publicBenefitsAccess_mapping)\n"
   ]
  },
  {
   "cell_type": "code",
   "execution_count": 140,
   "metadata": {},
   "outputs": [],
   "source": [
    "#Agency Provided Support\n",
    "agencyProvidedSupport_mapping = {1: 'Yes',\n",
    "                             0: 'No',\n",
    "                            'Yes': 'Yes',\n",
    "                            'No': 'No'}\n",
    "df['AgencyProvidedSupport_Baseline'] = df['AgencyProvidedSupport_Baseline'].map(agencyProvidedSupport_mapping)"
   ]
  },
  {
   "cell_type": "code",
   "execution_count": 141,
   "metadata": {},
   "outputs": [],
   "source": [
    "#FinCap Budget\n",
    "finCapBudget_mapping = {1: 'Yes',\n",
    "                        0: 'No',\n",
    "                       'Yes': 'Yes',\n",
    "                       'No': 'No'}\n",
    "df['FinCap_Budget_Baseline'] = df['FinCap_Budget_Baseline'].map(finCapBudget_mapping)"
   ]
  },
  {
   "cell_type": "code",
   "execution_count": 143,
   "metadata": {},
   "outputs": [],
   "source": [
    "#FinCap Goals\n",
    "finCapGoals_mapping = {1: 'Somewhat confident',\n",
    "                             0: 'Not at all confident',\n",
    "                      2: 'Very confident',\n",
    "                      'Very confident':'Very confident', \n",
    "                      'Somewhat confident':'Somewhat confident',\n",
    "                      'Not at all confident':'Not at all confident', \n",
    "                      'Somewhat Confident':'Somewhat confident',\n",
    "                      'Very Confident':'Very confident'}\n",
    "df['FinCap_Goals_Baseline'] = df['FinCap_Goals_Baseline'].map(finCapGoals_mapping)"
   ]
  },
  {
   "cell_type": "code",
   "execution_count": 144,
   "metadata": {},
   "outputs": [],
   "source": [
    "#FinCap Emergency Fund\n",
    "finCapEmergencyFund_mapping = {1: 'Yes',\n",
    "                             0: 'No',\n",
    "                            'Yes': 'Yes',\n",
    "                            'No': 'No'}\n",
    "df['FinCap_EmergencyFund_Baseline'] = df['FinCap_EmergencyFund_Baseline'].map(finCapEmergencyFund_mapping)\n"
   ]
  },
  {
   "cell_type": "code",
   "execution_count": 145,
   "metadata": {},
   "outputs": [],
   "source": [
    "#FinCap Auto Deposit\n",
    "\n",
    "finCapAutoDeposit_mapping = {1: 'Yes',\n",
    "                             0: 'No',\n",
    "                            'Yes': 'Yes',\n",
    "                            'No': 'No'}\n",
    "df['FinCap_AutoDeposit_Baseline'] = df['FinCap_AutoDeposit_Baseline'].map(finCapAutoDeposit_mapping)"
   ]
  },
  {
   "cell_type": "code",
   "execution_count": 146,
   "metadata": {},
   "outputs": [],
   "source": [
    "#FinCap Income Expenses\n",
    "finCapIncomeExpenses_mapping = {1: 'Yes',\n",
    "                                0: 'No',\n",
    "                             'No':'No', \n",
    "                             'Yes':'Yes', \n",
    "                             \"No/Don't know\":\"Don't know\"}\n",
    "df['FinCap_IncomeExpenses_Baseline'] = df['FinCap_IncomeExpenses_Baseline'].map(finCapIncomeExpenses_mapping)"
   ]
  },
  {
   "cell_type": "code",
   "execution_count": 147,
   "metadata": {},
   "outputs": [],
   "source": [
    "#FinCap Late Fee\n",
    "finCapLateFee_mapping = {1: 'Yes',\n",
    "                             0: 'No',\n",
    "                        'Yes': 'Yes',\n",
    "                        'No': 'No'}\n",
    "df['FinCap_LateFee_Baseline'] = df['FinCap_LateFee_Baseline'].map(finCapLateFee_mapping)"
   ]
  },
  {
   "cell_type": "code",
   "execution_count": 148,
   "metadata": {},
   "outputs": [],
   "source": [
    "drop_list = [w for w in df.columns if 'recode' in w]"
   ]
  },
  {
   "cell_type": "code",
   "execution_count": 149,
   "metadata": {},
   "outputs": [],
   "source": [
    "df = df.drop(columns =drop_list)"
   ]
  },
  {
   "cell_type": "code",
   "execution_count": 150,
   "metadata": {},
   "outputs": [],
   "source": [
    "df.to_excel('Q3_baseline.xlsx')"
   ]
  },
  {
   "cell_type": "markdown",
   "metadata": {},
   "source": [
    "### remember to change the order of AccessFinancilED and AccessFinancialCoach"
   ]
  },
  {
   "cell_type": "code",
   "execution_count": null,
   "metadata": {},
   "outputs": [],
   "source": []
  }
 ],
 "metadata": {
  "kernelspec": {
   "display_name": "Python 3",
   "language": "python",
   "name": "python3"
  },
  "language_info": {
   "codemirror_mode": {
    "name": "ipython",
    "version": 3
   },
   "file_extension": ".py",
   "mimetype": "text/x-python",
   "name": "python",
   "nbconvert_exporter": "python",
   "pygments_lexer": "ipython3",
   "version": "3.6.5"
  }
 },
 "nbformat": 4,
 "nbformat_minor": 2
}
