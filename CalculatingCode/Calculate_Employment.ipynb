{
 "cells": [
  {
   "cell_type": "code",
   "execution_count": 1,
   "metadata": {},
   "outputs": [
    {
     "data": {
      "text/plain": [
       "'C:\\\\Users\\\\Leah\\\\Google Drive\\\\Parent Folder\\\\2. Clients\\\\Local\\\\Dallas\\\\Communities Foundation of Texas\\\\Q32018\\\\Data Work'"
      ]
     },
     "execution_count": 1,
     "metadata": {},
     "output_type": "execute_result"
    }
   ],
   "source": [
    "import pandas as pd\n",
    "import numpy as np\n",
    "%pwd"
   ]
  },
  {
   "cell_type": "code",
   "execution_count": 2,
   "metadata": {},
   "outputs": [],
   "source": [
    "df = pd.read_excel(r\"C:\\Users\\Leah\\Google Drive\\Parent Folder\\2. Clients\\Local\\Dallas\\Communities Foundation of Texas\\Q32018\\Data Work\\Alldata_12_17.xlsx\")"
   ]
  },
  {
   "cell_type": "code",
   "execution_count": 3,
   "metadata": {},
   "outputs": [
    {
     "data": {
      "text/plain": [
       "['EmploymentStatus_Baseline',\n",
       " 'EmploymentStartDate_Baseline',\n",
       " 'EmploymentStatus 2015_Q4',\n",
       " 'EmploymentStartDate 2015_Q4',\n",
       " 'EmploymentStatus 2016_Q1',\n",
       " 'EmploymentStartDate 2016_Q1',\n",
       " 'EmploymentStatus 2016_Q2',\n",
       " 'EmploymentStartDate 2016_Q2',\n",
       " 'EmploymentStatus_Checkin 2016_Q3',\n",
       " 'EmploymentStartDate_Checkin 2016_Q3',\n",
       " 'EmploymentStatus_Checkin 2016_Q4',\n",
       " 'EmploymentStartDate_Checkin 2016_Q4',\n",
       " 'EmploymentStatus 2017_Q1',\n",
       " 'EmploymentStartDate 2017_Q1',\n",
       " 'EmploymentStatus_Checkin_2017Q2',\n",
       " 'EmploymentStartDate_Checkin_2017Q2',\n",
       " 'EmploymentStatus_Checkin_2017Q3',\n",
       " 'EmploymentStartDate_Checkin_2017Q3',\n",
       " 'EmploymentStatus_Checkin_2017Q4',\n",
       " 'EmploymentStartDate_Checkin_2017Q4',\n",
       " 'EmploymentStatus_Checkin_2018Q1',\n",
       " 'EmploymentStartDate_Checkin_2018Q1',\n",
       " 'EmploymentStatus_Checkin_2018Q2',\n",
       " 'EmploymentStartDate_Checkin_2018Q2',\n",
       " 'EmploymentStatus_Checkin_2018Q3',\n",
       " 'EmploymentStartDate_Checkin_2018Q3']"
      ]
     },
     "execution_count": 3,
     "metadata": {},
     "output_type": "execute_result"
    }
   ],
   "source": [
    "[w for w in df.columns if 'EmploymentS' in w]"
   ]
  },
  {
   "cell_type": "code",
   "execution_count": 4,
   "metadata": {},
   "outputs": [],
   "source": [
    "df_emp = df[['Agency_Baseline', 'ClientID_Baseline','EmploymentStatus_Baseline',\n",
    " 'EmploymentStartDate_Baseline',\n",
    " 'EmploymentStatus 2016_Q1',\n",
    " 'EmploymentStartDate 2016_Q1',\n",
    " 'EmploymentStatus 2016_Q2',\n",
    " 'EmploymentStartDate 2016_Q2',\n",
    " 'EmploymentStatus_Checkin 2016_Q3',\n",
    " 'EmploymentStartDate_Checkin 2016_Q3',\n",
    " 'EmploymentStatus_Checkin 2016_Q4',\n",
    " 'EmploymentStartDate_Checkin 2016_Q4',\n",
    " 'EmploymentStatus 2017_Q1',\n",
    " 'EmploymentStartDate 2017_Q1',\n",
    " 'EmploymentStatus_Checkin_2017Q2',\n",
    " 'EmploymentStartDate_Checkin_2017Q2',\n",
    " 'EmploymentStatus_Checkin_2017Q3',\n",
    " 'EmploymentStartDate_Checkin_2017Q3',\n",
    " 'EmploymentStatus_Checkin_2017Q4',\n",
    " 'EmploymentStartDate_Checkin_2017Q4',\n",
    " 'EmploymentStatus_Checkin_2018Q1',\n",
    " 'EmploymentStartDate_Checkin_2018Q1',\n",
    " 'EmploymentStatus_Checkin_2018Q2',\n",
    " 'EmploymentStartDate_Checkin_2018Q2',\n",
    " 'EmploymentStatus_Checkin_2018Q3',\n",
    " 'EmploymentStartDate_Checkin_2018Q3']]"
   ]
  },
  {
   "cell_type": "code",
   "execution_count": 5,
   "metadata": {
    "scrolled": true
   },
   "outputs": [
    {
     "name": "stderr",
     "output_type": "stream",
     "text": [
      "C:\\Users\\Leah\\Anaconda3\\lib\\site-packages\\ipykernel_launcher.py:2: SettingWithCopyWarning: \n",
      "A value is trying to be set on a copy of a slice from a DataFrame.\n",
      "Try using .loc[row_indexer,col_indexer] = value instead\n",
      "\n",
      "See the caveats in the documentation: http://pandas.pydata.org/pandas-docs/stable/indexing.html#indexing-view-versus-copy\n",
      "  \n",
      "C:\\Users\\Leah\\Anaconda3\\lib\\site-packages\\ipykernel_launcher.py:3: SettingWithCopyWarning: \n",
      "A value is trying to be set on a copy of a slice from a DataFrame.\n",
      "Try using .loc[row_indexer,col_indexer] = value instead\n",
      "\n",
      "See the caveats in the documentation: http://pandas.pydata.org/pandas-docs/stable/indexing.html#indexing-view-versus-copy\n",
      "  This is separate from the ipykernel package so we can avoid doing imports until\n",
      "C:\\Users\\Leah\\Anaconda3\\lib\\site-packages\\ipykernel_launcher.py:5: SettingWithCopyWarning: \n",
      "A value is trying to be set on a copy of a slice from a DataFrame.\n",
      "Try using .loc[row_indexer,col_indexer] = value instead\n",
      "\n",
      "See the caveats in the documentation: http://pandas.pydata.org/pandas-docs/stable/indexing.html#indexing-view-versus-copy\n",
      "  \"\"\"\n",
      "C:\\Users\\Leah\\Anaconda3\\lib\\site-packages\\ipykernel_launcher.py:6: SettingWithCopyWarning: \n",
      "A value is trying to be set on a copy of a slice from a DataFrame.\n",
      "Try using .loc[row_indexer,col_indexer] = value instead\n",
      "\n",
      "See the caveats in the documentation: http://pandas.pydata.org/pandas-docs/stable/indexing.html#indexing-view-versus-copy\n",
      "  \n",
      "C:\\Users\\Leah\\Anaconda3\\lib\\site-packages\\ipykernel_launcher.py:8: SettingWithCopyWarning: \n",
      "A value is trying to be set on a copy of a slice from a DataFrame.\n",
      "Try using .loc[row_indexer,col_indexer] = value instead\n",
      "\n",
      "See the caveats in the documentation: http://pandas.pydata.org/pandas-docs/stable/indexing.html#indexing-view-versus-copy\n",
      "  \n",
      "C:\\Users\\Leah\\Anaconda3\\lib\\site-packages\\ipykernel_launcher.py:9: SettingWithCopyWarning: \n",
      "A value is trying to be set on a copy of a slice from a DataFrame.\n",
      "Try using .loc[row_indexer,col_indexer] = value instead\n",
      "\n",
      "See the caveats in the documentation: http://pandas.pydata.org/pandas-docs/stable/indexing.html#indexing-view-versus-copy\n",
      "  if __name__ == '__main__':\n",
      "C:\\Users\\Leah\\Anaconda3\\lib\\site-packages\\ipykernel_launcher.py:11: SettingWithCopyWarning: \n",
      "A value is trying to be set on a copy of a slice from a DataFrame.\n",
      "Try using .loc[row_indexer,col_indexer] = value instead\n",
      "\n",
      "See the caveats in the documentation: http://pandas.pydata.org/pandas-docs/stable/indexing.html#indexing-view-versus-copy\n",
      "  # This is added back by InteractiveShellApp.init_path()\n",
      "C:\\Users\\Leah\\Anaconda3\\lib\\site-packages\\ipykernel_launcher.py:12: SettingWithCopyWarning: \n",
      "A value is trying to be set on a copy of a slice from a DataFrame.\n",
      "Try using .loc[row_indexer,col_indexer] = value instead\n",
      "\n",
      "See the caveats in the documentation: http://pandas.pydata.org/pandas-docs/stable/indexing.html#indexing-view-versus-copy\n",
      "  if sys.path[0] == '':\n",
      "C:\\Users\\Leah\\Anaconda3\\lib\\site-packages\\ipykernel_launcher.py:15: SettingWithCopyWarning: \n",
      "A value is trying to be set on a copy of a slice from a DataFrame.\n",
      "Try using .loc[row_indexer,col_indexer] = value instead\n",
      "\n",
      "See the caveats in the documentation: http://pandas.pydata.org/pandas-docs/stable/indexing.html#indexing-view-versus-copy\n",
      "  from ipykernel import kernelapp as app\n",
      "C:\\Users\\Leah\\Anaconda3\\lib\\site-packages\\ipykernel_launcher.py:16: SettingWithCopyWarning: \n",
      "A value is trying to be set on a copy of a slice from a DataFrame.\n",
      "Try using .loc[row_indexer,col_indexer] = value instead\n",
      "\n",
      "See the caveats in the documentation: http://pandas.pydata.org/pandas-docs/stable/indexing.html#indexing-view-versus-copy\n",
      "  app.launch_new_instance()\n",
      "C:\\Users\\Leah\\Anaconda3\\lib\\site-packages\\ipykernel_launcher.py:18: SettingWithCopyWarning: \n",
      "A value is trying to be set on a copy of a slice from a DataFrame.\n",
      "Try using .loc[row_indexer,col_indexer] = value instead\n",
      "\n",
      "See the caveats in the documentation: http://pandas.pydata.org/pandas-docs/stable/indexing.html#indexing-view-versus-copy\n",
      "C:\\Users\\Leah\\Anaconda3\\lib\\site-packages\\ipykernel_launcher.py:19: SettingWithCopyWarning: \n",
      "A value is trying to be set on a copy of a slice from a DataFrame.\n",
      "Try using .loc[row_indexer,col_indexer] = value instead\n",
      "\n",
      "See the caveats in the documentation: http://pandas.pydata.org/pandas-docs/stable/indexing.html#indexing-view-versus-copy\n",
      "C:\\Users\\Leah\\Anaconda3\\lib\\site-packages\\ipykernel_launcher.py:21: SettingWithCopyWarning: \n",
      "A value is trying to be set on a copy of a slice from a DataFrame.\n",
      "Try using .loc[row_indexer,col_indexer] = value instead\n",
      "\n",
      "See the caveats in the documentation: http://pandas.pydata.org/pandas-docs/stable/indexing.html#indexing-view-versus-copy\n",
      "C:\\Users\\Leah\\Anaconda3\\lib\\site-packages\\ipykernel_launcher.py:22: SettingWithCopyWarning: \n",
      "A value is trying to be set on a copy of a slice from a DataFrame.\n",
      "Try using .loc[row_indexer,col_indexer] = value instead\n",
      "\n",
      "See the caveats in the documentation: http://pandas.pydata.org/pandas-docs/stable/indexing.html#indexing-view-versus-copy\n",
      "C:\\Users\\Leah\\Anaconda3\\lib\\site-packages\\ipykernel_launcher.py:24: SettingWithCopyWarning: \n",
      "A value is trying to be set on a copy of a slice from a DataFrame.\n",
      "Try using .loc[row_indexer,col_indexer] = value instead\n",
      "\n",
      "See the caveats in the documentation: http://pandas.pydata.org/pandas-docs/stable/indexing.html#indexing-view-versus-copy\n",
      "C:\\Users\\Leah\\Anaconda3\\lib\\site-packages\\ipykernel_launcher.py:25: SettingWithCopyWarning: \n",
      "A value is trying to be set on a copy of a slice from a DataFrame.\n",
      "Try using .loc[row_indexer,col_indexer] = value instead\n",
      "\n",
      "See the caveats in the documentation: http://pandas.pydata.org/pandas-docs/stable/indexing.html#indexing-view-versus-copy\n",
      "C:\\Users\\Leah\\Anaconda3\\lib\\site-packages\\ipykernel_launcher.py:28: SettingWithCopyWarning: \n",
      "A value is trying to be set on a copy of a slice from a DataFrame.\n",
      "Try using .loc[row_indexer,col_indexer] = value instead\n",
      "\n",
      "See the caveats in the documentation: http://pandas.pydata.org/pandas-docs/stable/indexing.html#indexing-view-versus-copy\n",
      "C:\\Users\\Leah\\Anaconda3\\lib\\site-packages\\ipykernel_launcher.py:29: SettingWithCopyWarning: \n",
      "A value is trying to be set on a copy of a slice from a DataFrame.\n",
      "Try using .loc[row_indexer,col_indexer] = value instead\n",
      "\n",
      "See the caveats in the documentation: http://pandas.pydata.org/pandas-docs/stable/indexing.html#indexing-view-versus-copy\n",
      "C:\\Users\\Leah\\Anaconda3\\lib\\site-packages\\ipykernel_launcher.py:31: SettingWithCopyWarning: \n",
      "A value is trying to be set on a copy of a slice from a DataFrame.\n",
      "Try using .loc[row_indexer,col_indexer] = value instead\n",
      "\n",
      "See the caveats in the documentation: http://pandas.pydata.org/pandas-docs/stable/indexing.html#indexing-view-versus-copy\n",
      "C:\\Users\\Leah\\Anaconda3\\lib\\site-packages\\ipykernel_launcher.py:32: SettingWithCopyWarning: \n",
      "A value is trying to be set on a copy of a slice from a DataFrame.\n",
      "Try using .loc[row_indexer,col_indexer] = value instead\n",
      "\n",
      "See the caveats in the documentation: http://pandas.pydata.org/pandas-docs/stable/indexing.html#indexing-view-versus-copy\n",
      "C:\\Users\\Leah\\Anaconda3\\lib\\site-packages\\ipykernel_launcher.py:34: SettingWithCopyWarning: \n",
      "A value is trying to be set on a copy of a slice from a DataFrame.\n",
      "Try using .loc[row_indexer,col_indexer] = value instead\n",
      "\n",
      "See the caveats in the documentation: http://pandas.pydata.org/pandas-docs/stable/indexing.html#indexing-view-versus-copy\n",
      "C:\\Users\\Leah\\Anaconda3\\lib\\site-packages\\ipykernel_launcher.py:35: SettingWithCopyWarning: \n",
      "A value is trying to be set on a copy of a slice from a DataFrame.\n",
      "Try using .loc[row_indexer,col_indexer] = value instead\n",
      "\n",
      "See the caveats in the documentation: http://pandas.pydata.org/pandas-docs/stable/indexing.html#indexing-view-versus-copy\n"
     ]
    }
   ],
   "source": [
    "#2016\n",
    "df_emp['EmploymentStatus 2016_Q1']=df_emp['EmploymentStatus 2016_Q1'].fillna('NULL')\n",
    "df_emp['EmploymentStatus 2016_Q1_code']=np.where(df_emp['EmploymentStatus 2016_Q1']=='NULL','NULL','1')\n",
    "\n",
    "df_emp['EmploymentStatus 2016_Q2']=df_emp['EmploymentStatus 2016_Q2'].fillna('NULL')\n",
    "df_emp['EmploymentStatus 2016_Q2_code']=np.where(df_emp['EmploymentStatus 2016_Q2']=='NULL','NULL','2')\n",
    "\n",
    "df_emp['EmploymentStatus_Checkin 2016_Q3']=df_emp['EmploymentStatus_Checkin 2016_Q3'].fillna('NULL')\n",
    "df_emp['EmploymentStatus_Checkin 2016_Q3_code']=np.where(df_emp['EmploymentStatus_Checkin 2016_Q3']=='NULL','NULL','3')\n",
    "\n",
    "df_emp['EmploymentStatus_Checkin 2016_Q4']=df_emp['EmploymentStatus_Checkin 2016_Q4'].fillna('NULL')\n",
    "df_emp['EmploymentStatus_Checkin 2016_Q4_code']=np.where(df_emp['EmploymentStatus_Checkin 2016_Q4']=='NULL','NULL','4')\n",
    "\n",
    "#2017\n",
    "df_emp['EmploymentStatus 2017_Q1']=df_emp['EmploymentStatus 2017_Q1'].fillna('NULL')\n",
    "df_emp['EmploymentStatus 2017_Q1_code']=np.where(df_emp['EmploymentStatus 2017_Q1']=='NULL','NULL','5')\n",
    "\n",
    "df_emp['EmploymentStatus_Checkin_2017Q2']=df_emp['EmploymentStatus_Checkin_2017Q2'].fillna('NULL')\n",
    "df_emp['EmploymentStatus_Checkin_2017Q2_code']=np.where(df_emp['EmploymentStatus_Checkin_2017Q2']=='NULL','NULL','6')\n",
    "\n",
    "df_emp['EmploymentStatus_Checkin_2017Q3']=df_emp['EmploymentStatus_Checkin_2017Q3'].fillna('NULL')\n",
    "df_emp['EmploymentStatus_Checkin_2017Q3_code']=np.where(df_emp['EmploymentStatus_Checkin_2017Q3']=='NULL','NULL','7')\n",
    "\n",
    "df_emp['EmploymentStatus_Checkin_2017Q4']=df_emp['EmploymentStatus_Checkin_2017Q4'].fillna('NULL')\n",
    "df_emp['EmploymentStatus_Checkin_2017Q4_code']=np.where(df_emp['EmploymentStatus_Checkin_2017Q4']=='NULL','NULL','8')\n",
    "\n",
    "#2018\n",
    "df_emp['EmploymentStatus_Checkin_2018Q1']=df_emp['EmploymentStatus_Checkin_2018Q1'].fillna('NULL')\n",
    "df_emp['EmploymentStatus_Checkin_2018Q1_code']=np.where(df_emp['EmploymentStatus_Checkin_2018Q1']=='NULL','NULL','9')\n",
    "\n",
    "df_emp['EmploymentStatus_Checkin_2018Q2']=df_emp['EmploymentStatus_Checkin_2018Q2'].fillna('NULL')\n",
    "df_emp['EmploymentStatus_Checkin_2018Q2_code']=np.where(df_emp['EmploymentStatus_Checkin_2018Q2']=='NULL','NULL','10')\n",
    "\n",
    "df_emp['EmploymentStatus_Checkin_2018Q3']=df_emp['EmploymentStatus_Checkin_2018Q3'].fillna('NULL')\n",
    "df_emp['EmploymentStatus_Checkin_2018Q3_code']=np.where(df_emp['EmploymentStatus_Checkin_2018Q3']=='NULL','NULL','11')"
   ]
  },
  {
   "cell_type": "code",
   "execution_count": 6,
   "metadata": {},
   "outputs": [
    {
     "name": "stderr",
     "output_type": "stream",
     "text": [
      "C:\\Users\\Leah\\Anaconda3\\lib\\site-packages\\ipykernel_launcher.py:28: SettingWithCopyWarning: \n",
      "A value is trying to be set on a copy of a slice from a DataFrame.\n",
      "Try using .loc[row_indexer,col_indexer] = value instead\n",
      "\n",
      "See the caveats in the documentation: http://pandas.pydata.org/pandas-docs/stable/indexing.html#indexing-view-versus-copy\n"
     ]
    }
   ],
   "source": [
    "#get the most recent employment status\n",
    "def get_emp(df):\n",
    "    if df['EmploymentStatus_Checkin_2018Q3_code']=='11':\n",
    "        return df['EmploymentStatus_Checkin_2018Q3']\n",
    "    elif df['EmploymentStatus_Checkin_2018Q2_code']=='10':\n",
    "        return df['EmploymentStatus_Checkin_2018Q2']\n",
    "    elif df['EmploymentStatus_Checkin_2018Q1_code']=='9':\n",
    "        return df['EmploymentStatus_Checkin_2018Q1']\n",
    "    elif df['EmploymentStatus_Checkin_2017Q4_code']=='8':\n",
    "        return df['EmploymentStatus_Checkin_2017Q4']\n",
    "    elif df['EmploymentStatus_Checkin_2017Q3_code']=='7':\n",
    "        return df['EmploymentStatus_Checkin_2017Q3']\n",
    "    elif df['EmploymentStatus_Checkin_2017Q2_code']=='6':\n",
    "        return df['EmploymentStatus_Checkin_2017Q2']\n",
    "    elif df['EmploymentStatus 2017_Q1_code']=='5':\n",
    "        return df['EmploymentStatus 2017_Q1']\n",
    "    elif df['EmploymentStatus_Checkin 2016_Q4_code']=='4':\n",
    "        return df['EmploymentStatus_Checkin 2016_Q4']\n",
    "    elif df['EmploymentStatus_Checkin 2016_Q3_code']=='3':\n",
    "        return df['EmploymentStatus_Checkin 2016_Q3']\n",
    "    elif df['EmploymentStatus 2016_Q2_code']=='2':\n",
    "        return df['EmploymentStatus 2016_Q2']\n",
    "    elif df['EmploymentStatus 2016_Q1_code']=='1':\n",
    "        return df['EmploymentStatus 2016_Q1']\n",
    "    else:\n",
    "        return 'NULL'\n",
    "    \n",
    "df_emp['EmploymentStatus_most_recent_checkin']=df_emp.apply(get_emp,axis=1)\n"
   ]
  },
  {
   "cell_type": "code",
   "execution_count": 7,
   "metadata": {},
   "outputs": [
    {
     "data": {
      "text/plain": [
       "Employed Full Time    2358\n",
       "Not Employed          1159\n",
       "NULL                  1058\n",
       "Not employed           952\n",
       "Employed Part Time     751\n",
       "Unemployed             164\n",
       "Full Time Employed     159\n",
       "Part Time Employed      34\n",
       "0                        4\n",
       "Name: EmploymentStatus_most_recent_checkin, dtype: int64"
      ]
     },
     "execution_count": 7,
     "metadata": {},
     "output_type": "execute_result"
    }
   ],
   "source": [
    "df_emp['EmploymentStatus_most_recent_checkin'].value_counts()"
   ]
  },
  {
   "cell_type": "code",
   "execution_count": 8,
   "metadata": {},
   "outputs": [],
   "source": [
    "#data dictionary to normalize text \n",
    "#remeber to drop _code columns and remove NULL values"
   ]
  },
  {
   "cell_type": "code",
   "execution_count": 9,
   "metadata": {},
   "outputs": [
    {
     "name": "stderr",
     "output_type": "stream",
     "text": [
      "C:\\Users\\Leah\\Anaconda3\\lib\\site-packages\\ipykernel_launcher.py:28: SettingWithCopyWarning: \n",
      "A value is trying to be set on a copy of a slice from a DataFrame.\n",
      "Try using .loc[row_indexer,col_indexer] = value instead\n",
      "\n",
      "See the caveats in the documentation: http://pandas.pydata.org/pandas-docs/stable/indexing.html#indexing-view-versus-copy\n"
     ]
    }
   ],
   "source": [
    "#get the most recent employment date\n",
    "def get_emp_date(df):\n",
    "    if df['EmploymentStatus_Checkin_2018Q3_code']=='11':\n",
    "        return df['EmploymentStartDate_Checkin_2018Q3']\n",
    "    elif df['EmploymentStatus_Checkin_2018Q2_code']=='10':\n",
    "        return df['EmploymentStartDate_Checkin_2018Q2']\n",
    "    elif df['EmploymentStatus_Checkin_2018Q1_code']=='9':\n",
    "        return df['EmploymentStartDate_Checkin_2018Q1']\n",
    "    elif df['EmploymentStatus_Checkin_2017Q4_code']=='8':\n",
    "        return df['EmploymentStartDate_Checkin_2017Q4']\n",
    "    elif df['EmploymentStatus_Checkin_2017Q3_code']=='7':\n",
    "        return df['EmploymentStartDate_Checkin_2017Q3']\n",
    "    elif df['EmploymentStatus_Checkin_2017Q2_code']=='6':\n",
    "        return df['EmploymentStartDate_Checkin_2017Q2']\n",
    "    elif df['EmploymentStatus 2017_Q1_code']=='5':\n",
    "        return df['EmploymentStartDate 2017_Q1']\n",
    "    elif df['EmploymentStatus_Checkin 2016_Q4_code']=='4':\n",
    "        return df['EmploymentStartDate_Checkin 2016_Q4']\n",
    "    elif df['EmploymentStatus_Checkin 2016_Q3_code']=='3':\n",
    "        return df['EmploymentStartDate_Checkin 2016_Q3']\n",
    "    elif df['EmploymentStatus 2016_Q2_code']=='2':\n",
    "        return df['EmploymentStartDate 2016_Q2']\n",
    "    elif df['EmploymentStatus 2016_Q1_code']=='1':\n",
    "        return df['EmploymentStartDate 2016_Q1']\n",
    "    else:\n",
    "        return 'NULL'\n",
    "    \n",
    "df_emp['EmploymentDate_most_recent_checkin']=df_emp.apply(get_emp_date,axis=1)\n"
   ]
  },
  {
   "cell_type": "code",
   "execution_count": 10,
   "metadata": {},
   "outputs": [
    {
     "data": {
      "text/plain": [
       "Employed Full Time    2358\n",
       "Not Employed          1159\n",
       "NULL                  1058\n",
       "Not employed           952\n",
       "Employed Part Time     751\n",
       "Unemployed             164\n",
       "Full Time Employed     159\n",
       "Part Time Employed      34\n",
       "0                        4\n",
       "Name: EmploymentStatus_most_recent_checkin, dtype: int64"
      ]
     },
     "execution_count": 10,
     "metadata": {},
     "output_type": "execute_result"
    }
   ],
   "source": [
    "df_emp['EmploymentStatus_most_recent_checkin'].value_counts()"
   ]
  },
  {
   "cell_type": "code",
   "execution_count": 11,
   "metadata": {},
   "outputs": [
    {
     "name": "stderr",
     "output_type": "stream",
     "text": [
      "C:\\Users\\Leah\\Anaconda3\\lib\\site-packages\\ipykernel_launcher.py:12: SettingWithCopyWarning: \n",
      "A value is trying to be set on a copy of a slice from a DataFrame.\n",
      "Try using .loc[row_indexer,col_indexer] = value instead\n",
      "\n",
      "See the caveats in the documentation: http://pandas.pydata.org/pandas-docs/stable/indexing.html#indexing-view-versus-copy\n",
      "  if sys.path[0] == '':\n"
     ]
    }
   ],
   "source": [
    "#mapping for employment status\n",
    "emp_mapping ={'Employed Full Time':'Employed Full Time',\n",
    "'Not Employed':'Not Employed',\n",
    "'NULL':'NULL',\n",
    "'Not employed':'Not Employed',\n",
    "'Employed Part Time':'Employed Part Time',\n",
    "'Unemployed':'Not Employed',\n",
    "'Full Time Employed':'Employed Full Time',\n",
    "'Part Time Employed':'Employed Part Time',\n",
    "0:'NULL'}\n",
    "\n",
    "df_emp['EmploymentStatus_most_recent_checkin']=df_emp['EmploymentStatus_most_recent_checkin'].map(emp_mapping)"
   ]
  },
  {
   "cell_type": "code",
   "execution_count": 12,
   "metadata": {},
   "outputs": [
    {
     "data": {
      "text/plain": [
       "Employed Full Time    2517\n",
       "Not Employed          2275\n",
       "NULL                  1062\n",
       "Employed Part Time     785\n",
       "Name: EmploymentStatus_most_recent_checkin, dtype: int64"
      ]
     },
     "execution_count": 12,
     "metadata": {},
     "output_type": "execute_result"
    }
   ],
   "source": [
    "df_emp['EmploymentStatus_most_recent_checkin'].value_counts()"
   ]
  },
  {
   "cell_type": "code",
   "execution_count": 13,
   "metadata": {},
   "outputs": [],
   "source": [
    "#drop _code columns\n",
    "drop_list = [w for w in df_emp.columns if '_code' in w]"
   ]
  },
  {
   "cell_type": "code",
   "execution_count": 14,
   "metadata": {},
   "outputs": [],
   "source": [
    "df_emp = df_emp.drop(columns = drop_list)"
   ]
  },
  {
   "cell_type": "code",
   "execution_count": 15,
   "metadata": {},
   "outputs": [],
   "source": [
    "df_emp= df_emp.replace('NULL', \"\")"
   ]
  },
  {
   "cell_type": "code",
   "execution_count": 125,
   "metadata": {},
   "outputs": [],
   "source": [
    "#why datetime calculate from 1970-01-01\n",
    "#https://stackoverflow.com/questions/2533563/why-are-dates-calculated-from-january-1st-1970\n",
    "#excel datetime starts with 1900-01-00"
   ]
  },
  {
   "cell_type": "code",
   "execution_count": null,
   "metadata": {},
   "outputs": [],
   "source": [
    "#notes:\n",
    "#https://www.google.com/search?q=excel+serial+date+number+to+pandas+datetime&rlz=1C1CHBF_enUS805US805&oq=excel+serial+date+number+to+pandas+datetime&aqs=chrome..69i57j0.7174j0j7&sourceid=chrome&ie=UTF-8\n",
    "#excel serial date number to pandas datetime\n",
    "#https://stackoverflow.com/questions/9574793/how-to-convert-a-python-datetime-datetime-to-excel-serial-date-number#comment49502311_9574948\n",
    "#https://stackoverflow.com/questions/38454403/convert-excel-style-date-with-pandas\n"
   ]
  },
  {
   "cell_type": "markdown",
   "metadata": {},
   "source": [
    "## Have NOT find the right way to convert excel time to python time"
   ]
  },
  {
   "cell_type": "code",
   "execution_count": 119,
   "metadata": {
    "scrolled": true
   },
   "outputs": [
    {
     "data": {
      "text/plain": [
       "0       37988\n",
       "1         NaN\n",
       "2       41856\n",
       "3       42352\n",
       "4         NaN\n",
       "5       42272\n",
       "6       42372\n",
       "7       42620\n",
       "8         NaN\n",
       "9       42217\n",
       "10        NaN\n",
       "11        NaN\n",
       "12        NaN\n",
       "13        NaN\n",
       "14      42232\n",
       "15        NaN\n",
       "16      41825\n",
       "17      42366\n",
       "18      42238\n",
       "19        NaN\n",
       "20      42200\n",
       "21        NaN\n",
       "22        NaN\n",
       "23      42912\n",
       "24        NaN\n",
       "25        NaN\n",
       "26        NaN\n",
       "27        NaN\n",
       "28      42259\n",
       "29      42339\n",
       "        ...  \n",
       "6609    43324\n",
       "6610    43009\n",
       "6611      NaN\n",
       "6612    43132\n",
       "6613    43299\n",
       "6614    43295\n",
       "6615    43237\n",
       "6616    43308\n",
       "6617      NaN\n",
       "6618    43313\n",
       "6619    43323\n",
       "6620    43160\n",
       "6621      NaN\n",
       "6622      NaN\n",
       "6623         \n",
       "6624         \n",
       "6625         \n",
       "6626         \n",
       "6627         \n",
       "6628         \n",
       "6629         \n",
       "6630         \n",
       "6631         \n",
       "6632         \n",
       "6633         \n",
       "6634         \n",
       "6635         \n",
       "6636         \n",
       "6637         \n",
       "6638         \n",
       "Name: EmploymentDate_most_recent_checkin, Length: 6639, dtype: object"
      ]
     },
     "execution_count": 119,
     "metadata": {},
     "output_type": "execute_result"
    }
   ],
   "source": [
    "df_emp['EmploymentDate_most_recent_checkin'] "
   ]
  },
  {
   "cell_type": "code",
   "execution_count": null,
   "metadata": {},
   "outputs": [],
   "source": []
  },
  {
   "cell_type": "markdown",
   "metadata": {},
   "source": [
    "## have to use excel to change data type first"
   ]
  },
  {
   "cell_type": "code",
   "execution_count": 19,
   "metadata": {},
   "outputs": [],
   "source": [
    "df_month = pd.read_excel(r\"C:\\Users\\Leah\\Google Drive\\Parent Folder\\2. Clients\\Local\\Dallas\\Communities Foundation of Texas\\Q32018\\Data Work\\EmploymentStatus_2018Q3_for_python.xlsx\")"
   ]
  },
  {
   "cell_type": "code",
   "execution_count": 36,
   "metadata": {},
   "outputs": [],
   "source": [
    "#df_month.iloc[:,-1]"
   ]
  },
  {
   "cell_type": "code",
   "execution_count": 54,
   "metadata": {},
   "outputs": [],
   "source": [
    "df_month['today']=pd.datetime.today()"
   ]
  },
  {
   "cell_type": "code",
   "execution_count": 74,
   "metadata": {},
   "outputs": [],
   "source": [
    "df_month['EmploymentDate_most_recent_checkin']=pd.to_datetime(df_month['EmploymentDate_most_recent_checkin'])"
   ]
  },
  {
   "cell_type": "code",
   "execution_count": 75,
   "metadata": {},
   "outputs": [],
   "source": [
    "df_month['Months'] = ((df_month['today']-df_month['EmploymentDate_most_recent_checkin'])/np.timedelta64(1, 'M'))"
   ]
  },
  {
   "cell_type": "code",
   "execution_count": 76,
   "metadata": {},
   "outputs": [],
   "source": [
    "df_month['Months']=df_month['Months'].fillna(0)"
   ]
  },
  {
   "cell_type": "code",
   "execution_count": 77,
   "metadata": {},
   "outputs": [],
   "source": [
    "df_month['Months']=df_month['Months'].astype(int)"
   ]
  },
  {
   "cell_type": "code",
   "execution_count": 79,
   "metadata": {
    "scrolled": false
   },
   "outputs": [],
   "source": [
    "def cal_month_bin(df):\n",
    "    if 0<df['Months']<3:\n",
    "        return 'Less than 3 months'\n",
    "    elif 3<=df['Months']<6:\n",
    "        return 'More than 3 months but less than 6 months'\n",
    "    elif 6<=df['Months']<9:\n",
    "        return 'More than 6 months but less than 9 months'\n",
    "    elif 9<=df['Months']<12:\n",
    "        return 'More than 9 months but less than 1 year'\n",
    "    elif 12<=df['Months']<18:\n",
    "        return 'More than 1 year but less than 1.5 year'\n",
    "    elif 18<=df['Months']<24:\n",
    "        return 'More than 1.5 year but less than 2 year'\n",
    "    elif df['Months']>=24:\n",
    "        return 'More than 2 years'\n",
    "    else:\n",
    "        return ''\n",
    "\n",
    "df_month['Month_bin']=df_month.apply(cal_month_bin,axis=1)"
   ]
  },
  {
   "cell_type": "code",
   "execution_count": 81,
   "metadata": {},
   "outputs": [],
   "source": [
    "df_month['Months']=df_month['Months'].replace(0,'')"
   ]
  },
  {
   "cell_type": "code",
   "execution_count": 80,
   "metadata": {},
   "outputs": [
    {
     "data": {
      "text/plain": [
       "                                             3427\n",
       "More than 2 years                            1668\n",
       "More than 1 year but less than 1.5 year       512\n",
       "More than 1.5 year but less than 2 year       456\n",
       "More than 9 months but less than 1 year       207\n",
       "More than 6 months but less than 9 months     197\n",
       "More than 3 months but less than 6 months     166\n",
       "Less than 3 months                              6\n",
       "Name: Month_bin, dtype: int64"
      ]
     },
     "execution_count": 80,
     "metadata": {},
     "output_type": "execute_result"
    }
   ],
   "source": [
    "df_month['Month_bin'].value_counts()"
   ]
  },
  {
   "cell_type": "code",
   "execution_count": 83,
   "metadata": {},
   "outputs": [],
   "source": [
    "df_month.to_excel('Employment_1_3.xlsx')"
   ]
  },
  {
   "cell_type": "code",
   "execution_count": 63,
   "metadata": {},
   "outputs": [],
   "source": [
    "df_test = pd.read_excel(r\"C:\\Users\\Leah\\Google Drive\\Parent Folder\\2. Clients\\Local\\Dallas\\Communities Foundation of Texas\\Q22018\\Data Work\\All_8.31_Final_bundledQ2.xlsx\")"
   ]
  },
  {
   "cell_type": "code",
   "execution_count": 67,
   "metadata": {},
   "outputs": [
    {
     "data": {
      "text/plain": [
       "                                             3155\n",
       "More than 2 years                            1250\n",
       "More than 1 year but less than 1.5 years      445\n",
       "More than 1.5 years but less than 2 years     432\n",
       "More than 9 months but less than 1 year       303\n",
       "More than 6 months but less than 9 months     192\n",
       "More than 3 months but less than 6 months     182\n",
       "Less than three months                        164\n",
       "Name: Months Employed Bin, dtype: int64"
      ]
     },
     "execution_count": 67,
     "metadata": {},
     "output_type": "execute_result"
    }
   ],
   "source": [
    "df_test['Months Employed Bin'].value_counts()"
   ]
  },
  {
   "cell_type": "code",
   "execution_count": null,
   "metadata": {},
   "outputs": [],
   "source": []
  }
 ],
 "metadata": {
  "kernelspec": {
   "display_name": "Python 3",
   "language": "python",
   "name": "python3"
  },
  "language_info": {
   "codemirror_mode": {
    "name": "ipython",
    "version": 3
   },
   "file_extension": ".py",
   "mimetype": "text/x-python",
   "name": "python",
   "nbconvert_exporter": "python",
   "pygments_lexer": "ipython3",
   "version": "3.6.5"
  }
 },
 "nbformat": 4,
 "nbformat_minor": 2
}
