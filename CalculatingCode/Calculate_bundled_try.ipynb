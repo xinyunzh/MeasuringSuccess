{
 "cells": [
  {
   "cell_type": "code",
   "execution_count": 58,
   "metadata": {},
   "outputs": [
    {
     "data": {
      "text/plain": [
       "'C:\\\\Users\\\\Leah\\\\Google Drive\\\\Parent Folder\\\\2. Clients\\\\Local\\\\Dallas\\\\Communities Foundation of Texas\\\\Q32018\\\\Data Work'"
      ]
     },
     "execution_count": 58,
     "metadata": {},
     "output_type": "execute_result"
    }
   ],
   "source": [
    "import pandas as pd\n",
    "import numpy as np\n",
    "%pwd"
   ]
  },
  {
   "cell_type": "code",
   "execution_count": 59,
   "metadata": {},
   "outputs": [],
   "source": [
    "df = pd.read_excel(r\"C:\\Users\\Leah\\Google Drive\\Parent Folder\\2. Clients\\Local\\Dallas\\Communities Foundation of Texas\\Q32018\\Data Work\\Alldata_without_formula.xlsx\")"
   ]
  },
  {
   "cell_type": "code",
   "execution_count": 3,
   "metadata": {},
   "outputs": [],
   "source": [
    "#df_baselineQ3 = df[df['QuarterBaselineSubmitted']=='2018 Q3']"
   ]
  },
  {
   "cell_type": "code",
   "execution_count": 5,
   "metadata": {},
   "outputs": [
    {
     "data": {
      "text/plain": [
       "512"
      ]
     },
     "execution_count": 5,
     "metadata": {},
     "output_type": "execute_result"
    }
   ],
   "source": [
    "#len(df_baselineQ3.index)"
   ]
  },
  {
   "cell_type": "code",
   "execution_count": 7,
   "metadata": {},
   "outputs": [
    {
     "data": {
      "text/plain": [
       "(512, 833)"
      ]
     },
     "execution_count": 7,
     "metadata": {},
     "output_type": "execute_result"
    }
   ],
   "source": [
    "#df_baselineQ3.shape"
   ]
  },
  {
   "cell_type": "code",
   "execution_count": null,
   "metadata": {},
   "outputs": [],
   "source": [
    "#BenefitsScreening_Baseline  PublicBenefitsAccess_Baseline AgencyProvidedSupport_Baseline"
   ]
  },
  {
   "cell_type": "code",
   "execution_count": 10,
   "metadata": {},
   "outputs": [
    {
     "data": {
      "text/plain": [
       "['PublicBenefitsAccess_Baseline',\n",
       " 'BenefitsAccess 2015_Q3',\n",
       " 'BenefitsAccess 2015_Q4',\n",
       " 'BenefitsAccess 2016_Q1',\n",
       " 'PublicBenefitsAccess 2016_Q2',\n",
       " 'PublicBenefitsAccess_Checkin 2016_Q3',\n",
       " 'PublicBenefitsAccess_Checkin 2016_Q4',\n",
       " 'BenefitsAccess 2017_Q1',\n",
       " 'BenefitsAccess_Checkin_2017Q2',\n",
       " 'BenefitsAccess_Checkin_2017Q3',\n",
       " 'BenefitsAccess_Checkin_2017Q4',\n",
       " 'BenefitsAccess_Checkin_2018Q1',\n",
       " 'PublicBenefitsAccess_Checkin_2018Q2',\n",
       " 'PublicBenefitsAccess_Checkin_2018Q3']"
      ]
     },
     "execution_count": 10,
     "metadata": {},
     "output_type": "execute_result"
    }
   ],
   "source": [
    "#this part for calculating bundled services for baseline might not be useful\n",
    "#*****************************************************\n",
    "#calculate AccessIncome for baseline\n",
    "[w for w in df.columns if 'BenefitsAccess' in w]"
   ]
  },
  {
   "cell_type": "code",
   "execution_count": 15,
   "metadata": {},
   "outputs": [],
   "source": [
    "#fill na with NA\n",
    "df['BenefitsScreening_Baseline'] = df['BenefitsScreening_Baseline'].fillna(value='NULL')\n",
    "df['PublicBenefitsAccess_Baseline'] = df['PublicBenefitsAccess_Baseline'].fillna(value='NULL')\n",
    "df['AgencyProvidedSupport_Baseline'] = df['AgencyProvidedSupport_Baseline'].fillna(value='NULL')"
   ]
  },
  {
   "cell_type": "code",
   "execution_count": 16,
   "metadata": {},
   "outputs": [],
   "source": [
    "conditions1 = [\n",
    "    (df['BenefitsScreening_Baseline']=='Yes')|(df['PublicBenefitsAccess_Baseline']=='Yes')|(df['AgencyProvidedSupport_Baseline']=='Yes')\n",
    "]\n",
    "choices1 = ['Yes']\n",
    "df['AccessIncome_Baseline_code1']=np.select(conditions1,choices1,default='No')"
   ]
  },
  {
   "cell_type": "code",
   "execution_count": 17,
   "metadata": {},
   "outputs": [
    {
     "data": {
      "text/plain": [
       "Yes    4556\n",
       "No     2083\n",
       "Name: AccessIncome_Baseline_code1, dtype: int64"
      ]
     },
     "execution_count": 17,
     "metadata": {},
     "output_type": "execute_result"
    }
   ],
   "source": [
    "df['AccessIncome_Baseline_code1'].value_counts()"
   ]
  },
  {
   "cell_type": "code",
   "execution_count": 19,
   "metadata": {},
   "outputs": [],
   "source": [
    "conditions2 = [\n",
    "    (df['BenefitsScreening_Baseline']=='NULL') & (df['PublicBenefitsAccess_Baseline']=='NULL') & (df['AgencyProvidedSupport_Baseline']=='NULL')\n",
    "]\n",
    "choices2 = ['NULL']\n",
    "df['AccessIncome_Baseline_code2'] = np.select(conditions2, choices2,\"\")"
   ]
  },
  {
   "cell_type": "code",
   "execution_count": 20,
   "metadata": {},
   "outputs": [
    {
     "data": {
      "text/plain": [
       "        5348\n",
       "NULL    1291\n",
       "Name: AccessIncome_Baseline_code2, dtype: int64"
      ]
     },
     "execution_count": 20,
     "metadata": {},
     "output_type": "execute_result"
    }
   ],
   "source": [
    "df['AccessIncome_Baseline_code2'].value_counts()"
   ]
  },
  {
   "cell_type": "code",
   "execution_count": 22,
   "metadata": {},
   "outputs": [],
   "source": [
    "conditions3 = [\n",
    "    (df['AccessIncome_Baseline_code2']=='NULL')\n",
    "]\n",
    "choices3 = ['NULL']\n",
    "df['AccessIncome_Baseline']=np.select(conditions3,choices3,df['AccessIncome_Baseline_code1'])"
   ]
  },
  {
   "cell_type": "code",
   "execution_count": 23,
   "metadata": {},
   "outputs": [
    {
     "data": {
      "text/plain": [
       "Yes     4556\n",
       "NULL    1291\n",
       "No       792\n",
       "Name: AccessIncome_Baseline, dtype: int64"
      ]
     },
     "execution_count": 23,
     "metadata": {},
     "output_type": "execute_result"
    }
   ],
   "source": [
    "df['AccessIncome_Baseline'].value_counts()"
   ]
  },
  {
   "cell_type": "code",
   "execution_count": null,
   "metadata": {},
   "outputs": [],
   "source": [
    "AccessFinancialCoach_Baseline   AccessEmployment_Baseline"
   ]
  },
  {
   "cell_type": "code",
   "execution_count": 25,
   "metadata": {},
   "outputs": [
    {
     "data": {
      "text/plain": [
       "['AccessEmployment_Baseline',\n",
       " 'AccessEmployment 2015_Q4',\n",
       " 'AccessEmployment 2016_Q1',\n",
       " 'AccessEmployment 2016_Q2',\n",
       " 'AccessEmployment_Checkin 2016_Q3',\n",
       " 'AccessEmployment_Checkin 2016_Q4',\n",
       " 'AccessEmployment_Checkin 2016_Q4.1',\n",
       " 'AccessEmployment 2017_Q1',\n",
       " 'AccessEmployment BS 2017_Q1',\n",
       " 'AccessEmployment_Checkin_2017Q2',\n",
       " 'AccessEmployment_Checkin_2017Q3',\n",
       " 'AccessEmployment_Checkin_2017Q4',\n",
       " 'AccessEmployment_Checkin_2018Q1',\n",
       " 'AccessEmployment_Checkin_2018Q2',\n",
       " 'AccessEmployment_Checkin_2018Q3',\n",
       " 'AccessEmployment_Checkin_2018Q3.1',\n",
       " 'AccessEmployment_All Time2']"
      ]
     },
     "execution_count": 25,
     "metadata": {},
     "output_type": "execute_result"
    }
   ],
   "source": [
    "#calculate bundled services\n",
    "[w for w in df.columns if 'AccessEmployment' in w]"
   ]
  },
  {
   "cell_type": "code",
   "execution_count": 26,
   "metadata": {},
   "outputs": [
    {
     "data": {
      "text/plain": [
       "Yes     4090\n",
       "No      1732\n",
       "13.5       1\n",
       "12         1\n",
       "Name: AccessFinancialCoach_Baseline, dtype: int64"
      ]
     },
     "execution_count": 26,
     "metadata": {},
     "output_type": "execute_result"
    }
   ],
   "source": [
    "df['AccessFinancialCoach_Baseline'].value_counts()"
   ]
  },
  {
   "cell_type": "code",
   "execution_count": 28,
   "metadata": {},
   "outputs": [
    {
     "data": {
      "text/plain": [
       "Yes    3915\n",
       "No     2290\n",
       "Name: AccessEmployment_Baseline, dtype: int64"
      ]
     },
     "execution_count": 28,
     "metadata": {},
     "output_type": "execute_result"
    }
   ],
   "source": [
    "df['AccessEmployment_Baseline'].value_counts()"
   ]
  },
  {
   "cell_type": "code",
   "execution_count": 30,
   "metadata": {},
   "outputs": [],
   "source": [
    "#***************************************************************************"
   ]
  },
  {
   "cell_type": "code",
   "execution_count": 31,
   "metadata": {},
   "outputs": [],
   "source": [
    "#calculate bundled services all time\n",
    "#1. when bundled services AllTime is blank, \n",
    "    #take 2018Q3 data\n",
    "#2. when bundled services2018Q3 data =3, \n",
    "    #take 2018Q3 data\n",
    "#3. when bundled services2018Q3 data are 0, \n",
    "    #nothing will change\n",
    "#4. when bundled services2018Q3 data =2, bundled services AllTime =2,\n",
    "    #a.if (Q3 and AllTime are identical)AIQ3 = AIall, AEQ3 = AEall, AFQ3 = AFall, then keep AIQ3, AEQ3, AFQ3\n",
    "    #b.if (Q3 and AllTime are not identical), return Y Y Y 3\n",
    "#5. when bundled services2018Q3 data =2, bundled services AllTime =1,\n",
    "    #a.if locN.q3 not equal to locY.alltime,  keep AIQ3, AEQ3, AFQ3\n",
    "    #b.if locN.q3 = locY.alltime, return Y Y Y 3\n",
    "#6. when bundled services2018Q3 data =1, bundled services AllTime =2,\n",
    "    #a.if locY.q3 = locN.alltime, return Y Y Y 3\n",
    "    #b.if locY.q3 not equal to locN.alltime, keep AIalltime, AEalltime, AFalltime\n",
    "#7. when bundled services2018Q3 data =1, bundled servcices AllTime =1,\n",
    "    #a.if loc(Q3 and AllTime are identical)AIQ3 = AIall, AEQ3 = AEall, AFQ3 = AFall, then keep AIQ3, AEQ3, AFQ3\n",
    "    #b.if (Q3 and AllTime are not identical), return based on their merge. but BSalltime will = 2 \n"
   ]
  },
  {
   "cell_type": "code",
   "execution_count": 57,
   "metadata": {},
   "outputs": [
    {
     "data": {
      "text/plain": [
       "['AccessIncome_All Time',\n",
       " 'AccessEmployment_All Time2',\n",
       " 'AccessFinancialCoach_All Time',\n",
       " 'Bundled Services_All Time']"
      ]
     },
     "execution_count": 57,
     "metadata": {},
     "output_type": "execute_result"
    }
   ],
   "source": [
    "[w for w in df.columns if 'All' in w]"
   ]
  },
  {
   "cell_type": "code",
   "execution_count": 60,
   "metadata": {},
   "outputs": [],
   "source": [
    "#2. when bundled services2018Q3 data =3, \n",
    "    #take 2018Q3 data\n",
    "df.loc[df['BundledServices_Checkin_2018Q3']==3,'Bundled Services_All Time'] = 3\n",
    "df.loc[df['BundledServices_Checkin_2018Q3']==3,'AccessFinancialCoach_All Time'] = 'Yes'\n",
    "df.loc[df['BundledServices_Checkin_2018Q3']==3,'AccessEmployment_All Time2'] = 'Yes'\n",
    "df.loc[df['BundledServices_Checkin_2018Q3']==3,'AccessIncome_All Time'] = 'Yes'"
   ]
  },
  {
   "cell_type": "code",
   "execution_count": 55,
   "metadata": {},
   "outputs": [],
   "source": [
    "#1. when bundled services AllTime is blank, \n",
    "    #take 2018Q3 data\n",
    "\n",
    "df.loc[df['Bundled Services_All Time'].isnull(),'Bundled Services_All Time'] = df['BundledServices_Checkin_2018Q3']\n",
    "df.loc[df['Bundled Services_All Time'].isnull(),'AccessFinancialCoach_All Time'] = df['AccessFinancialCoach_Checkin_2018Q3']\n",
    "df.loc[df['Bundled Services_All Time'].isnull(),'AccessEmployment_All Time2'] = df['AccessEmployment_Checkin_2018Q3']\n",
    "df.loc[df['Bundled Services_All Time'].isnull(),'AccessIncome_All Time'] = df['AccessIncome_Checkin_2018Q3']"
   ]
  },
  {
   "cell_type": "code",
   "execution_count": 61,
   "metadata": {},
   "outputs": [],
   "source": [
    "df.to_excel('see.xlsx')"
   ]
  },
  {
   "cell_type": "code",
   "execution_count": 51,
   "metadata": {},
   "outputs": [],
   "source": [
    "#2. when bundled services2018Q3 data =3, \n",
    "    #take 2018Q3 data\n",
    "df.loc[df['BundledServices_Checkin_2018Q3']==3,'Bundled Services_All Time'] = df['BundledServices_Checkin_2018Q3']\n",
    "df.loc[df['BundledServices_Checkin_2018Q3']==3,'AccessFinancialCoach_All Time'] = df['AccessFinancialCoach_Checkin_2018Q3']\n",
    "df.loc[df['BundledServices_Checkin_2018Q3']==3,'AccessEmployment_All Time2'] = df['AccessEmployment_Checkin_2018Q3']\n",
    "df.loc[df['BundledServices_Checkin_2018Q3']==3,'AccessIncome_All Time'] = df['AccessIncome_Checkin_2018Q3']"
   ]
  },
  {
   "cell_type": "code",
   "execution_count": 46,
   "metadata": {},
   "outputs": [],
   "source": [
    "#3. when bundled services2018Q3 data are 0, \n",
    "    #nothing will change"
   ]
  },
  {
   "cell_type": "code",
   "execution_count": 52,
   "metadata": {},
   "outputs": [],
   "source": [
    "df.to_excel('AllData_12_17.xlsx')"
   ]
  },
  {
   "cell_type": "code",
   "execution_count": null,
   "metadata": {},
   "outputs": [],
   "source": [
    "#df.loc[df['BundledServices_Checkin_2018Q3']>df['Bundled Services_All Time'],['AccessIncome_Checkin_2018Q3','AccessEmployment_Checkin_2018Q3','AccessFinancialCoach_Checkin_2018Q3','BundledServices_Checkin_2018Q3','AccessIncome_All Time','AccessEmployment_All Time2','AccessFinancialCoach_All Time','Bundled Services_All Time']]"
   ]
  },
  {
   "cell_type": "code",
   "execution_count": null,
   "metadata": {},
   "outputs": [],
   "source": [
    "#df[df['BundledServices_Checkin_2018Q3']>df['Bundled Services_All Time']]"
   ]
  },
  {
   "cell_type": "code",
   "execution_count": null,
   "metadata": {},
   "outputs": [],
   "source": []
  }
 ],
 "metadata": {
  "kernelspec": {
   "display_name": "Python 3",
   "language": "python",
   "name": "python3"
  },
  "language_info": {
   "codemirror_mode": {
    "name": "ipython",
    "version": 3
   },
   "file_extension": ".py",
   "mimetype": "text/x-python",
   "name": "python",
   "nbconvert_exporter": "python",
   "pygments_lexer": "ipython3",
   "version": "3.6.5"
  }
 },
 "nbformat": 4,
 "nbformat_minor": 2
}
