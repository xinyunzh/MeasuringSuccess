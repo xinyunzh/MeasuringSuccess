{
 "cells": [
  {
   "cell_type": "code",
   "execution_count": 28,
   "metadata": {},
   "outputs": [
    {
     "data": {
      "text/plain": [
       "'C:\\\\Users\\\\Leah\\\\Google Drive\\\\Parent Folder\\\\2. Clients\\\\Local\\\\Dallas\\\\Communities Foundation of Texas\\\\Q32018\\\\Data Work'"
      ]
     },
     "execution_count": 28,
     "metadata": {},
     "output_type": "execute_result"
    }
   ],
   "source": [
    "import pandas as pd\n",
    "import numpy as np\n",
    "%pwd"
   ]
  },
  {
   "cell_type": "code",
   "execution_count": 29,
   "metadata": {},
   "outputs": [],
   "source": [
    "df = pd.read_excel(r\"C:\\Users\\Leah\\Google Drive\\Parent Folder\\2. Clients\\Local\\Dallas\\Communities Foundation of Texas\\Q32018\\Data Work\\Alldata_1_7.xlsx\")"
   ]
  },
  {
   "cell_type": "code",
   "execution_count": 30,
   "metadata": {},
   "outputs": [
    {
     "data": {
      "text/plain": [
       "['Wages1_Baseline',\n",
       " 'Wages1_Baseline Cat',\n",
       " 'Wages2_Baseline',\n",
       " 'Wages_Baseline_Merged',\n",
       " 'Wages_Baseline_Merged Cat',\n",
       " 'Wages1 2016_Q1',\n",
       " 'Wages1 2016_Q1 Cat',\n",
       " 'Wages2 2016_Q1',\n",
       " 'Wages1and2Combined 2016_Q1',\n",
       " 'Wages1 2016_Q2',\n",
       " 'Wages1 2016_Q2 Cat',\n",
       " 'Wages2 2016_Q2',\n",
       " 'Wages1_Checkin 2016_Q3',\n",
       " 'Wages1_Checkin 2016_Q3 Cat',\n",
       " 'Wages2_Checkin 2016_Q3',\n",
       " 'Wages1_Checkin 2016_Q4',\n",
       " 'Wages1_Checkin 2016_Q4 Cat',\n",
       " 'Wages2_Checkin 2016_Q4',\n",
       " 'Wages1 2017_Q1',\n",
       " 'Wages1 2017_Q1 Cat',\n",
       " 'Wages2 2017_Q1',\n",
       " 'Wages1_Checkin_2017Q2',\n",
       " 'Wages1_Checkin_CAT_2017Q2',\n",
       " 'Wages2_Checkin_2017Q2',\n",
       " 'Wages1_Checkin_2017Q3',\n",
       " 'Wages1_Checkin_2017Q3 Cat',\n",
       " 'Wages2_Checkin_2017Q3',\n",
       " 'Wages Merged_Checkin_2017Q3',\n",
       " 'Wages Merged_Checkin_2017Q3 Cat',\n",
       " 'Wages1_Checkin_2017Q4',\n",
       " 'Wages2_Checkin_2017Q4',\n",
       " 'Wages Merged_Checkin_2017Q4',\n",
       " 'Wages Merged_Checkin_Cat_2017Q4',\n",
       " 'Wages1_Checkin_2018Q1',\n",
       " 'Wages2_Checkin_2018Q1',\n",
       " 'Wages Merged_Checkin_2018Q1',\n",
       " 'Wages Merged_Checkin_Cat_2018Q1',\n",
       " 'Wages1_Checkin_2018Q2',\n",
       " 'Wages2_Checkin_2018Q2',\n",
       " 'Wages Merged_Checkin_2018Q2',\n",
       " 'Wages Merged_Checkin_Cat_2018Q2',\n",
       " 'Wages1_Checkin_2018Q3',\n",
       " 'Wages2_Checkin_2018Q3',\n",
       " 'Wages Merged_Checkin_2018Q3',\n",
       " 'Wages Merged_Cat_Checkin_2018Q3']"
      ]
     },
     "execution_count": 30,
     "metadata": {},
     "output_type": "execute_result"
    }
   ],
   "source": [
    "[w for w in df.columns if 'Wages' in w]"
   ]
  },
  {
   "cell_type": "markdown",
   "metadata": {},
   "source": [
    "### calculate for wages merged 2016Q2"
   ]
  },
  {
   "cell_type": "code",
   "execution_count": 31,
   "metadata": {},
   "outputs": [],
   "source": [
    "df['Wages1 2016_Q2_recode'] = df['Wages1 2016_Q2'].fillna(0)\n",
    "df['Wages2 2016_Q2_recode'] = df['Wages2 2016_Q2'].fillna(0)"
   ]
  },
  {
   "cell_type": "code",
   "execution_count": 32,
   "metadata": {},
   "outputs": [],
   "source": [
    "df['Wages_Merged_2016Q2'] = np.where(df['Wages1 2016_Q2_recode']>=df['Wages2 2016_Q2_recode'],df['Wages1 2016_Q2_recode'],df['Wages2 2016_Q2_recode'])"
   ]
  },
  {
   "cell_type": "code",
   "execution_count": 33,
   "metadata": {},
   "outputs": [],
   "source": [
    "df['Wages1 2016_Q2_recode2']= df['Wages1 2016_Q2'].fillna('N')\n",
    "\n",
    "df['Wages2 2016_Q2_recode2']= df['Wages2 2016_Q2'].fillna('N')"
   ]
  },
  {
   "cell_type": "code",
   "execution_count": 34,
   "metadata": {},
   "outputs": [],
   "source": [
    "df['Wages_Merged_2016Q2'] = np.where(df['Wages1 2016_Q2_recode2'] =='N', \"\", df['Wages_Merged_2016Q2'])\n",
    "\n",
    "df['Wages_Merged_2016Q2'] = np.where(df['Wages2 2016_Q2_recode2'] ==df['Wages1 2016_Q2_recode2'], \"\", df['Wages_Merged_2016Q2'])"
   ]
  },
  {
   "cell_type": "code",
   "execution_count": 35,
   "metadata": {},
   "outputs": [],
   "source": [
    "df['Wages_Merged_2016Q2']=df['Wages_Merged_2016Q2'].replace('N',\"\")"
   ]
  },
  {
   "cell_type": "code",
   "execution_count": 36,
   "metadata": {},
   "outputs": [],
   "source": [
    "df['Wages_Merged_2016Q2']=pd.to_numeric(df['Wages_Merged_2016Q2'] )"
   ]
  },
  {
   "cell_type": "markdown",
   "metadata": {},
   "source": [
    "### calculate for wages merged 2016Q3"
   ]
  },
  {
   "cell_type": "code",
   "execution_count": 37,
   "metadata": {},
   "outputs": [],
   "source": [
    "df['Wages1_2016_Q3_recode'] = df['Wages1_Checkin 2016_Q3'].fillna(0)\n",
    "df['Wages2_2016_Q3_recode'] = df['Wages2_Checkin 2016_Q3'].fillna(0)"
   ]
  },
  {
   "cell_type": "code",
   "execution_count": 39,
   "metadata": {},
   "outputs": [],
   "source": [
    "df['Wages_Merged_2016Q3'] = np.where(df['Wages1_2016_Q3_recode']>=df['Wages2_2016_Q3_recode'],df['Wages1_2016_Q3_recode'],df['Wages2_2016_Q3_recode'])"
   ]
  },
  {
   "cell_type": "code",
   "execution_count": 40,
   "metadata": {},
   "outputs": [],
   "source": [
    "df['Wages1_2016_Q3_recode2']= df['Wages1_Checkin 2016_Q3'].fillna('N')\n",
    "\n",
    "df['Wages2_2016_Q3_recode2']= df['Wages2_Checkin 2016_Q3'].fillna('N')"
   ]
  },
  {
   "cell_type": "code",
   "execution_count": 41,
   "metadata": {},
   "outputs": [],
   "source": [
    "df['Wages_Merged_2016Q3'] = np.where(df['Wages1_2016_Q3_recode2'] =='N', \"\", df['Wages_Merged_2016Q3'])\n",
    "\n",
    "df['Wages_Merged_2016Q3'] = np.where(df['Wages2_2016_Q3_recode2'] ==df['Wages1_2016_Q3_recode2'], \"\", df['Wages_Merged_2016Q3'])"
   ]
  },
  {
   "cell_type": "code",
   "execution_count": 42,
   "metadata": {},
   "outputs": [],
   "source": [
    "df['Wages_Merged_2016Q3']=df['Wages_Merged_2016Q3'].replace('N',\"\")"
   ]
  },
  {
   "cell_type": "code",
   "execution_count": 43,
   "metadata": {},
   "outputs": [],
   "source": [
    "df['Wages_Merged_2016Q3']=pd.to_numeric(df['Wages_Merged_2016Q3'])"
   ]
  },
  {
   "cell_type": "markdown",
   "metadata": {},
   "source": [
    "### calculate for wages merged 2016Q4"
   ]
  },
  {
   "cell_type": "code",
   "execution_count": 44,
   "metadata": {},
   "outputs": [],
   "source": [
    "df['Wages1_2016_Q4_recode'] = df['Wages1_Checkin 2016_Q4'].fillna(0)\n",
    "df['Wages2_2016_Q4_recode'] = df['Wages2_Checkin 2016_Q4'].fillna(0)"
   ]
  },
  {
   "cell_type": "code",
   "execution_count": 45,
   "metadata": {},
   "outputs": [],
   "source": [
    "df['Wages_Merged_2016Q4'] = np.where(df['Wages1_2016_Q4_recode']>=df['Wages2_2016_Q4_recode'],df['Wages1_2016_Q4_recode'],df['Wages2_2016_Q4_recode'])"
   ]
  },
  {
   "cell_type": "code",
   "execution_count": 46,
   "metadata": {},
   "outputs": [],
   "source": [
    "df['Wages1_2016_Q4_recode2']= df['Wages1_Checkin 2016_Q4'].fillna('N')\n",
    "\n",
    "df['Wages2_2016_Q4_recode2']= df['Wages2_Checkin 2016_Q4'].fillna('N')"
   ]
  },
  {
   "cell_type": "code",
   "execution_count": 47,
   "metadata": {},
   "outputs": [],
   "source": [
    "df['Wages_Merged_2016Q4'] = np.where(df['Wages1_2016_Q4_recode2'] =='N', \"\", df['Wages_Merged_2016Q4'])\n",
    "\n",
    "df['Wages_Merged_2016Q4'] = np.where(df['Wages2_2016_Q4_recode2'] ==df['Wages1_2016_Q4_recode2'], \"\", df['Wages_Merged_2016Q4'])"
   ]
  },
  {
   "cell_type": "code",
   "execution_count": 48,
   "metadata": {},
   "outputs": [],
   "source": [
    "df['Wages_Merged_2016Q4']=df['Wages_Merged_2016Q4'].replace('N',\"\")"
   ]
  },
  {
   "cell_type": "code",
   "execution_count": 49,
   "metadata": {},
   "outputs": [],
   "source": [
    "df['Wages_Merged_2016Q4']=pd.to_numeric(df['Wages_Merged_2016Q4'])"
   ]
  },
  {
   "cell_type": "markdown",
   "metadata": {},
   "source": [
    "### calculate for wages merged 2017Q1"
   ]
  },
  {
   "cell_type": "code",
   "execution_count": 53,
   "metadata": {},
   "outputs": [],
   "source": [
    "df['Wages1_2017_Q1_recode'] = df['Wages1 2017_Q1'].fillna(0)\n",
    "df['Wages2_2017_Q1_recode'] = df['Wages2 2017_Q1'].fillna(0)"
   ]
  },
  {
   "cell_type": "code",
   "execution_count": 54,
   "metadata": {},
   "outputs": [],
   "source": [
    "df['Wages_Merged_2017Q1'] = np.where(df['Wages1_2017_Q1_recode']>=df['Wages2_2017_Q1_recode'],df['Wages1_2017_Q1_recode'],df['Wages2_2017_Q1_recode'])"
   ]
  },
  {
   "cell_type": "code",
   "execution_count": 55,
   "metadata": {},
   "outputs": [],
   "source": [
    "df['Wages1_2017_Q1_recode2']= df['Wages1 2017_Q1'].fillna('N')\n",
    "\n",
    "df['Wages2_2017_Q1_recode2']= df['Wages2 2017_Q1'].fillna('N')"
   ]
  },
  {
   "cell_type": "code",
   "execution_count": 56,
   "metadata": {},
   "outputs": [],
   "source": [
    "df['Wages_Merged_2017Q1'] = np.where(df['Wages1_2017_Q1_recode2'] =='N', \"\", df['Wages_Merged_2017Q1'])\n",
    "\n",
    "df['Wages_Merged_2017Q1'] = np.where(df['Wages2_2017_Q1_recode2'] ==df['Wages1_2017_Q1_recode2'], \"\", df['Wages_Merged_2017Q1'])"
   ]
  },
  {
   "cell_type": "code",
   "execution_count": 57,
   "metadata": {},
   "outputs": [],
   "source": [
    "df['Wages_Merged_2017Q1']=df['Wages_Merged_2017Q1'].replace('N',\"\")"
   ]
  },
  {
   "cell_type": "code",
   "execution_count": 58,
   "metadata": {},
   "outputs": [],
   "source": [
    "df['Wages_Merged_2017Q1']=pd.to_numeric(df['Wages_Merged_2017Q1'])"
   ]
  },
  {
   "cell_type": "markdown",
   "metadata": {},
   "source": [
    "### calculate for wages merged 2017Q2"
   ]
  },
  {
   "cell_type": "code",
   "execution_count": 60,
   "metadata": {},
   "outputs": [],
   "source": [
    "df['Wages1_2017_Q2_recode'] = df['Wages1_Checkin_2017Q2'].fillna(0)\n",
    "df['Wages2_2017_Q2_recode'] = df['Wages2_Checkin_2017Q2'].fillna(0)"
   ]
  },
  {
   "cell_type": "code",
   "execution_count": 61,
   "metadata": {},
   "outputs": [],
   "source": [
    "df['Wages_Merged_2017Q2'] = np.where(df['Wages1_2017_Q2_recode']>=df['Wages2_2017_Q2_recode'],df['Wages1_2017_Q2_recode'],df['Wages2_2017_Q2_recode'])"
   ]
  },
  {
   "cell_type": "code",
   "execution_count": 62,
   "metadata": {},
   "outputs": [],
   "source": [
    "df['Wages1_2017_Q2_recode2']= df['Wages1_Checkin_2017Q2'].fillna('N')\n",
    "df['Wages2_2017_Q2_recode2']= df['Wages2_Checkin_2017Q2'].fillna('N')"
   ]
  },
  {
   "cell_type": "code",
   "execution_count": 63,
   "metadata": {},
   "outputs": [],
   "source": [
    "df['Wages_Merged_2017Q2'] = np.where(df['Wages1_2017_Q2_recode2'] =='N', \"\", df['Wages_Merged_2017Q2'])\n",
    "df['Wages_Merged_2017Q2'] = np.where(df['Wages2_2017_Q2_recode2'] ==df['Wages1_2017_Q2_recode2'], \"\", df['Wages_Merged_2017Q2'])"
   ]
  },
  {
   "cell_type": "code",
   "execution_count": 64,
   "metadata": {},
   "outputs": [],
   "source": [
    "df['Wages_Merged_2017Q2']=df['Wages_Merged_2017Q2'].replace('N',\"\")"
   ]
  },
  {
   "cell_type": "code",
   "execution_count": 65,
   "metadata": {},
   "outputs": [],
   "source": [
    "df['Wages_Merged_2017Q2']=pd.to_numeric(df['Wages_Merged_2017Q2'])"
   ]
  },
  {
   "cell_type": "code",
   "execution_count": 66,
   "metadata": {},
   "outputs": [],
   "source": [
    "drop_list = [w for w in df.columns if 'recode' in w]"
   ]
  },
  {
   "cell_type": "code",
   "execution_count": 68,
   "metadata": {},
   "outputs": [],
   "source": [
    "df=df.drop(columns=drop_list)"
   ]
  },
  {
   "cell_type": "code",
   "execution_count": 69,
   "metadata": {},
   "outputs": [],
   "source": [
    "df.to_excel('alldata_wage_merged.xlsx')"
   ]
  },
  {
   "cell_type": "code",
   "execution_count": null,
   "metadata": {},
   "outputs": [],
   "source": []
  }
 ],
 "metadata": {
  "kernelspec": {
   "display_name": "Python 3",
   "language": "python",
   "name": "python3"
  },
  "language_info": {
   "codemirror_mode": {
    "name": "ipython",
    "version": 3
   },
   "file_extension": ".py",
   "mimetype": "text/x-python",
   "name": "python",
   "nbconvert_exporter": "python",
   "pygments_lexer": "ipython3",
   "version": "3.6.5"
  }
 },
 "nbformat": 4,
 "nbformat_minor": 2
}
