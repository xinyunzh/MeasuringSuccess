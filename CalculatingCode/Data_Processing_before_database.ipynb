{
 "cells": [
  {
   "cell_type": "code",
   "execution_count": 492,
   "metadata": {},
   "outputs": [],
   "source": [
    "import pandas as pd\n",
    "import numpy as np"
   ]
  },
  {
   "cell_type": "code",
   "execution_count": 493,
   "metadata": {},
   "outputs": [
    {
     "data": {
      "text/plain": [
       "'0.24.2'"
      ]
     },
     "execution_count": 493,
     "metadata": {},
     "output_type": "execute_result"
    }
   ],
   "source": [
    "pd.__version__"
   ]
  },
  {
   "cell_type": "code",
   "execution_count": 494,
   "metadata": {},
   "outputs": [
    {
     "data": {
      "text/plain": [
       "'C:\\\\Users\\\\Leah Zhang\\\\Google Drive\\\\Parent Folder\\\\2. Clients\\\\Local\\\\Dallas\\\\Communities Foundation of Texas\\\\Q12019\\\\Data Work'"
      ]
     },
     "execution_count": 494,
     "metadata": {},
     "output_type": "execute_result"
    }
   ],
   "source": [
    "%pwd"
   ]
  },
  {
   "cell_type": "code",
   "execution_count": 495,
   "metadata": {},
   "outputs": [],
   "source": [
    "df_cs = pd.read_excel(r\"C:\\Users\\Leah Zhang\\Google Drive\\Parent Folder\\2. Clients\\Local\\Dallas\\Communities Foundation of Texas\\Q12019\\Discrepancies\\Discrepancies Fixed\\CitySquare_Checked_General_Fixed.xlsx\")\n",
    "df_ccd = pd.read_excel(r\"C:\\Users\\Leah Zhang\\Google Drive\\Parent Folder\\2. Clients\\Local\\Dallas\\Communities Foundation of Texas\\Q12019\\Discrepancies\\Discrepancies Fixed\\CCD_Checked_General_Fixed.xlsx\",'Data Submission Basic Template')\n",
    "df_hcc = pd.read_excel(r\"C:\\Users\\Leah Zhang\\Google Drive\\Parent Folder\\2. Clients\\Local\\Dallas\\Communities Foundation of Texas\\Q12019\\Discrepancies\\Discrepancies Fixed\\HCC_Checked General_Fixed.xlsx\",'Data Submission Basic Template')\n",
    "df_interfaith = pd.read_excel(r\"C:\\Users\\Leah Zhang\\Google Drive\\Parent Folder\\2. Clients\\Local\\Dallas\\Communities Foundation of Texas\\Q12019\\Discrepancies\\Discrepancies Fixed\\Interfaith_Checked_General_Fixed.xlsx\",'Data Submission Detail Template')\n",
    "df_irc_baseline = pd.read_excel(r\"C:\\Users\\Leah Zhang\\Google Drive\\Parent Folder\\2. Clients\\Local\\Dallas\\Communities Foundation of Texas\\Q12019\\Discrepancies\\Discrepancies Fixed\\IRC Discrepancies Q1 2019 corrected and sent 051619.xlsx\",'Baseline_Data Submission')\n",
    "df_irc_checkin = pd.read_excel(r\"C:\\Users\\Leah Zhang\\Google Drive\\Parent Folder\\2. Clients\\Local\\Dallas\\Communities Foundation of Texas\\Q12019\\Discrepancies\\Discrepancies Fixed\\IRC Discrepancies Q1 2019 corrected and sent 051619.xlsx\",'Check-in_Data Submission')\n",
    "df_jfs = pd.read_excel(r\"C:\\Users\\Leah Zhang\\Google Drive\\Parent Folder\\2. Clients\\Local\\Dallas\\Communities Foundation of Texas\\Q12019\\Discrepancies\\Discrepancies Fixed\\JFS_General_Fixed.xlsx\",'Data Submission Simple Template')\n",
    "df_metrocrest = pd.read_excel(r\"C:\\Users\\Leah Zhang\\Google Drive\\Parent Folder\\2. Clients\\Local\\Dallas\\Communities Foundation of Texas\\Q12019\\Data Submissions\\Metrocrest Q12019 Data Submission.xlsx\",'Data Submission Basic Template')\n",
    "df_sl = pd.read_excel(r\"C:\\Users\\Leah Zhang\\Google Drive\\Parent Folder\\2. Clients\\Local\\Dallas\\Communities Foundation of Texas\\Q12019\\Discrepancies\\Discrepancies Fixed\\SharingLifeDiscrepanciesFixed\\SL_Checked_General_DiscrepanciesFixed.xlsx\",'Data Submission Basic Template')\n",
    "df_wctc = pd.read_excel(r\"C:\\Users\\Leah Zhang\\Google Drive\\Parent Folder\\2. Clients\\Local\\Dallas\\Communities Foundation of Texas\\Q12019\\Discrepancies\\Discrepancies Fixed\\WCTC_Checked_General_Fixed.xlsx\",'Data Submission Basic Template')"
   ]
  },
  {
   "cell_type": "markdown",
   "metadata": {},
   "source": [
    "#### Manipulate for clientid for CCD"
   ]
  },
  {
   "cell_type": "code",
   "execution_count": 496,
   "metadata": {},
   "outputs": [],
   "source": [
    "list_of_columns = ['ClientID','Baseline', 'DOB', 'Gender', 'Race',\n",
    "       'MaritalStatus', 'HighestEd', 'HousingType', 'HHAdults', 'HHChildren',\n",
    "       'CriminalBackground', 'ZipCode', 'AccessEmployment', 'EmploymentStatus',\n",
    "       'EmploymentStartDate', 'EmploymentRetention', 'JobTrainingEnrolled',\n",
    "       'JobTrainingCompleted', 'Savings', 'CreditScore', 'Debt',\n",
    "       'AccessFinancialCoach', 'Wages1', 'Hours1', 'Wages2', 'Hours2',\n",
    "       'IncomeClient', 'IncomeHH', 'PublicBenefits', 'ExpensesHH',\n",
    "       'BenefitsScreening', 'PublicBenefitsAccess', 'AgencyProvidedSupport',\n",
    "       'FinCap_Budget', 'FinCap_Goals', 'FinCap_EmergencyFund',\n",
    "       'FinCap_AutoDeposit', 'FinCap_IncomeExpenses', 'FinCap_LateFee']"
   ]
  },
  {
   "cell_type": "code",
   "execution_count": 497,
   "metadata": {},
   "outputs": [],
   "source": [
    "df_ccd = df_ccd[list_of_columns]"
   ]
  },
  {
   "cell_type": "code",
   "execution_count": 498,
   "metadata": {},
   "outputs": [],
   "source": [
    "df_ccd['Agency']='CCD'"
   ]
  },
  {
   "cell_type": "code",
   "execution_count": 499,
   "metadata": {},
   "outputs": [],
   "source": [
    "df_interfaith = df_interfaith[list_of_columns]"
   ]
  },
  {
   "cell_type": "code",
   "execution_count": 500,
   "metadata": {},
   "outputs": [],
   "source": [
    "df_interfaith['Agency']='Interfaith'"
   ]
  },
  {
   "cell_type": "markdown",
   "metadata": {},
   "source": [
    "### might need to reindex interfaith dataframe later"
   ]
  },
  {
   "cell_type": "code",
   "execution_count": 501,
   "metadata": {},
   "outputs": [
    {
     "data": {
      "text/plain": [
       "(102, 39)"
      ]
     },
     "execution_count": 501,
     "metadata": {},
     "output_type": "execute_result"
    }
   ],
   "source": [
    "df_irc_baseline.shape"
   ]
  },
  {
   "cell_type": "code",
   "execution_count": 502,
   "metadata": {},
   "outputs": [],
   "source": [
    "df_irc_baseline = df_irc_baseline.rename(columns={'IncomeHHB':'IncomeHH'})"
   ]
  },
  {
   "cell_type": "code",
   "execution_count": 503,
   "metadata": {
    "scrolled": true
   },
   "outputs": [],
   "source": [
    "df_irc_checkin = df_irc_checkin.rename(columns={'Client ID':'ClientID'})"
   ]
  },
  {
   "cell_type": "code",
   "execution_count": 504,
   "metadata": {},
   "outputs": [],
   "source": [
    "df_irc = df_irc_baseline.append(df_irc_checkin)"
   ]
  },
  {
   "cell_type": "code",
   "execution_count": 505,
   "metadata": {},
   "outputs": [],
   "source": [
    "df_irc['Agency']='IRC'"
   ]
  },
  {
   "cell_type": "code",
   "execution_count": 506,
   "metadata": {
    "scrolled": true
   },
   "outputs": [],
   "source": [
    "df_jfs = df_jfs.rename(columns={'Client ID':'ClientID'})"
   ]
  },
  {
   "cell_type": "code",
   "execution_count": 507,
   "metadata": {},
   "outputs": [],
   "source": [
    "## converting ,string number in excel to int in pandas\n",
    "df_jfs['ClientID']=df_jfs['ClientID'].str.replace(',', '').astype('int')"
   ]
  },
  {
   "cell_type": "code",
   "execution_count": 508,
   "metadata": {},
   "outputs": [],
   "source": [
    "df_jfs['AgencyProvidedSupport']=pd.to_numeric(df_jfs['AgencyProvidedSupport'])"
   ]
  },
  {
   "cell_type": "code",
   "execution_count": 509,
   "metadata": {
    "scrolled": true
   },
   "outputs": [],
   "source": [
    "df_jfs['Agency']='JFS'"
   ]
  },
  {
   "cell_type": "code",
   "execution_count": 510,
   "metadata": {},
   "outputs": [],
   "source": [
    "df_cs['Agency']='CitySquare'"
   ]
  },
  {
   "cell_type": "code",
   "execution_count": 511,
   "metadata": {},
   "outputs": [],
   "source": [
    "df_metrocrest = df_metrocrest.rename(columns={'Client ID':'ClientID'})"
   ]
  },
  {
   "cell_type": "code",
   "execution_count": 512,
   "metadata": {},
   "outputs": [],
   "source": [
    "df_metrocrest['Agency']='Metrocrest'"
   ]
  },
  {
   "cell_type": "code",
   "execution_count": 513,
   "metadata": {},
   "outputs": [],
   "source": [
    "df_sl = df_sl.rename(columns={'Client ID':'ClientID'})"
   ]
  },
  {
   "cell_type": "code",
   "execution_count": 514,
   "metadata": {},
   "outputs": [],
   "source": [
    "df_sl['Agency']='SharingLife'"
   ]
  },
  {
   "cell_type": "code",
   "execution_count": 515,
   "metadata": {},
   "outputs": [],
   "source": [
    "df_wctc = df_wctc.rename(columns={'Client ID':'ClientID'})"
   ]
  },
  {
   "cell_type": "code",
   "execution_count": 516,
   "metadata": {},
   "outputs": [],
   "source": [
    "df_wctc['Agency']='WCTC'"
   ]
  },
  {
   "cell_type": "code",
   "execution_count": 517,
   "metadata": {},
   "outputs": [],
   "source": [
    "df_wctc['AccessEmployment']=pd.to_numeric(df_wctc['AccessEmployment'])"
   ]
  },
  {
   "cell_type": "code",
   "execution_count": 518,
   "metadata": {},
   "outputs": [],
   "source": [
    "df_hcc = df_hcc.rename(columns={'Client ID':'ClientID'})"
   ]
  },
  {
   "cell_type": "code",
   "execution_count": 519,
   "metadata": {},
   "outputs": [],
   "source": [
    "df_hcc['Agency']='HCC'"
   ]
  },
  {
   "cell_type": "markdown",
   "metadata": {},
   "source": [
    "### checking if their column names are the same"
   ]
  },
  {
   "cell_type": "code",
   "execution_count": 520,
   "metadata": {},
   "outputs": [
    {
     "data": {
      "text/plain": [
       "Index(['ClientID', 'Baseline', 'DOB', 'Gender', 'Race', 'MaritalStatus',\n",
       "       'HighestEd', 'HousingType', 'HHAdults', 'HHChildren',\n",
       "       'CriminalBackground', 'ZipCode', 'AccessEmployment', 'EmploymentStatus',\n",
       "       'EmploymentStartDate', 'EmploymentRetention', 'JobTrainingEnrolled',\n",
       "       'JobTrainingCompleted', 'Savings', 'CreditScore', 'Debt',\n",
       "       'AccessFinancialCoach', 'Wages1', 'Hours1', 'Wages2', 'Hours2',\n",
       "       'IncomeClient', 'IncomeHH', 'PublicBenefits', 'ExpensesHH',\n",
       "       'BenefitsScreening', 'PublicBenefitsAccess', 'AgencyProvidedSupport',\n",
       "       'FinCap_Budget', 'FinCap_Goals', 'FinCap_EmergencyFund',\n",
       "       'FinCap_AutoDeposit', 'FinCap_IncomeExpenses', 'FinCap_LateFee',\n",
       "       'Agency'],\n",
       "      dtype='object')"
      ]
     },
     "execution_count": 520,
     "metadata": {},
     "output_type": "execute_result"
    }
   ],
   "source": [
    "df_ccd.columns"
   ]
  },
  {
   "cell_type": "code",
   "execution_count": 521,
   "metadata": {},
   "outputs": [
    {
     "data": {
      "text/plain": [
       "Index(['ClientID', 'Baseline', 'DOB', 'Gender', 'Race', 'MaritalStatus',\n",
       "       'HighestEd', 'HousingType', 'HHAdults', 'HHChildren',\n",
       "       'CriminalBackground', 'ZipCode', 'AccessEmployment', 'EmploymentStatus',\n",
       "       'EmploymentStartDate', 'EmploymentRetention', 'JobTrainingEnrolled',\n",
       "       'JobTrainingCompleted', 'Savings', 'CreditScore', 'Debt',\n",
       "       'AccessFinancialCoach', 'Wages1', 'Hours1', 'Wages2', 'Hours2',\n",
       "       'IncomeClient', 'IncomeHH', 'PublicBenefits', 'ExpensesHH',\n",
       "       'BenefitsScreening', 'PublicBenefitsAccess', 'AgencyProvidedSupport',\n",
       "       'FinCap_Budget', 'FinCap_Goals', 'FinCap_EmergencyFund',\n",
       "       'FinCap_AutoDeposit', 'FinCap_IncomeExpenses', 'FinCap_LateFee',\n",
       "       'Agency'],\n",
       "      dtype='object')"
      ]
     },
     "execution_count": 521,
     "metadata": {},
     "output_type": "execute_result"
    }
   ],
   "source": [
    "df_hcc.columns"
   ]
  },
  {
   "cell_type": "code",
   "execution_count": 522,
   "metadata": {},
   "outputs": [
    {
     "data": {
      "text/plain": [
       "Index(['ClientID', 'Baseline', 'DOB', 'Gender', 'Race', 'MaritalStatus',\n",
       "       'HighestEd', 'HousingType', 'HHAdults', 'HHChildren',\n",
       "       'CriminalBackground', 'ZipCode', 'AccessEmployment', 'EmploymentStatus',\n",
       "       'EmploymentStartDate', 'EmploymentRetention', 'JobTrainingEnrolled',\n",
       "       'JobTrainingCompleted', 'Savings', 'CreditScore', 'Debt',\n",
       "       'AccessFinancialCoach', 'Wages1', 'Hours1', 'Wages2', 'Hours2',\n",
       "       'IncomeClient', 'IncomeHH', 'PublicBenefits', 'ExpensesHH',\n",
       "       'BenefitsScreening', 'PublicBenefitsAccess', 'AgencyProvidedSupport',\n",
       "       'FinCap_Budget', 'FinCap_Goals', 'FinCap_EmergencyFund',\n",
       "       'FinCap_AutoDeposit', 'FinCap_IncomeExpenses', 'FinCap_LateFee',\n",
       "       'Agency'],\n",
       "      dtype='object')"
      ]
     },
     "execution_count": 522,
     "metadata": {},
     "output_type": "execute_result"
    }
   ],
   "source": [
    "df_interfaith.columns"
   ]
  },
  {
   "cell_type": "code",
   "execution_count": 523,
   "metadata": {},
   "outputs": [
    {
     "data": {
      "text/plain": [
       "Index(['ClientID', 'Baseline', 'DOB', 'Gender', 'Race', 'MaritalStatus',\n",
       "       'HighestEd', 'HousingType', 'HHAdults', 'HHChildren',\n",
       "       'CriminalBackground', 'ZipCode', 'AccessEmployment', 'EmploymentStatus',\n",
       "       'EmploymentStartDate', 'EmploymentRetention', 'JobTrainingEnrolled',\n",
       "       'JobTrainingCompleted', 'Savings', 'CreditScore', 'Debt',\n",
       "       'AccessFinancialCoach', 'Wages1', 'Hours1', 'Wages2', 'Hours2',\n",
       "       'IncomeClient', 'IncomeHH', 'PublicBenefits', 'ExpensesHH',\n",
       "       'BenefitsScreening', 'PublicBenefitsAccess', 'AgencyProvidedSupport',\n",
       "       'FinCap_Budget', 'FinCap_Goals', 'FinCap_EmergencyFund',\n",
       "       'FinCap_AutoDeposit', 'FinCap_IncomeExpenses', 'FinCap_LateFee',\n",
       "       'Agency'],\n",
       "      dtype='object')"
      ]
     },
     "execution_count": 523,
     "metadata": {},
     "output_type": "execute_result"
    }
   ],
   "source": [
    "df_irc.columns"
   ]
  },
  {
   "cell_type": "code",
   "execution_count": 524,
   "metadata": {},
   "outputs": [
    {
     "data": {
      "text/plain": [
       "Index(['ClientID', 'Baseline', 'DOB', 'Gender', 'Race', 'MaritalStatus',\n",
       "       'HighestEd', 'HousingType', 'HHAdults', 'HHChildren',\n",
       "       'CriminalBackground', 'ZipCode', 'AccessEmployment', 'EmploymentStatus',\n",
       "       'EmploymentStartDate', 'EmploymentRetention', 'JobTrainingEnrolled',\n",
       "       'JobTrainingCompleted', 'Savings', 'CreditScore', 'Debt',\n",
       "       'AccessFinancialCoach', 'Wages1', 'Hours1', 'Wages2', 'Hours2',\n",
       "       'IncomeClient', 'IncomeHH', 'PublicBenefits', 'ExpensesHH',\n",
       "       'BenefitsScreening', 'PublicBenefitsAccess', 'AgencyProvidedSupport',\n",
       "       'FinCap_Budget', 'FinCap_Goals', 'FinCap_EmergencyFund',\n",
       "       'FinCap_AutoDeposit', 'FinCap_IncomeExpenses', 'FinCap_LateFee',\n",
       "       'Agency'],\n",
       "      dtype='object')"
      ]
     },
     "execution_count": 524,
     "metadata": {},
     "output_type": "execute_result"
    }
   ],
   "source": [
    "df_jfs.columns"
   ]
  },
  {
   "cell_type": "code",
   "execution_count": 525,
   "metadata": {},
   "outputs": [
    {
     "data": {
      "text/plain": [
       "Index(['ClientID', 'Baseline', 'DOB', 'Gender', 'Race', 'MaritalStatus',\n",
       "       'HighestEd', 'HousingType', 'HHAdults', 'HHChildren',\n",
       "       'CriminalBackground', 'ZipCode', 'AccessEmployment', 'EmploymentStatus',\n",
       "       'EmploymentStartDate', 'EmploymentRetention', 'JobTrainingEnrolled',\n",
       "       'JobTrainingCompleted', 'Savings', 'CreditScore', 'Debt',\n",
       "       'AccessFinancialCoach', 'Wages1', 'Hours1', 'Wages2', 'Hours2',\n",
       "       'IncomeClient', 'IncomeHH', 'PublicBenefits', 'ExpensesHH',\n",
       "       'BenefitsScreening', 'PublicBenefitsAccess', 'AgencyProvidedSupport',\n",
       "       'FinCap_Budget', 'FinCap_Goals', 'FinCap_EmergencyFund',\n",
       "       'FinCap_AutoDeposit', 'FinCap_IncomeExpenses', 'FinCap_LateFee',\n",
       "       'Agency'],\n",
       "      dtype='object')"
      ]
     },
     "execution_count": 525,
     "metadata": {},
     "output_type": "execute_result"
    }
   ],
   "source": [
    "df_metrocrest.columns"
   ]
  },
  {
   "cell_type": "code",
   "execution_count": 526,
   "metadata": {},
   "outputs": [
    {
     "data": {
      "text/plain": [
       "Index(['ClientID', 'Baseline', 'DOB', 'Gender', 'Race', 'MaritalStatus',\n",
       "       'HighestEd', 'HousingType', 'HHAdults', 'HHChildren',\n",
       "       'CriminalBackground', 'ZipCode', 'AccessEmployment', 'EmploymentStatus',\n",
       "       'EmploymentStartDate', 'EmploymentRetention', 'JobTrainingEnrolled',\n",
       "       'JobTrainingCompleted', 'Savings', 'CreditScore', 'Debt',\n",
       "       'AccessFinancialCoach', 'Wages1', 'Hours1', 'Wages2', 'Hours2',\n",
       "       'IncomeClient', 'IncomeHH', 'PublicBenefits', 'ExpensesHH',\n",
       "       'BenefitsScreening', 'PublicBenefitsAccess', 'AgencyProvidedSupport',\n",
       "       'FinCap_Budget', 'FinCap_Goals', 'FinCap_EmergencyFund',\n",
       "       'FinCap_AutoDeposit', 'FinCap_IncomeExpenses', 'FinCap_LateFee',\n",
       "       'Agency'],\n",
       "      dtype='object')"
      ]
     },
     "execution_count": 526,
     "metadata": {},
     "output_type": "execute_result"
    }
   ],
   "source": [
    "df_sl.columns"
   ]
  },
  {
   "cell_type": "code",
   "execution_count": 527,
   "metadata": {},
   "outputs": [
    {
     "data": {
      "text/plain": [
       "Index(['ClientID', 'Baseline', 'DOB', 'Gender', 'Race', 'MaritalStatus',\n",
       "       'HighestEd', 'HousingType', 'HHAdults', 'HHChildren',\n",
       "       'CriminalBackground', 'ZipCode', 'AccessEmployment', 'EmploymentStatus',\n",
       "       'EmploymentStartDate', 'EmploymentRetention', 'JobTrainingEnrolled',\n",
       "       'JobTrainingCompleted', 'Savings', 'CreditScore', 'Debt',\n",
       "       'AccessFinancialCoach', 'Wages1', 'Hours1', 'Wages2', 'Hours2',\n",
       "       'IncomeClient', 'IncomeHH', 'PublicBenefits', 'ExpensesHH',\n",
       "       'BenefitsScreening', 'PublicBenefitsAccess', 'AgencyProvidedSupport',\n",
       "       'FinCap_Budget', 'FinCap_Goals', 'FinCap_EmergencyFund',\n",
       "       'FinCap_AutoDeposit', 'FinCap_IncomeExpenses', 'FinCap_LateFee',\n",
       "       'Unnamed: 39', 'Agency'],\n",
       "      dtype='object')"
      ]
     },
     "execution_count": 527,
     "metadata": {},
     "output_type": "execute_result"
    }
   ],
   "source": [
    "df_wctc.columns"
   ]
  },
  {
   "cell_type": "code",
   "execution_count": 528,
   "metadata": {},
   "outputs": [],
   "source": [
    "df_wctc = df_wctc.drop(['Unnamed: 39'], axis=1)"
   ]
  },
  {
   "cell_type": "code",
   "execution_count": 529,
   "metadata": {
    "scrolled": true
   },
   "outputs": [],
   "source": [
    "df_cs = df_cs.drop(['Unnamed: 39', 'Unnamed: 40'], axis=1)"
   ]
  },
  {
   "cell_type": "code",
   "execution_count": 530,
   "metadata": {},
   "outputs": [],
   "source": [
    "col_dict = dict({'CitySquare':df_cs.columns,\n",
    "                'CCD': df_ccd.columns,\n",
    "                'HCC': df_hcc.columns,\n",
    "                'Interfaith': df_interfaith.columns,\n",
    "                'IRC': df_irc.columns,\n",
    "                'JFS': df_jfs.columns,\n",
    "                'Metrocrest': df_metrocrest.columns,\n",
    "                'SharingLife': df_sl.columns,\n",
    "                'WCTC': df_wctc.columns})"
   ]
  },
  {
   "cell_type": "code",
   "execution_count": 531,
   "metadata": {},
   "outputs": [],
   "source": [
    "df_col_names = pd.DataFrame.from_dict(col_dict,orient = 'columns')"
   ]
  },
  {
   "cell_type": "code",
   "execution_count": 532,
   "metadata": {},
   "outputs": [],
   "source": [
    "df_cs = df_cs.rename(columns={'CriminalBackGround':'CriminalBackground',\n",
    "                             'Fincap_Goals':'FinCap_Goals'})"
   ]
  },
  {
   "cell_type": "code",
   "execution_count": 533,
   "metadata": {
    "scrolled": true
   },
   "outputs": [],
   "source": [
    "df = df_cs.append([df_ccd,df_hcc,df_interfaith,df_irc,df_jfs,df_metrocrest,df_sl,df_wctc],ignore_index=True)"
   ]
  },
  {
   "cell_type": "code",
   "execution_count": 534,
   "metadata": {},
   "outputs": [
    {
     "data": {
      "text/plain": [
       "(1753, 40)"
      ]
     },
     "execution_count": 534,
     "metadata": {},
     "output_type": "execute_result"
    }
   ],
   "source": [
    "df.shape"
   ]
  },
  {
   "cell_type": "code",
   "execution_count": 535,
   "metadata": {},
   "outputs": [],
   "source": [
    "df['Quarter']='2019 Q1'\n",
    "\n",
    "df['Year'] = df['DOB'].dt.year\n",
    "\n",
    "#categorize DOB data\n",
    "df.loc[(df['Year'] >1920) & (df['Year']<=1930),'DOB_Cat'] ='1921-1930'\n",
    "df.loc[(df['Year'] >1930) & (df['Year']<=1940),'DOB_Cat'] ='1931-1940'\n",
    "df.loc[(df['Year'] >1940) & (df['Year']<=1950),'DOB_Cat'] ='1941-1950'\n",
    "df.loc[(df['Year'] >1950) & (df['Year']<=1960),'DOB_Cat'] ='1951-1960'\n",
    "df.loc[(df['Year'] >1960) & (df['Year']<=1970),'DOB_Cat'] ='1961-1970'\n",
    "df.loc[(df['Year'] >1970) & (df['Year']<=1980),'DOB_Cat'] ='1971-1980'\n",
    "df.loc[(df['Year'] >1980) & (df['Year']<=1990),'DOB_Cat'] ='1981-1990'\n",
    "df.loc[(df['Year'] >1990) & (df['Year']<=2000),'DOB_Cat'] ='1991-2000'\n",
    "df.loc[(df['Year'] >2000) & (df['Year']<=2010),'DOB_Cat'] ='2001-2010'\n",
    "df.loc[(df['Year'] >2999),'DOB_Cat'] ='2011+'\n",
    "\n",
    "df['date']= pd.to_datetime('2019-01-01')"
   ]
  },
  {
   "cell_type": "code",
   "execution_count": 536,
   "metadata": {},
   "outputs": [
    {
     "data": {
      "text/plain": [
       "Index(['ClientID', 'Baseline', 'DOB', 'Gender', 'Race', 'MaritalStatus',\n",
       "       'HighestEd', 'HousingType', 'HHAdults', 'HHChildren',\n",
       "       'CriminalBackground', 'ZipCode', 'AccessEmployment', 'EmploymentStatus',\n",
       "       'EmploymentStartDate', 'EmploymentRetention', 'JobTrainingEnrolled',\n",
       "       'JobTrainingCompleted', 'Savings', 'CreditScore', 'Debt',\n",
       "       'AccessFinancialCoach', 'Wages1', 'Hours1', 'Wages2', 'Hours2',\n",
       "       'IncomeClient', 'IncomeHH', 'PublicBenefits', 'ExpensesHH',\n",
       "       'BenefitsScreening', 'PublicBenefitsAccess', 'AgencyProvidedSupport',\n",
       "       'FinCap_Budget', 'FinCap_Goals', 'FinCap_EmergencyFund',\n",
       "       'FinCap_AutoDeposit', 'FinCap_IncomeExpenses', 'FinCap_LateFee',\n",
       "       'Agency', 'Quarter', 'Year', 'DOB_Cat', 'date'],\n",
       "      dtype='object')"
      ]
     },
     "execution_count": 536,
     "metadata": {},
     "output_type": "execute_result"
    }
   ],
   "source": [
    "df.columns"
   ]
  },
  {
   "cell_type": "code",
   "execution_count": 537,
   "metadata": {},
   "outputs": [],
   "source": [
    "col_demo = ['Agency', 'ClientID', 'Quarter', 'Baseline', 'DOB', 'DOB_Cat','Gender', 'Race', 'MaritalStatus',\n",
    "       'HighestEd', 'HousingType', 'HHAdults', 'HHChildren',\n",
    "       'CriminalBackground', 'ZipCode',  \n",
    "       'date']"
   ]
  },
  {
   "cell_type": "code",
   "execution_count": 538,
   "metadata": {},
   "outputs": [],
   "source": [
    "df_demo = df[col_demo]"
   ]
  },
  {
   "cell_type": "code",
   "execution_count": 539,
   "metadata": {},
   "outputs": [],
   "source": [
    "## filter out baseline ==1 to make sure only baseline data put into demographic"
   ]
  },
  {
   "cell_type": "code",
   "execution_count": 540,
   "metadata": {},
   "outputs": [],
   "source": [
    "df_demo = df_demo[df_demo['Baseline']==1]"
   ]
  },
  {
   "cell_type": "code",
   "execution_count": 541,
   "metadata": {},
   "outputs": [],
   "source": [
    "df_demo = df_demo.reset_index(drop=True)"
   ]
  },
  {
   "cell_type": "code",
   "execution_count": 542,
   "metadata": {},
   "outputs": [
    {
     "data": {
      "text/plain": [
       "(488, 16)"
      ]
     },
     "execution_count": 542,
     "metadata": {},
     "output_type": "execute_result"
    }
   ],
   "source": [
    "df_demo.shape"
   ]
  },
  {
   "cell_type": "code",
   "execution_count": 543,
   "metadata": {},
   "outputs": [],
   "source": [
    "col_emp = ['AccessEmployment', 'EmploymentStatus', 'EmploymentStartDate',\n",
    "       'EmploymentRetention', 'JobTrainingEnrolled', 'JobTrainingCompleted']"
   ]
  },
  {
   "cell_type": "code",
   "execution_count": 544,
   "metadata": {},
   "outputs": [],
   "source": [
    "df_emp = df[col_emp]"
   ]
  },
  {
   "cell_type": "code",
   "execution_count": 545,
   "metadata": {},
   "outputs": [
    {
     "data": {
      "text/plain": [
       "(1753, 6)"
      ]
     },
     "execution_count": 545,
     "metadata": {},
     "output_type": "execute_result"
    }
   ],
   "source": [
    "df_emp.shape"
   ]
  },
  {
   "cell_type": "code",
   "execution_count": 546,
   "metadata": {},
   "outputs": [],
   "source": [
    "col_financials = ['Savings', 'CreditScore', 'Debt']"
   ]
  },
  {
   "cell_type": "code",
   "execution_count": 547,
   "metadata": {},
   "outputs": [],
   "source": [
    "df_financials = df[col_financials]"
   ]
  },
  {
   "cell_type": "code",
   "execution_count": 548,
   "metadata": {},
   "outputs": [
    {
     "data": {
      "text/plain": [
       "(1753, 3)"
      ]
     },
     "execution_count": 548,
     "metadata": {},
     "output_type": "execute_result"
    }
   ],
   "source": [
    "df_financials.shape"
   ]
  },
  {
   "cell_type": "code",
   "execution_count": 549,
   "metadata": {},
   "outputs": [],
   "source": [
    "col_wages = ['Wages1', 'Hours1', 'Wages2', 'Hours2']"
   ]
  },
  {
   "cell_type": "code",
   "execution_count": 550,
   "metadata": {},
   "outputs": [],
   "source": [
    "df_wages = df[col_wages]"
   ]
  },
  {
   "cell_type": "code",
   "execution_count": 551,
   "metadata": {},
   "outputs": [
    {
     "data": {
      "text/plain": [
       "(1753, 4)"
      ]
     },
     "execution_count": 551,
     "metadata": {},
     "output_type": "execute_result"
    }
   ],
   "source": [
    "df_wages.shape"
   ]
  },
  {
   "cell_type": "code",
   "execution_count": 552,
   "metadata": {},
   "outputs": [],
   "source": [
    "col_incomeexpenses = ['IncomeClient', 'IncomeHH', 'PublicBenefits', 'ExpensesHH']"
   ]
  },
  {
   "cell_type": "code",
   "execution_count": 553,
   "metadata": {},
   "outputs": [],
   "source": [
    "df_incomeexpenses = df[col_incomeexpenses]"
   ]
  },
  {
   "cell_type": "code",
   "execution_count": 554,
   "metadata": {},
   "outputs": [
    {
     "data": {
      "text/plain": [
       "(1753, 4)"
      ]
     },
     "execution_count": 554,
     "metadata": {},
     "output_type": "execute_result"
    }
   ],
   "source": [
    "df_incomeexpenses.shape"
   ]
  },
  {
   "cell_type": "code",
   "execution_count": 555,
   "metadata": {},
   "outputs": [],
   "source": [
    "list_bundledservices = ['BenefitsScreening', 'PublicBenefitsAccess', \n",
    "                        'AgencyProvidedSupport', 'AccessEmployment','AccessFinancialCoach']"
   ]
  },
  {
   "cell_type": "code",
   "execution_count": 556,
   "metadata": {},
   "outputs": [],
   "source": [
    "df_bundledservices = df[list_bundledservices]"
   ]
  },
  {
   "cell_type": "code",
   "execution_count": 557,
   "metadata": {},
   "outputs": [
    {
     "data": {
      "text/plain": [
       "BenefitsScreening        float64\n",
       "PublicBenefitsAccess     float64\n",
       "AgencyProvidedSupport    float64\n",
       "AccessEmployment         float64\n",
       "AccessFinancialCoach     float64\n",
       "dtype: object"
      ]
     },
     "execution_count": 557,
     "metadata": {},
     "output_type": "execute_result"
    }
   ],
   "source": [
    "df_bundledservices.dtypes"
   ]
  },
  {
   "cell_type": "markdown",
   "metadata": {},
   "source": [
    "### to keep the original data, create recode columns for calculating AccessIncome"
   ]
  },
  {
   "cell_type": "code",
   "execution_count": 558,
   "metadata": {
    "scrolled": true
   },
   "outputs": [
    {
     "name": "stderr",
     "output_type": "stream",
     "text": [
      "C:\\Users\\Leah Zhang\\Anaconda3\\lib\\site-packages\\ipykernel_launcher.py:1: SettingWithCopyWarning: \n",
      "A value is trying to be set on a copy of a slice from a DataFrame.\n",
      "Try using .loc[row_indexer,col_indexer] = value instead\n",
      "\n",
      "See the caveats in the documentation: http://pandas.pydata.org/pandas-docs/stable/indexing.html#indexing-view-versus-copy\n",
      "  \"\"\"Entry point for launching an IPython kernel.\n",
      "C:\\Users\\Leah Zhang\\Anaconda3\\lib\\site-packages\\ipykernel_launcher.py:2: SettingWithCopyWarning: \n",
      "A value is trying to be set on a copy of a slice from a DataFrame.\n",
      "Try using .loc[row_indexer,col_indexer] = value instead\n",
      "\n",
      "See the caveats in the documentation: http://pandas.pydata.org/pandas-docs/stable/indexing.html#indexing-view-versus-copy\n",
      "  \n",
      "C:\\Users\\Leah Zhang\\Anaconda3\\lib\\site-packages\\ipykernel_launcher.py:3: SettingWithCopyWarning: \n",
      "A value is trying to be set on a copy of a slice from a DataFrame.\n",
      "Try using .loc[row_indexer,col_indexer] = value instead\n",
      "\n",
      "See the caveats in the documentation: http://pandas.pydata.org/pandas-docs/stable/indexing.html#indexing-view-versus-copy\n",
      "  This is separate from the ipykernel package so we can avoid doing imports until\n"
     ]
    }
   ],
   "source": [
    "df_bundledservices['BenefitsScreening_recode']= df_bundledservices['BenefitsScreening'].fillna(0)\n",
    "df_bundledservices['PublicBenefitsAccess_recode']= df_bundledservices['PublicBenefitsAccess'].fillna(0)\n",
    "df_bundledservices['AgencyProvidedSupport_recode']= df_bundledservices['AgencyProvidedSupport'].fillna(0)"
   ]
  },
  {
   "cell_type": "code",
   "execution_count": 559,
   "metadata": {},
   "outputs": [
    {
     "name": "stderr",
     "output_type": "stream",
     "text": [
      "C:\\Users\\Leah Zhang\\Anaconda3\\lib\\site-packages\\ipykernel_launcher.py:1: SettingWithCopyWarning: \n",
      "A value is trying to be set on a copy of a slice from a DataFrame.\n",
      "Try using .loc[row_indexer,col_indexer] = value instead\n",
      "\n",
      "See the caveats in the documentation: http://pandas.pydata.org/pandas-docs/stable/indexing.html#indexing-view-versus-copy\n",
      "  \"\"\"Entry point for launching an IPython kernel.\n"
     ]
    }
   ],
   "source": [
    "df_bundledservices['AccessIncome_recode']=df_bundledservices['BenefitsScreening_recode']+df_bundledservices['PublicBenefitsAccess_recode']+df_bundledservices['AgencyProvidedSupport_recode']"
   ]
  },
  {
   "cell_type": "code",
   "execution_count": 560,
   "metadata": {},
   "outputs": [
    {
     "data": {
      "text/plain": [
       "1.0    911\n",
       "0.0    503\n",
       "2.0    197\n",
       "3.0    142\n",
       "Name: AccessIncome_recode, dtype: int64"
      ]
     },
     "execution_count": 560,
     "metadata": {},
     "output_type": "execute_result"
    }
   ],
   "source": [
    "df_bundledservices['AccessIncome_recode'].value_counts()"
   ]
  },
  {
   "cell_type": "code",
   "execution_count": 561,
   "metadata": {},
   "outputs": [
    {
     "name": "stderr",
     "output_type": "stream",
     "text": [
      "C:\\Users\\Leah Zhang\\Anaconda3\\lib\\site-packages\\ipykernel_launcher.py:1: SettingWithCopyWarning: \n",
      "A value is trying to be set on a copy of a slice from a DataFrame.\n",
      "Try using .loc[row_indexer,col_indexer] = value instead\n",
      "\n",
      "See the caveats in the documentation: http://pandas.pydata.org/pandas-docs/stable/indexing.html#indexing-view-versus-copy\n",
      "  \"\"\"Entry point for launching an IPython kernel.\n"
     ]
    }
   ],
   "source": [
    "df_bundledservices['AccessIncome']=np.where(df_bundledservices['AccessIncome_recode']==0,0,1)"
   ]
  },
  {
   "cell_type": "code",
   "execution_count": 562,
   "metadata": {
    "scrolled": false
   },
   "outputs": [],
   "source": [
    "#df_bundledservices['AccessEmployment']=df_bundledservices['AccessEmployment'].replace(str(1),1)"
   ]
  },
  {
   "cell_type": "code",
   "execution_count": 563,
   "metadata": {},
   "outputs": [
    {
     "name": "stderr",
     "output_type": "stream",
     "text": [
      "C:\\Users\\Leah Zhang\\Anaconda3\\lib\\site-packages\\ipykernel_launcher.py:1: SettingWithCopyWarning: \n",
      "A value is trying to be set on a copy of a slice from a DataFrame.\n",
      "Try using .loc[row_indexer,col_indexer] = value instead\n",
      "\n",
      "See the caveats in the documentation: http://pandas.pydata.org/pandas-docs/stable/indexing.html#indexing-view-versus-copy\n",
      "  \"\"\"Entry point for launching an IPython kernel.\n"
     ]
    }
   ],
   "source": [
    "df_bundledservices['AccessEmployment_recode'] = df_bundledservices['AccessEmployment'].fillna(0)"
   ]
  },
  {
   "cell_type": "code",
   "execution_count": 564,
   "metadata": {
    "scrolled": false
   },
   "outputs": [],
   "source": [
    "#df_bundledservices['AccessEmployment_recode']=df_bundledservices['AccessEmployment_recode'].replace(str(1),1)"
   ]
  },
  {
   "cell_type": "code",
   "execution_count": 565,
   "metadata": {},
   "outputs": [],
   "source": [
    "#df_bundledservices['AccessEmployment_recode']=df_bundledservices['AccessEmployment_recode'].replace(' ',0)"
   ]
  },
  {
   "cell_type": "code",
   "execution_count": 566,
   "metadata": {},
   "outputs": [
    {
     "data": {
      "text/plain": [
       "1.0    1011\n",
       "0.0     691\n",
       "Name: AccessEmployment, dtype: int64"
      ]
     },
     "execution_count": 566,
     "metadata": {},
     "output_type": "execute_result"
    }
   ],
   "source": [
    "df_bundledservices['AccessEmployment'].value_counts()"
   ]
  },
  {
   "cell_type": "code",
   "execution_count": 567,
   "metadata": {
    "scrolled": false
   },
   "outputs": [
    {
     "data": {
      "text/plain": [
       "1.0    1011\n",
       "0.0     742\n",
       "Name: AccessEmployment_recode, dtype: int64"
      ]
     },
     "execution_count": 567,
     "metadata": {},
     "output_type": "execute_result"
    }
   ],
   "source": [
    "df_bundledservices['AccessEmployment_recode'].value_counts()"
   ]
  },
  {
   "cell_type": "code",
   "execution_count": 568,
   "metadata": {
    "scrolled": true
   },
   "outputs": [
    {
     "data": {
      "text/plain": [
       "1.0    854\n",
       "0.0    555\n",
       "Name: AccessFinancialCoach, dtype: int64"
      ]
     },
     "execution_count": 568,
     "metadata": {},
     "output_type": "execute_result"
    }
   ],
   "source": [
    "df_bundledservices['AccessFinancialCoach'].value_counts()"
   ]
  },
  {
   "cell_type": "code",
   "execution_count": 569,
   "metadata": {},
   "outputs": [
    {
     "name": "stderr",
     "output_type": "stream",
     "text": [
      "C:\\Users\\Leah Zhang\\Anaconda3\\lib\\site-packages\\ipykernel_launcher.py:1: SettingWithCopyWarning: \n",
      "A value is trying to be set on a copy of a slice from a DataFrame.\n",
      "Try using .loc[row_indexer,col_indexer] = value instead\n",
      "\n",
      "See the caveats in the documentation: http://pandas.pydata.org/pandas-docs/stable/indexing.html#indexing-view-versus-copy\n",
      "  \"\"\"Entry point for launching an IPython kernel.\n"
     ]
    }
   ],
   "source": [
    "df_bundledservices['AccessFinancialCoach_recode'] = df_bundledservices['AccessFinancialCoach'].fillna(0)"
   ]
  },
  {
   "cell_type": "code",
   "execution_count": 570,
   "metadata": {},
   "outputs": [
    {
     "name": "stderr",
     "output_type": "stream",
     "text": [
      "C:\\Users\\Leah Zhang\\Anaconda3\\lib\\site-packages\\ipykernel_launcher.py:1: SettingWithCopyWarning: \n",
      "A value is trying to be set on a copy of a slice from a DataFrame.\n",
      "Try using .loc[row_indexer,col_indexer] = value instead\n",
      "\n",
      "See the caveats in the documentation: http://pandas.pydata.org/pandas-docs/stable/indexing.html#indexing-view-versus-copy\n",
      "  \"\"\"Entry point for launching an IPython kernel.\n"
     ]
    }
   ],
   "source": [
    "df_bundledservices['BundledServices']=df_bundledservices['AccessIncome']+df_bundledservices['AccessEmployment_recode']+df_bundledservices['AccessFinancialCoach_recode']"
   ]
  },
  {
   "cell_type": "code",
   "execution_count": 571,
   "metadata": {},
   "outputs": [
    {
     "data": {
      "text/plain": [
       "1.0    757\n",
       "3.0    472\n",
       "2.0    471\n",
       "0.0     53\n",
       "Name: BundledServices, dtype: int64"
      ]
     },
     "execution_count": 571,
     "metadata": {},
     "output_type": "execute_result"
    }
   ],
   "source": [
    "df_bundledservices['BundledServices'].value_counts()"
   ]
  },
  {
   "cell_type": "code",
   "execution_count": 572,
   "metadata": {},
   "outputs": [],
   "source": [
    "list_bundledservices_final=['BenefitsScreening', 'PublicBenefitsAccess', \n",
    "                        'AgencyProvidedSupport', 'AccessIncome','AccessEmployment','AccessFinancialCoach','BundledServices']"
   ]
  },
  {
   "cell_type": "code",
   "execution_count": 573,
   "metadata": {},
   "outputs": [],
   "source": [
    "df_bundledservices=df_bundledservices[list_bundledservices_final]"
   ]
  },
  {
   "cell_type": "code",
   "execution_count": 574,
   "metadata": {},
   "outputs": [],
   "source": [
    "col_fincap = ['FinCap_Budget', 'FinCap_Goals', 'FinCap_EmergencyFund', 'FinCap_AutoDeposit',\n",
    "       'FinCap_IncomeExpenses', 'FinCap_LateFee']"
   ]
  },
  {
   "cell_type": "code",
   "execution_count": 575,
   "metadata": {},
   "outputs": [],
   "source": [
    "df_fincap = df[col_fincap]"
   ]
  },
  {
   "cell_type": "markdown",
   "metadata": {},
   "source": [
    "### convert numeric to string values"
   ]
  },
  {
   "cell_type": "code",
   "execution_count": 576,
   "metadata": {},
   "outputs": [
    {
     "data": {
      "text/plain": [
       "Index(['Agency', 'ClientID', 'Quarter', 'Baseline', 'DOB', 'DOB_Cat', 'Gender',\n",
       "       'Race', 'MaritalStatus', 'HighestEd', 'HousingType', 'HHAdults',\n",
       "       'HHChildren', 'CriminalBackground', 'ZipCode', 'date'],\n",
       "      dtype='object')"
      ]
     },
     "execution_count": 576,
     "metadata": {},
     "output_type": "execute_result"
    }
   ],
   "source": [
    "df_demo.columns"
   ]
  },
  {
   "cell_type": "code",
   "execution_count": 577,
   "metadata": {},
   "outputs": [
    {
     "data": {
      "text/plain": [
       "2    299\n",
       "1    189\n",
       "Name: Gender, dtype: int64"
      ]
     },
     "execution_count": 577,
     "metadata": {},
     "output_type": "execute_result"
    }
   ],
   "source": [
    "df_demo['Gender'].value_counts()"
   ]
  },
  {
   "cell_type": "code",
   "execution_count": 578,
   "metadata": {},
   "outputs": [],
   "source": [
    "#Gender\n",
    "\n",
    "gender_mapping = {1: 'Male',\n",
    "                2: 'Female',\n",
    "                99: 'Unknown',\n",
    "                 'Male':'Male',\n",
    "                 'Female':'Female',\n",
    "                 'Unknown':'Unknown',\n",
    "                 'F':'Female',\n",
    "                 'M':'Male'}\n",
    "df_demo['Gender'] = df_demo['Gender'].map(gender_mapping)"
   ]
  },
  {
   "cell_type": "code",
   "execution_count": 579,
   "metadata": {},
   "outputs": [
    {
     "data": {
      "text/plain": [
       "Female    299\n",
       "Male      189\n",
       "Name: Gender, dtype: int64"
      ]
     },
     "execution_count": 579,
     "metadata": {},
     "output_type": "execute_result"
    }
   ],
   "source": [
    "df_demo['Gender'].value_counts()"
   ]
  },
  {
   "cell_type": "code",
   "execution_count": 580,
   "metadata": {},
   "outputs": [
    {
     "data": {
      "text/plain": [
       "3.0     183\n",
       "7.0     100\n",
       "8.0      81\n",
       "6.0      57\n",
       "4.0      31\n",
       "99.0     18\n",
       "2.0      17\n",
       "Name: Race, dtype: int64"
      ]
     },
     "execution_count": 580,
     "metadata": {},
     "output_type": "execute_result"
    }
   ],
   "source": [
    "df_demo['Race'].value_counts()"
   ]
  },
  {
   "cell_type": "code",
   "execution_count": 581,
   "metadata": {},
   "outputs": [],
   "source": [
    "#Race\n",
    "\n",
    "race_mapping = {1: 'American Indian or Alaska Native',\n",
    "                2: 'Asian',\n",
    "                3: 'Black or African American',\n",
    "                4: 'Multiple',\n",
    "                5: 'Native Hawaiian or Pacific Islander',\n",
    "                6: 'Other',\n",
    "                7: 'White',\n",
    "                8: 'Hispanic',\n",
    "                99: 'Unknown',\n",
    "                'American Indian or Alaska Native': 'American Indian or Alaska Native',\n",
    "                'Asian': 'Asian',\n",
    "                'Black or African American': 'Black or African American',\n",
    "                'Black or African-American': 'Black or African American',\n",
    "                'African American': 'Black or African American',\n",
    "                'Multiple': 'Multiple',\n",
    "                'Native Hawaiian or Pacific Islander': 'Native Hawaiian or Pacific Islander',\n",
    "                'Native Hawaiian or Pcific Islander': 'Native Hawaiian or Pacific Islander',\n",
    "                'Other': 'Other',\n",
    "                'White': 'White',\n",
    "                'Unknown': 'Unknown'}\n",
    "df_demo['Race'] = df_demo['Race'].map(race_mapping)"
   ]
  },
  {
   "cell_type": "code",
   "execution_count": 582,
   "metadata": {},
   "outputs": [
    {
     "data": {
      "text/plain": [
       "Black or African American    183\n",
       "White                        100\n",
       "Hispanic                      81\n",
       "Other                         57\n",
       "Multiple                      31\n",
       "Unknown                       18\n",
       "Asian                         17\n",
       "Name: Race, dtype: int64"
      ]
     },
     "execution_count": 582,
     "metadata": {},
     "output_type": "execute_result"
    }
   ],
   "source": [
    "df_demo['Race'].value_counts()"
   ]
  },
  {
   "cell_type": "code",
   "execution_count": 583,
   "metadata": {},
   "outputs": [
    {
     "data": {
      "text/plain": [
       "1.0     181\n",
       "2.0     143\n",
       "99.0     80\n",
       "3.0      49\n",
       "4.0      25\n",
       "5.0      10\n",
       "Name: MaritalStatus, dtype: int64"
      ]
     },
     "execution_count": 583,
     "metadata": {},
     "output_type": "execute_result"
    }
   ],
   "source": [
    "df_demo['MaritalStatus'].value_counts()"
   ]
  },
  {
   "cell_type": "code",
   "execution_count": 584,
   "metadata": {},
   "outputs": [],
   "source": [
    "#Marital Status\n",
    "marital_mapping = {1: 'Single',\n",
    "                2: 'Married or Domestic Partnership',\n",
    "                3: 'Divorced',\n",
    "                4: 'Separated',\n",
    "                5: 'Widowed',\n",
    "                99: 'Unknown',\n",
    "                'Single': 'Single',\n",
    "                'Married or Domestic Partnership': 'Married or Domestic Partnership',\n",
    "                'Divorced': 'Divorced',\n",
    "                'Separated': 'Separated',\n",
    "                'Widowed': 'Widowed',\n",
    "                'Unknown': 'Unknown'}\n",
    "df_demo['MaritalStatus'] = df_demo['MaritalStatus'].map(marital_mapping)"
   ]
  },
  {
   "cell_type": "code",
   "execution_count": 585,
   "metadata": {},
   "outputs": [
    {
     "data": {
      "text/plain": [
       "Single                             181\n",
       "Married or Domestic Partnership    143\n",
       "Unknown                             80\n",
       "Divorced                            49\n",
       "Separated                           25\n",
       "Widowed                             10\n",
       "Name: MaritalStatus, dtype: int64"
      ]
     },
     "execution_count": 585,
     "metadata": {},
     "output_type": "execute_result"
    }
   ],
   "source": [
    "df_demo['MaritalStatus'].value_counts()"
   ]
  },
  {
   "cell_type": "code",
   "execution_count": 586,
   "metadata": {},
   "outputs": [
    {
     "data": {
      "text/plain": [
       "2.0     167\n",
       "99.0     89\n",
       "1.0      49\n",
       "3.0      48\n",
       "5.0      45\n",
       "6.0      38\n",
       "4.0      20\n",
       "Name: HighestEd, dtype: int64"
      ]
     },
     "execution_count": 586,
     "metadata": {},
     "output_type": "execute_result"
    }
   ],
   "source": [
    "df_demo['HighestEd'].value_counts()"
   ]
  },
  {
   "cell_type": "code",
   "execution_count": 587,
   "metadata": {},
   "outputs": [],
   "source": [
    "#HighestEd\n",
    "highestEd_mapping = {1: 'Less than HS',\n",
    "                2: 'HS, GED, or equivalent',\n",
    "                3: 'Some college, no degree',\n",
    "                4: 'Associate Degree',\n",
    "                5: \"Bachelor's Degree\",\n",
    "                6: 'Graduate Degree or above',\n",
    "                99: 'Unknown',\n",
    "                'Unknown': 'Unknown', \n",
    "                'HS, GED, or equivalent':'HS, GED, or equivalent', \n",
    "                'Associate Degree':'Associate Degree',\n",
    "                'Less than HS':'Less than HS', \n",
    "                'Some college, no degree':'Some college, no degree',\n",
    "                \"Bachelor's Degree\":\"Bachelor's Degree\", \n",
    "                'Gradeuate Degree or above':'Graduate Degree or above',\n",
    "                'HS GED or equivalent':'HS, GED, or equivalent', \n",
    "                'Graduate Degree or above':'Graduate Degree or above',\n",
    "                'Bachelors Degree':\"Bachelor's Degree\", \n",
    "                'Some college no degree':'Some college, no degree'}\n",
    "df_demo['HighestEd'] = df_demo['HighestEd'].map(highestEd_mapping)"
   ]
  },
  {
   "cell_type": "code",
   "execution_count": 588,
   "metadata": {},
   "outputs": [
    {
     "data": {
      "text/plain": [
       "HS, GED, or equivalent      167\n",
       "Unknown                      89\n",
       "Less than HS                 49\n",
       "Some college, no degree      48\n",
       "Bachelor's Degree            45\n",
       "Graduate Degree or above     38\n",
       "Associate Degree             20\n",
       "Name: HighestEd, dtype: int64"
      ]
     },
     "execution_count": 588,
     "metadata": {},
     "output_type": "execute_result"
    }
   ],
   "source": [
    "df_demo['HighestEd'].value_counts()"
   ]
  },
  {
   "cell_type": "code",
   "execution_count": 589,
   "metadata": {},
   "outputs": [
    {
     "data": {
      "text/plain": [
       "4.0     150\n",
       "2.0      64\n",
       "5.0      38\n",
       "1.0      15\n",
       "99.0     14\n",
       "3.0      13\n",
       "Name: HousingType, dtype: int64"
      ]
     },
     "execution_count": 589,
     "metadata": {},
     "output_type": "execute_result"
    }
   ],
   "source": [
    "df_demo['HousingType'].value_counts()"
   ]
  },
  {
   "cell_type": "code",
   "execution_count": 590,
   "metadata": {},
   "outputs": [],
   "source": [
    "#Housing Type\n",
    "housingType_mapping = {1: 'Homeless',\n",
    "                2: 'Lives with Relatives/Friends',\n",
    "                3: 'Receives free or subsidized housing',\n",
    "                4: 'Rents',\n",
    "                5: 'Owns',\n",
    "                99: 'Unknown',\n",
    "                'Unknown':'Unknown', \n",
    "                'Lives with Relatives/Friends':'Lives with Relatives/Friends', \n",
    "                'Rents':'Rents', \n",
    "                'Owns':'Owns', \n",
    "                'Homeless':'Homeless', \n",
    "                'Receives free or subsidized housing':'Receives free or subsidized housing',\n",
    "                'lives with relatives/friends':'Lives with Relatives/Friends', \n",
    "                'rents':'Rents', \n",
    "                'owns':'Owns',\n",
    "                'Lives with Relatives or Friends':'Lives with Relatives/Friends'}\n",
    "df_demo['HousingType'] = df_demo['HousingType'].map(housingType_mapping)"
   ]
  },
  {
   "cell_type": "code",
   "execution_count": 591,
   "metadata": {},
   "outputs": [
    {
     "data": {
      "text/plain": [
       "Rents                                  150\n",
       "Lives with Relatives/Friends            64\n",
       "Owns                                    38\n",
       "Homeless                                15\n",
       "Unknown                                 14\n",
       "Receives free or subsidized housing     13\n",
       "Name: HousingType, dtype: int64"
      ]
     },
     "execution_count": 591,
     "metadata": {},
     "output_type": "execute_result"
    }
   ],
   "source": [
    "df_demo['HousingType'].value_counts()"
   ]
  },
  {
   "cell_type": "code",
   "execution_count": 592,
   "metadata": {},
   "outputs": [
    {
     "data": {
      "text/plain": [
       "99    245\n",
       "0     225\n",
       "1      18\n",
       "Name: CriminalBackground, dtype: int64"
      ]
     },
     "execution_count": 592,
     "metadata": {},
     "output_type": "execute_result"
    }
   ],
   "source": [
    "df_demo['CriminalBackground'].value_counts()"
   ]
  },
  {
   "cell_type": "code",
   "execution_count": 593,
   "metadata": {},
   "outputs": [],
   "source": [
    "#Criminal Background\n",
    "criminalBackground_mapping = {1: 'Yes',\n",
    "                             0: 'No',\n",
    "                             99: 'Unknown',\n",
    "                             'Yes': 'Yes',\n",
    "                             'No': 'No',\n",
    "                             'Unknown': 'Unknown'}\n",
    "df_demo['CriminalBackground'] = df_demo['CriminalBackground'].map(criminalBackground_mapping)"
   ]
  },
  {
   "cell_type": "code",
   "execution_count": 594,
   "metadata": {},
   "outputs": [
    {
     "data": {
      "text/plain": [
       "Unknown    245\n",
       "No         225\n",
       "Yes         18\n",
       "Name: CriminalBackground, dtype: int64"
      ]
     },
     "execution_count": 594,
     "metadata": {},
     "output_type": "execute_result"
    }
   ],
   "source": [
    "df_demo['CriminalBackground'].value_counts()"
   ]
  },
  {
   "cell_type": "markdown",
   "metadata": {},
   "source": [
    "### finished converting for demo"
   ]
  },
  {
   "cell_type": "code",
   "execution_count": 595,
   "metadata": {},
   "outputs": [
    {
     "data": {
      "text/plain": [
       "Index(['AccessEmployment', 'EmploymentStatus', 'EmploymentStartDate',\n",
       "       'EmploymentRetention', 'JobTrainingEnrolled', 'JobTrainingCompleted'],\n",
       "      dtype='object')"
      ]
     },
     "execution_count": 595,
     "metadata": {},
     "output_type": "execute_result"
    }
   ],
   "source": [
    "df_emp.columns"
   ]
  },
  {
   "cell_type": "code",
   "execution_count": 596,
   "metadata": {},
   "outputs": [
    {
     "data": {
      "text/plain": [
       "1.0    1011\n",
       "0.0     691\n",
       "Name: AccessEmployment, dtype: int64"
      ]
     },
     "execution_count": 596,
     "metadata": {},
     "output_type": "execute_result"
    }
   ],
   "source": [
    "df_emp['AccessEmployment'].value_counts()"
   ]
  },
  {
   "cell_type": "code",
   "execution_count": 597,
   "metadata": {},
   "outputs": [],
   "source": [
    "#df_emp['AccessEmployment'] = df_emp['AccessEmployment'].replace(str(1),1)"
   ]
  },
  {
   "cell_type": "code",
   "execution_count": 598,
   "metadata": {},
   "outputs": [],
   "source": [
    "#df_emp['AccessEmployment'] = df_emp['AccessEmployment'].replace(' ',0)"
   ]
  },
  {
   "cell_type": "code",
   "execution_count": 599,
   "metadata": {},
   "outputs": [
    {
     "name": "stderr",
     "output_type": "stream",
     "text": [
      "C:\\Users\\Leah Zhang\\Anaconda3\\lib\\site-packages\\ipykernel_launcher.py:6: SettingWithCopyWarning: \n",
      "A value is trying to be set on a copy of a slice from a DataFrame.\n",
      "Try using .loc[row_indexer,col_indexer] = value instead\n",
      "\n",
      "See the caveats in the documentation: http://pandas.pydata.org/pandas-docs/stable/indexing.html#indexing-view-versus-copy\n",
      "  \n"
     ]
    }
   ],
   "source": [
    "#Access Employment\n",
    "accessEmployment_mapping = {1: 'Yes',\n",
    "                            0: 'No',\n",
    "                            'Yes':'Yes',\n",
    "                            'No':'No'}\n",
    "df_emp['AccessEmployment'] = df_emp['AccessEmployment'].map(accessEmployment_mapping)"
   ]
  },
  {
   "cell_type": "code",
   "execution_count": 600,
   "metadata": {},
   "outputs": [
    {
     "data": {
      "text/plain": [
       "Yes    1011\n",
       "No      691\n",
       "Name: AccessEmployment, dtype: int64"
      ]
     },
     "execution_count": 600,
     "metadata": {},
     "output_type": "execute_result"
    }
   ],
   "source": [
    "df_emp['AccessEmployment'].value_counts()"
   ]
  },
  {
   "cell_type": "code",
   "execution_count": 601,
   "metadata": {},
   "outputs": [
    {
     "data": {
      "text/plain": [
       "3.0    900\n",
       "1.0    649\n",
       "2.0    203\n",
       "Name: EmploymentStatus, dtype: int64"
      ]
     },
     "execution_count": 601,
     "metadata": {},
     "output_type": "execute_result"
    }
   ],
   "source": [
    "df_emp['EmploymentStatus'].value_counts()"
   ]
  },
  {
   "cell_type": "code",
   "execution_count": 602,
   "metadata": {},
   "outputs": [
    {
     "name": "stderr",
     "output_type": "stream",
     "text": [
      "C:\\Users\\Leah Zhang\\Anaconda3\\lib\\site-packages\\ipykernel_launcher.py:11: SettingWithCopyWarning: \n",
      "A value is trying to be set on a copy of a slice from a DataFrame.\n",
      "Try using .loc[row_indexer,col_indexer] = value instead\n",
      "\n",
      "See the caveats in the documentation: http://pandas.pydata.org/pandas-docs/stable/indexing.html#indexing-view-versus-copy\n",
      "  # This is added back by InteractiveShellApp.init_path()\n"
     ]
    }
   ],
   "source": [
    "#Employment Status\n",
    "employmentStatus_mapping = {1: 'Employed Full Time',\n",
    "                            2: 'Employed Part Time',\n",
    "                            3: 'Not employed',\n",
    "                           'Employed Full Time': 'Employed Full Time',\n",
    "                           'Employed Part Time': 'Employed Part Time',\n",
    "                           'Not employed': 'Not employed',\n",
    "                           'Unemployed':'Not employed', \n",
    "                           'Employed Part-Time':'Employed Part Time', \n",
    "                           'Employed Full-Time':'Employed Full Time'}\n",
    "df_emp['EmploymentStatus'] = df_emp['EmploymentStatus'].map(employmentStatus_mapping)"
   ]
  },
  {
   "cell_type": "code",
   "execution_count": 603,
   "metadata": {
    "scrolled": true
   },
   "outputs": [
    {
     "data": {
      "text/plain": [
       "Not employed          900\n",
       "Employed Full Time    649\n",
       "Employed Part Time    203\n",
       "Name: EmploymentStatus, dtype: int64"
      ]
     },
     "execution_count": 603,
     "metadata": {},
     "output_type": "execute_result"
    }
   ],
   "source": [
    "df_emp['EmploymentStatus'].value_counts()"
   ]
  },
  {
   "cell_type": "markdown",
   "metadata": {},
   "source": [
    "### checked to_datetime works fine"
   ]
  },
  {
   "cell_type": "code",
   "execution_count": 604,
   "metadata": {
    "scrolled": false
   },
   "outputs": [
    {
     "name": "stderr",
     "output_type": "stream",
     "text": [
      "C:\\Users\\Leah Zhang\\Anaconda3\\lib\\site-packages\\ipykernel_launcher.py:1: SettingWithCopyWarning: \n",
      "A value is trying to be set on a copy of a slice from a DataFrame.\n",
      "Try using .loc[row_indexer,col_indexer] = value instead\n",
      "\n",
      "See the caveats in the documentation: http://pandas.pydata.org/pandas-docs/stable/indexing.html#indexing-view-versus-copy\n",
      "  \"\"\"Entry point for launching an IPython kernel.\n"
     ]
    }
   ],
   "source": [
    "df_emp['EmploymentStartDate'] = pd.to_datetime(df_emp['EmploymentStartDate'])"
   ]
  },
  {
   "cell_type": "code",
   "execution_count": 605,
   "metadata": {
    "scrolled": true
   },
   "outputs": [
    {
     "data": {
      "text/plain": [
       "AccessEmployment                object\n",
       "EmploymentStatus                object\n",
       "EmploymentStartDate     datetime64[ns]\n",
       "EmploymentRetention            float64\n",
       "JobTrainingEnrolled            float64\n",
       "JobTrainingCompleted           float64\n",
       "dtype: object"
      ]
     },
     "execution_count": 605,
     "metadata": {},
     "output_type": "execute_result"
    }
   ],
   "source": [
    "df_emp.dtypes"
   ]
  },
  {
   "cell_type": "code",
   "execution_count": 606,
   "metadata": {
    "scrolled": true
   },
   "outputs": [
    {
     "data": {
      "text/plain": [
       "1.0    469\n",
       "0.0    259\n",
       "Name: EmploymentRetention, dtype: int64"
      ]
     },
     "execution_count": 606,
     "metadata": {},
     "output_type": "execute_result"
    }
   ],
   "source": [
    "df_emp['EmploymentRetention'].value_counts()"
   ]
  },
  {
   "cell_type": "code",
   "execution_count": 607,
   "metadata": {},
   "outputs": [
    {
     "name": "stderr",
     "output_type": "stream",
     "text": [
      "C:\\Users\\Leah Zhang\\Anaconda3\\lib\\site-packages\\ipykernel_launcher.py:6: SettingWithCopyWarning: \n",
      "A value is trying to be set on a copy of a slice from a DataFrame.\n",
      "Try using .loc[row_indexer,col_indexer] = value instead\n",
      "\n",
      "See the caveats in the documentation: http://pandas.pydata.org/pandas-docs/stable/indexing.html#indexing-view-versus-copy\n",
      "  \n"
     ]
    }
   ],
   "source": [
    "#Employment Retention\n",
    "employmentRetention_mapping = {1: 'Yes',\n",
    "                             0: 'No',\n",
    "                            'Yes': 'Yes',\n",
    "                            'No': 'No'}\n",
    "df_emp['EmploymentRetention'] = df_emp['EmploymentRetention'].map(employmentRetention_mapping)"
   ]
  },
  {
   "cell_type": "code",
   "execution_count": 608,
   "metadata": {},
   "outputs": [
    {
     "data": {
      "text/plain": [
       "Yes    469\n",
       "No     259\n",
       "Name: EmploymentRetention, dtype: int64"
      ]
     },
     "execution_count": 608,
     "metadata": {},
     "output_type": "execute_result"
    }
   ],
   "source": [
    "df_emp['EmploymentRetention'].value_counts()"
   ]
  },
  {
   "cell_type": "code",
   "execution_count": 609,
   "metadata": {},
   "outputs": [
    {
     "data": {
      "text/plain": [
       "0.0    836\n",
       "1.0    330\n",
       "Name: JobTrainingEnrolled, dtype: int64"
      ]
     },
     "execution_count": 609,
     "metadata": {},
     "output_type": "execute_result"
    }
   ],
   "source": [
    "df_emp['JobTrainingEnrolled'].value_counts()"
   ]
  },
  {
   "cell_type": "code",
   "execution_count": 610,
   "metadata": {},
   "outputs": [
    {
     "name": "stderr",
     "output_type": "stream",
     "text": [
      "C:\\Users\\Leah Zhang\\Anaconda3\\lib\\site-packages\\ipykernel_launcher.py:5: SettingWithCopyWarning: \n",
      "A value is trying to be set on a copy of a slice from a DataFrame.\n",
      "Try using .loc[row_indexer,col_indexer] = value instead\n",
      "\n",
      "See the caveats in the documentation: http://pandas.pydata.org/pandas-docs/stable/indexing.html#indexing-view-versus-copy\n",
      "  \"\"\"\n"
     ]
    }
   ],
   "source": [
    "jobTrainingEnrolled_mapping = {1: 'Yes',\n",
    "                             0: 'No',\n",
    "                            'Yes': 'Yes',\n",
    "                            'No': 'No'}\n",
    "df_emp['JobTrainingEnrolled'] = df_emp['JobTrainingEnrolled'].map(jobTrainingEnrolled_mapping)"
   ]
  },
  {
   "cell_type": "code",
   "execution_count": 611,
   "metadata": {},
   "outputs": [
    {
     "data": {
      "text/plain": [
       "No     836\n",
       "Yes    330\n",
       "Name: JobTrainingEnrolled, dtype: int64"
      ]
     },
     "execution_count": 611,
     "metadata": {},
     "output_type": "execute_result"
    }
   ],
   "source": [
    "df_emp['JobTrainingEnrolled'].value_counts()"
   ]
  },
  {
   "cell_type": "code",
   "execution_count": 612,
   "metadata": {},
   "outputs": [
    {
     "data": {
      "text/plain": [
       "0.0    880\n",
       "1.0    161\n",
       "Name: JobTrainingCompleted, dtype: int64"
      ]
     },
     "execution_count": 612,
     "metadata": {},
     "output_type": "execute_result"
    }
   ],
   "source": [
    "df_emp['JobTrainingCompleted'].value_counts()"
   ]
  },
  {
   "cell_type": "code",
   "execution_count": 613,
   "metadata": {},
   "outputs": [
    {
     "name": "stderr",
     "output_type": "stream",
     "text": [
      "C:\\Users\\Leah Zhang\\Anaconda3\\lib\\site-packages\\ipykernel_launcher.py:5: SettingWithCopyWarning: \n",
      "A value is trying to be set on a copy of a slice from a DataFrame.\n",
      "Try using .loc[row_indexer,col_indexer] = value instead\n",
      "\n",
      "See the caveats in the documentation: http://pandas.pydata.org/pandas-docs/stable/indexing.html#indexing-view-versus-copy\n",
      "  \"\"\"\n"
     ]
    }
   ],
   "source": [
    "jobTrainingCompleted_mapping = {1: 'Yes',\n",
    "                             0: 'No',\n",
    "                            'Yes': 'Yes',\n",
    "                            'No': 'No'}\n",
    "df_emp['JobTrainingCompleted'] = df_emp['JobTrainingCompleted'].map(jobTrainingCompleted_mapping)"
   ]
  },
  {
   "cell_type": "code",
   "execution_count": 614,
   "metadata": {},
   "outputs": [
    {
     "data": {
      "text/plain": [
       "No     880\n",
       "Yes    161\n",
       "Name: JobTrainingCompleted, dtype: int64"
      ]
     },
     "execution_count": 614,
     "metadata": {},
     "output_type": "execute_result"
    }
   ],
   "source": [
    "df_emp['JobTrainingCompleted'].value_counts()"
   ]
  },
  {
   "cell_type": "code",
   "execution_count": 615,
   "metadata": {
    "scrolled": true
   },
   "outputs": [
    {
     "data": {
      "text/plain": [
       "Index(['BenefitsScreening', 'PublicBenefitsAccess', 'AgencyProvidedSupport',\n",
       "       'AccessIncome', 'AccessEmployment', 'AccessFinancialCoach',\n",
       "       'BundledServices'],\n",
       "      dtype='object')"
      ]
     },
     "execution_count": 615,
     "metadata": {},
     "output_type": "execute_result"
    }
   ],
   "source": [
    "df_bundledservices.columns"
   ]
  },
  {
   "cell_type": "code",
   "execution_count": 616,
   "metadata": {},
   "outputs": [
    {
     "data": {
      "text/plain": [
       "0.0    837\n",
       "1.0    332\n",
       "Name: BenefitsScreening, dtype: int64"
      ]
     },
     "execution_count": 616,
     "metadata": {},
     "output_type": "execute_result"
    }
   ],
   "source": [
    "df_bundledservices['BenefitsScreening'].value_counts()"
   ]
  },
  {
   "cell_type": "code",
   "execution_count": 617,
   "metadata": {},
   "outputs": [],
   "source": [
    "#Benefits Screening\n",
    "\n",
    "benefitsScreening_mapping = {1: 'Yes',\n",
    "                             0: 'No',\n",
    "                            'Yes': 'Yes',\n",
    "                            'No': 'No'}\n",
    "df_bundledservices['BenefitsScreening'] = df_bundledservices['BenefitsScreening'].map(benefitsScreening_mapping)"
   ]
  },
  {
   "cell_type": "code",
   "execution_count": 618,
   "metadata": {},
   "outputs": [
    {
     "data": {
      "text/plain": [
       "No     837\n",
       "Yes    332\n",
       "Name: BenefitsScreening, dtype: int64"
      ]
     },
     "execution_count": 618,
     "metadata": {},
     "output_type": "execute_result"
    }
   ],
   "source": [
    "df_bundledservices['BenefitsScreening'].value_counts()"
   ]
  },
  {
   "cell_type": "code",
   "execution_count": 619,
   "metadata": {},
   "outputs": [
    {
     "data": {
      "text/plain": [
       "0.0    427\n",
       "1.0    299\n",
       "Name: PublicBenefitsAccess, dtype: int64"
      ]
     },
     "execution_count": 619,
     "metadata": {},
     "output_type": "execute_result"
    }
   ],
   "source": [
    "df_bundledservices['PublicBenefitsAccess'].value_counts()"
   ]
  },
  {
   "cell_type": "code",
   "execution_count": 620,
   "metadata": {},
   "outputs": [],
   "source": [
    "#Public Benefits Access\n",
    "\n",
    "publicBenefitsAccess_mapping = {1: 'Yes',\n",
    "                             0: 'No',\n",
    "                            'Yes': 'Yes',\n",
    "                            'No': 'No'}\n",
    "df_bundledservices['PublicBenefitsAccess'] = df_bundledservices['PublicBenefitsAccess'].map(publicBenefitsAccess_mapping)"
   ]
  },
  {
   "cell_type": "code",
   "execution_count": 621,
   "metadata": {},
   "outputs": [
    {
     "data": {
      "text/plain": [
       "No     427\n",
       "Yes    299\n",
       "Name: PublicBenefitsAccess, dtype: int64"
      ]
     },
     "execution_count": 621,
     "metadata": {},
     "output_type": "execute_result"
    }
   ],
   "source": [
    "df_bundledservices['PublicBenefitsAccess'].value_counts()"
   ]
  },
  {
   "cell_type": "code",
   "execution_count": 622,
   "metadata": {},
   "outputs": [
    {
     "data": {
      "text/plain": [
       "1.0    1100\n",
       "0.0     180\n",
       "Name: AgencyProvidedSupport, dtype: int64"
      ]
     },
     "execution_count": 622,
     "metadata": {},
     "output_type": "execute_result"
    }
   ],
   "source": [
    "df_bundledservices['AgencyProvidedSupport'].value_counts()"
   ]
  },
  {
   "cell_type": "code",
   "execution_count": 623,
   "metadata": {},
   "outputs": [],
   "source": [
    "#Agency Provided Support\n",
    "agencyProvidedSupport_mapping = {1: 'Yes',\n",
    "                             0: 'No',\n",
    "                            'Yes': 'Yes',\n",
    "                            'No': 'No'}\n",
    "df_bundledservices['AgencyProvidedSupport'] = df_bundledservices['AgencyProvidedSupport'].map(agencyProvidedSupport_mapping)"
   ]
  },
  {
   "cell_type": "code",
   "execution_count": 624,
   "metadata": {},
   "outputs": [
    {
     "data": {
      "text/plain": [
       "Yes    1100\n",
       "No      180\n",
       "Name: AgencyProvidedSupport, dtype: int64"
      ]
     },
     "execution_count": 624,
     "metadata": {},
     "output_type": "execute_result"
    }
   ],
   "source": [
    "df_bundledservices['AgencyProvidedSupport'].value_counts()"
   ]
  },
  {
   "cell_type": "code",
   "execution_count": 625,
   "metadata": {},
   "outputs": [
    {
     "data": {
      "text/plain": [
       "1    1250\n",
       "0     503\n",
       "Name: AccessIncome, dtype: int64"
      ]
     },
     "execution_count": 625,
     "metadata": {},
     "output_type": "execute_result"
    }
   ],
   "source": [
    "df_bundledservices['AccessIncome'].value_counts()"
   ]
  },
  {
   "cell_type": "code",
   "execution_count": 626,
   "metadata": {},
   "outputs": [],
   "source": [
    "df_bundledservices['AccessIncome'] = df_bundledservices['AccessIncome'].fillna(0)"
   ]
  },
  {
   "cell_type": "code",
   "execution_count": 627,
   "metadata": {
    "scrolled": false
   },
   "outputs": [
    {
     "data": {
      "text/plain": [
       "1    1250\n",
       "0     503\n",
       "Name: AccessIncome, dtype: int64"
      ]
     },
     "execution_count": 627,
     "metadata": {},
     "output_type": "execute_result"
    }
   ],
   "source": [
    "df_bundledservices['AccessIncome'].value_counts()"
   ]
  },
  {
   "cell_type": "code",
   "execution_count": 628,
   "metadata": {},
   "outputs": [],
   "source": [
    "#AccessIncome Support\n",
    "accessincome_mapping = {1: 'Yes',\n",
    "                             0: 'No',\n",
    "                            'Yes': 'Yes',\n",
    "                            'No': 'No'}\n",
    "df_bundledservices['AccessIncome'] = df_bundledservices['AccessIncome'].map(accessincome_mapping)"
   ]
  },
  {
   "cell_type": "code",
   "execution_count": 629,
   "metadata": {},
   "outputs": [
    {
     "data": {
      "text/plain": [
       "Yes    1250\n",
       "No      503\n",
       "Name: AccessIncome, dtype: int64"
      ]
     },
     "execution_count": 629,
     "metadata": {},
     "output_type": "execute_result"
    }
   ],
   "source": [
    "df_bundledservices['AccessIncome'].value_counts()"
   ]
  },
  {
   "cell_type": "code",
   "execution_count": 630,
   "metadata": {},
   "outputs": [
    {
     "data": {
      "text/plain": [
       "1.0    1011\n",
       "0.0     691\n",
       "Name: AccessEmployment, dtype: int64"
      ]
     },
     "execution_count": 630,
     "metadata": {},
     "output_type": "execute_result"
    }
   ],
   "source": [
    "df_bundledservices['AccessEmployment'].value_counts()"
   ]
  },
  {
   "cell_type": "code",
   "execution_count": 631,
   "metadata": {},
   "outputs": [],
   "source": [
    "df_bundledservices['AccessEmployment'] = df_bundledservices['AccessEmployment'].fillna(0)"
   ]
  },
  {
   "cell_type": "code",
   "execution_count": 632,
   "metadata": {
    "scrolled": true
   },
   "outputs": [
    {
     "data": {
      "text/plain": [
       "1.0    1011\n",
       "0.0     742\n",
       "Name: AccessEmployment, dtype: int64"
      ]
     },
     "execution_count": 632,
     "metadata": {},
     "output_type": "execute_result"
    }
   ],
   "source": [
    "df_bundledservices['AccessEmployment'].value_counts()"
   ]
  },
  {
   "cell_type": "code",
   "execution_count": 633,
   "metadata": {},
   "outputs": [],
   "source": [
    "#AccessEmployment\n",
    "accessemployment_mapping = {1: 'Yes',\n",
    "                             0: 'No',\n",
    "                            'Yes': 'Yes',\n",
    "                            'No': 'No'}\n",
    "df_bundledservices['AccessEmployment'] = df_bundledservices['AccessEmployment'].map(accessemployment_mapping)"
   ]
  },
  {
   "cell_type": "code",
   "execution_count": 634,
   "metadata": {},
   "outputs": [
    {
     "data": {
      "text/plain": [
       "Yes    1011\n",
       "No      742\n",
       "Name: AccessEmployment, dtype: int64"
      ]
     },
     "execution_count": 634,
     "metadata": {},
     "output_type": "execute_result"
    }
   ],
   "source": [
    "df_bundledservices['AccessEmployment'].value_counts()"
   ]
  },
  {
   "cell_type": "code",
   "execution_count": 635,
   "metadata": {
    "scrolled": true
   },
   "outputs": [
    {
     "data": {
      "text/plain": [
       "1.0    854\n",
       "0.0    555\n",
       "Name: AccessFinancialCoach, dtype: int64"
      ]
     },
     "execution_count": 635,
     "metadata": {},
     "output_type": "execute_result"
    }
   ],
   "source": [
    "df_bundledservices['AccessFinancialCoach'].value_counts()"
   ]
  },
  {
   "cell_type": "code",
   "execution_count": 636,
   "metadata": {},
   "outputs": [],
   "source": [
    "df_bundledservices['AccessFinancialCoach'] = df_bundledservices['AccessFinancialCoach'].fillna(0)"
   ]
  },
  {
   "cell_type": "code",
   "execution_count": 637,
   "metadata": {},
   "outputs": [
    {
     "data": {
      "text/plain": [
       "0.0    899\n",
       "1.0    854\n",
       "Name: AccessFinancialCoach, dtype: int64"
      ]
     },
     "execution_count": 637,
     "metadata": {},
     "output_type": "execute_result"
    }
   ],
   "source": [
    "df_bundledservices['AccessFinancialCoach'].value_counts()"
   ]
  },
  {
   "cell_type": "code",
   "execution_count": 638,
   "metadata": {},
   "outputs": [],
   "source": [
    "#AccessFinancialCoach\n",
    "AccessFinancialCoach_mapping = {1: 'Yes',\n",
    "                             0: 'No',\n",
    "                            'Yes': 'Yes',\n",
    "                            'No': 'No'}\n",
    "df_bundledservices['AccessFinancialCoach'] = df_bundledservices['AccessFinancialCoach'].map(AccessFinancialCoach_mapping)"
   ]
  },
  {
   "cell_type": "code",
   "execution_count": 639,
   "metadata": {},
   "outputs": [
    {
     "data": {
      "text/plain": [
       "No     899\n",
       "Yes    854\n",
       "Name: AccessFinancialCoach, dtype: int64"
      ]
     },
     "execution_count": 639,
     "metadata": {},
     "output_type": "execute_result"
    }
   ],
   "source": [
    "df_bundledservices['AccessFinancialCoach'].value_counts()"
   ]
  },
  {
   "cell_type": "code",
   "execution_count": 640,
   "metadata": {
    "scrolled": true
   },
   "outputs": [
    {
     "data": {
      "text/plain": [
       "Index(['FinCap_Budget', 'FinCap_Goals', 'FinCap_EmergencyFund',\n",
       "       'FinCap_AutoDeposit', 'FinCap_IncomeExpenses', 'FinCap_LateFee'],\n",
       "      dtype='object')"
      ]
     },
     "execution_count": 640,
     "metadata": {},
     "output_type": "execute_result"
    }
   ],
   "source": [
    "df_fincap.columns"
   ]
  },
  {
   "cell_type": "code",
   "execution_count": 641,
   "metadata": {},
   "outputs": [
    {
     "data": {
      "text/plain": [
       "1.0    397\n",
       "0.0    343\n",
       "Name: FinCap_Budget, dtype: int64"
      ]
     },
     "execution_count": 641,
     "metadata": {},
     "output_type": "execute_result"
    }
   ],
   "source": [
    "df_fincap['FinCap_Budget'].value_counts()"
   ]
  },
  {
   "cell_type": "code",
   "execution_count": 642,
   "metadata": {},
   "outputs": [
    {
     "name": "stderr",
     "output_type": "stream",
     "text": [
      "C:\\Users\\Leah Zhang\\Anaconda3\\lib\\site-packages\\ipykernel_launcher.py:6: SettingWithCopyWarning: \n",
      "A value is trying to be set on a copy of a slice from a DataFrame.\n",
      "Try using .loc[row_indexer,col_indexer] = value instead\n",
      "\n",
      "See the caveats in the documentation: http://pandas.pydata.org/pandas-docs/stable/indexing.html#indexing-view-versus-copy\n",
      "  \n"
     ]
    }
   ],
   "source": [
    "#FinCap Budget\n",
    "finCapBudget_mapping = {1: 'Yes',\n",
    "                        0: 'No',\n",
    "                       'Yes': 'Yes',\n",
    "                       'No': 'No'}\n",
    "df_fincap['FinCap_Budget'] = df_fincap['FinCap_Budget'].map(finCapBudget_mapping)"
   ]
  },
  {
   "cell_type": "code",
   "execution_count": 643,
   "metadata": {},
   "outputs": [
    {
     "data": {
      "text/plain": [
       "Yes    397\n",
       "No     343\n",
       "Name: FinCap_Budget, dtype: int64"
      ]
     },
     "execution_count": 643,
     "metadata": {},
     "output_type": "execute_result"
    }
   ],
   "source": [
    "df_fincap['FinCap_Budget'].value_counts()"
   ]
  },
  {
   "cell_type": "code",
   "execution_count": 644,
   "metadata": {},
   "outputs": [
    {
     "data": {
      "text/plain": [
       "1.0    303\n",
       "2.0    300\n",
       "0.0     70\n",
       "Name: FinCap_Goals, dtype: int64"
      ]
     },
     "execution_count": 644,
     "metadata": {},
     "output_type": "execute_result"
    }
   ],
   "source": [
    "df_fincap['FinCap_Goals'].value_counts()"
   ]
  },
  {
   "cell_type": "code",
   "execution_count": 645,
   "metadata": {},
   "outputs": [
    {
     "name": "stderr",
     "output_type": "stream",
     "text": [
      "C:\\Users\\Leah Zhang\\Anaconda3\\lib\\site-packages\\ipykernel_launcher.py:11: SettingWithCopyWarning: \n",
      "A value is trying to be set on a copy of a slice from a DataFrame.\n",
      "Try using .loc[row_indexer,col_indexer] = value instead\n",
      "\n",
      "See the caveats in the documentation: http://pandas.pydata.org/pandas-docs/stable/indexing.html#indexing-view-versus-copy\n",
      "  # This is added back by InteractiveShellApp.init_path()\n"
     ]
    }
   ],
   "source": [
    "#FinCap Goals\n",
    "finCapGoals_mapping = {1: 'Somewhat confident',\n",
    "                             0: 'Not at all confident',\n",
    "                       '0':'Not at all confident',\n",
    "                      2: 'Very confident',\n",
    "                      'Very confident':'Very confident', \n",
    "                      'Somewhat confident':'Somewhat confident',\n",
    "                      'Not at all confident':'Not at all confident', \n",
    "                      'Somewhat Confident':'Somewhat confident',\n",
    "                      'Very Confident':'Very confident'}\n",
    "df_fincap['FinCap_Goals'] = df_fincap['FinCap_Goals'].map(finCapGoals_mapping)"
   ]
  },
  {
   "cell_type": "code",
   "execution_count": 646,
   "metadata": {},
   "outputs": [
    {
     "data": {
      "text/plain": [
       "Somewhat confident      303\n",
       "Very confident          300\n",
       "Not at all confident     70\n",
       "Name: FinCap_Goals, dtype: int64"
      ]
     },
     "execution_count": 646,
     "metadata": {},
     "output_type": "execute_result"
    }
   ],
   "source": [
    "df_fincap['FinCap_Goals'].value_counts()"
   ]
  },
  {
   "cell_type": "code",
   "execution_count": 647,
   "metadata": {},
   "outputs": [
    {
     "data": {
      "text/plain": [
       "0.0    578\n",
       "1.0    153\n",
       "Name: FinCap_EmergencyFund, dtype: int64"
      ]
     },
     "execution_count": 647,
     "metadata": {},
     "output_type": "execute_result"
    }
   ],
   "source": [
    "df_fincap['FinCap_EmergencyFund'].value_counts()"
   ]
  },
  {
   "cell_type": "code",
   "execution_count": 648,
   "metadata": {},
   "outputs": [
    {
     "name": "stderr",
     "output_type": "stream",
     "text": [
      "C:\\Users\\Leah Zhang\\Anaconda3\\lib\\site-packages\\ipykernel_launcher.py:6: SettingWithCopyWarning: \n",
      "A value is trying to be set on a copy of a slice from a DataFrame.\n",
      "Try using .loc[row_indexer,col_indexer] = value instead\n",
      "\n",
      "See the caveats in the documentation: http://pandas.pydata.org/pandas-docs/stable/indexing.html#indexing-view-versus-copy\n",
      "  \n"
     ]
    }
   ],
   "source": [
    "#FinCap Emergency Fund\n",
    "finCapEmergencyFund_mapping = {1: 'Yes',\n",
    "                             0: 'No',\n",
    "                            'Yes': 'Yes',\n",
    "                            'No': 'No'}\n",
    "df_fincap['FinCap_EmergencyFund'] = df_fincap['FinCap_EmergencyFund'].map(finCapEmergencyFund_mapping)"
   ]
  },
  {
   "cell_type": "code",
   "execution_count": 649,
   "metadata": {},
   "outputs": [
    {
     "data": {
      "text/plain": [
       "No     578\n",
       "Yes    153\n",
       "Name: FinCap_EmergencyFund, dtype: int64"
      ]
     },
     "execution_count": 649,
     "metadata": {},
     "output_type": "execute_result"
    }
   ],
   "source": [
    "df_fincap['FinCap_EmergencyFund'].value_counts()"
   ]
  },
  {
   "cell_type": "code",
   "execution_count": 650,
   "metadata": {},
   "outputs": [
    {
     "data": {
      "text/plain": [
       "0.0    495\n",
       "1.0    184\n",
       "Name: FinCap_AutoDeposit, dtype: int64"
      ]
     },
     "execution_count": 650,
     "metadata": {},
     "output_type": "execute_result"
    }
   ],
   "source": [
    "df_fincap['FinCap_AutoDeposit'].value_counts()"
   ]
  },
  {
   "cell_type": "code",
   "execution_count": 651,
   "metadata": {},
   "outputs": [
    {
     "name": "stderr",
     "output_type": "stream",
     "text": [
      "C:\\Users\\Leah Zhang\\Anaconda3\\lib\\site-packages\\ipykernel_launcher.py:7: SettingWithCopyWarning: \n",
      "A value is trying to be set on a copy of a slice from a DataFrame.\n",
      "Try using .loc[row_indexer,col_indexer] = value instead\n",
      "\n",
      "See the caveats in the documentation: http://pandas.pydata.org/pandas-docs/stable/indexing.html#indexing-view-versus-copy\n",
      "  import sys\n"
     ]
    }
   ],
   "source": [
    "#FinCap Auto Deposit\n",
    "\n",
    "finCapAutoDeposit_mapping = {1: 'Yes',\n",
    "                             0: 'No',\n",
    "                            'Yes': 'Yes',\n",
    "                            'No': 'No'}\n",
    "df_fincap['FinCap_AutoDeposit'] = df_fincap['FinCap_AutoDeposit'].map(finCapAutoDeposit_mapping)"
   ]
  },
  {
   "cell_type": "code",
   "execution_count": 652,
   "metadata": {},
   "outputs": [
    {
     "data": {
      "text/plain": [
       "No     495\n",
       "Yes    184\n",
       "Name: FinCap_AutoDeposit, dtype: int64"
      ]
     },
     "execution_count": 652,
     "metadata": {},
     "output_type": "execute_result"
    }
   ],
   "source": [
    "df_fincap['FinCap_AutoDeposit'].value_counts()"
   ]
  },
  {
   "cell_type": "code",
   "execution_count": 653,
   "metadata": {},
   "outputs": [
    {
     "data": {
      "text/plain": [
       "0.0    388\n",
       "1.0    342\n",
       "Name: FinCap_IncomeExpenses, dtype: int64"
      ]
     },
     "execution_count": 653,
     "metadata": {},
     "output_type": "execute_result"
    }
   ],
   "source": [
    "df_fincap['FinCap_IncomeExpenses'].value_counts()"
   ]
  },
  {
   "cell_type": "code",
   "execution_count": 654,
   "metadata": {},
   "outputs": [
    {
     "name": "stderr",
     "output_type": "stream",
     "text": [
      "C:\\Users\\Leah Zhang\\Anaconda3\\lib\\site-packages\\ipykernel_launcher.py:7: SettingWithCopyWarning: \n",
      "A value is trying to be set on a copy of a slice from a DataFrame.\n",
      "Try using .loc[row_indexer,col_indexer] = value instead\n",
      "\n",
      "See the caveats in the documentation: http://pandas.pydata.org/pandas-docs/stable/indexing.html#indexing-view-versus-copy\n",
      "  import sys\n"
     ]
    }
   ],
   "source": [
    "#FinCap Income Expenses\n",
    "finCapIncomeExpenses_mapping = {1: 'Yes',\n",
    "                                0: 'No',\n",
    "                             'No':'No', \n",
    "                             'Yes':'Yes', \n",
    "                             \"No/Don't know\":\"Don't know\"}\n",
    "df_fincap['FinCap_IncomeExpenses'] = df_fincap['FinCap_IncomeExpenses'].map(finCapIncomeExpenses_mapping)"
   ]
  },
  {
   "cell_type": "code",
   "execution_count": 655,
   "metadata": {},
   "outputs": [
    {
     "data": {
      "text/plain": [
       "No     388\n",
       "Yes    342\n",
       "Name: FinCap_IncomeExpenses, dtype: int64"
      ]
     },
     "execution_count": 655,
     "metadata": {},
     "output_type": "execute_result"
    }
   ],
   "source": [
    "df_fincap['FinCap_IncomeExpenses'].value_counts()"
   ]
  },
  {
   "cell_type": "code",
   "execution_count": 656,
   "metadata": {},
   "outputs": [
    {
     "data": {
      "text/plain": [
       "0.0    436\n",
       "1.0    294\n",
       "Name: FinCap_LateFee, dtype: int64"
      ]
     },
     "execution_count": 656,
     "metadata": {},
     "output_type": "execute_result"
    }
   ],
   "source": [
    "df_fincap['FinCap_LateFee'].value_counts()"
   ]
  },
  {
   "cell_type": "code",
   "execution_count": 657,
   "metadata": {},
   "outputs": [
    {
     "name": "stderr",
     "output_type": "stream",
     "text": [
      "C:\\Users\\Leah Zhang\\Anaconda3\\lib\\site-packages\\ipykernel_launcher.py:6: SettingWithCopyWarning: \n",
      "A value is trying to be set on a copy of a slice from a DataFrame.\n",
      "Try using .loc[row_indexer,col_indexer] = value instead\n",
      "\n",
      "See the caveats in the documentation: http://pandas.pydata.org/pandas-docs/stable/indexing.html#indexing-view-versus-copy\n",
      "  \n"
     ]
    }
   ],
   "source": [
    "#FinCap Late Fee\n",
    "finCapLateFee_mapping = {1: 'Yes',\n",
    "                             0: 'No',\n",
    "                        'Yes': 'Yes',\n",
    "                        'No': 'No'}\n",
    "df_fincap['FinCap_LateFee'] = df_fincap['FinCap_LateFee'].map(finCapLateFee_mapping)"
   ]
  },
  {
   "cell_type": "code",
   "execution_count": 658,
   "metadata": {},
   "outputs": [
    {
     "data": {
      "text/plain": [
       "No     436\n",
       "Yes    294\n",
       "Name: FinCap_LateFee, dtype: int64"
      ]
     },
     "execution_count": 658,
     "metadata": {},
     "output_type": "execute_result"
    }
   ],
   "source": [
    "df_fincap['FinCap_LateFee'].value_counts()"
   ]
  },
  {
   "cell_type": "code",
   "execution_count": 664,
   "metadata": {},
   "outputs": [],
   "source": [
    "col_client = ['ClientID', 'Quarter','Baseline', 'date']"
   ]
  },
  {
   "cell_type": "code",
   "execution_count": 665,
   "metadata": {},
   "outputs": [],
   "source": [
    "df_client = df[col_client]"
   ]
  },
  {
   "cell_type": "code",
   "execution_count": 659,
   "metadata": {},
   "outputs": [],
   "source": [
    "df_demo.to_csv(r'C:\\Users\\Leah Zhang\\Desktop\\database\\CSVs2\\demographic.csv')\n",
    "df_emp.to_csv(r'C:\\Users\\Leah Zhang\\Desktop\\database\\CSVs2\\employment.csv')\n",
    "df_financials.to_csv(r'C:\\Users\\Leah Zhang\\Desktop\\database\\CSVs2\\financials.csv')\n",
    "df_wages.to_csv(r'C:\\Users\\Leah Zhang\\Desktop\\database\\CSVs2\\wages.csv')\n",
    "df_incomeexpenses.to_csv(r'C:\\Users\\Leah Zhang\\Desktop\\database\\CSVs2\\incomeexpenses.csv')\n",
    "df_bundledservices.to_csv(r'C:\\Users\\Leah Zhang\\Desktop\\database\\CSVs2\\bundledservices.csv')\n",
    "df_fincap.to_csv(r'C:\\Users\\Leah Zhang\\Desktop\\database\\CSVs2\\fincap.csv')\n",
    "df_client.to_csv(r'C:\\Users\\Leah Zhang\\Desktop\\database\\CSVs2\\client.csv')"
   ]
  },
  {
   "cell_type": "code",
   "execution_count": null,
   "metadata": {},
   "outputs": [],
   "source": []
  }
 ],
 "metadata": {
  "kernelspec": {
   "display_name": "Python 3",
   "language": "python",
   "name": "python3"
  },
  "language_info": {
   "codemirror_mode": {
    "name": "ipython",
    "version": 3
   },
   "file_extension": ".py",
   "mimetype": "text/x-python",
   "name": "python",
   "nbconvert_exporter": "python",
   "pygments_lexer": "ipython3",
   "version": "3.7.3"
  }
 },
 "nbformat": 4,
 "nbformat_minor": 2
}
