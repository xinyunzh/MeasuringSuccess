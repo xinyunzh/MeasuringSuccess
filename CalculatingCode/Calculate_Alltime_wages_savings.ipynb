{
 "cells": [
  {
   "cell_type": "code",
   "execution_count": 1,
   "metadata": {},
   "outputs": [
    {
     "data": {
      "text/plain": [
       "'C:\\\\Users\\\\Leah\\\\Google Drive\\\\Parent Folder\\\\2. Clients\\\\Local\\\\Dallas\\\\Communities Foundation of Texas\\\\Q32018\\\\Data Work'"
      ]
     },
     "execution_count": 1,
     "metadata": {},
     "output_type": "execute_result"
    }
   ],
   "source": [
    "import pandas as pd\n",
    "import numpy as np\n",
    "%pwd"
   ]
  },
  {
   "cell_type": "code",
   "execution_count": 8,
   "metadata": {},
   "outputs": [],
   "source": [
    "df = pd.read_excel(r\"C:\\Users\\Leah\\Google Drive\\Parent Folder\\2. Clients\\Local\\Dallas\\Communities Foundation of Texas\\Q32018\\Data Work\\Alldata_1_7.xlsx\")"
   ]
  },
  {
   "cell_type": "markdown",
   "metadata": {},
   "source": [
    "### wages1 all time"
   ]
  },
  {
   "cell_type": "code",
   "execution_count": 9,
   "metadata": {},
   "outputs": [
    {
     "data": {
      "text/plain": [
       "['Wages1_Baseline',\n",
       " 'Wages1_Baseline Cat',\n",
       " 'Wages1 2016_Q1',\n",
       " 'Wages1 2016_Q1 Cat',\n",
       " 'Wages1and2Combined 2016_Q1',\n",
       " 'Wages1 2016_Q2',\n",
       " 'Wages1 2016_Q2 Cat',\n",
       " 'Wages1_Checkin 2016_Q3',\n",
       " 'Wages1_Checkin 2016_Q3 Cat',\n",
       " 'Wages1_Checkin 2016_Q4',\n",
       " 'Wages1_Checkin 2016_Q4 Cat',\n",
       " 'Wages1 2017_Q1',\n",
       " 'Wages1 2017_Q1 Cat',\n",
       " 'Wages1_Checkin_2017Q2',\n",
       " 'Wages1_Checkin_CAT_2017Q2',\n",
       " 'Wages1_Checkin_2017Q3',\n",
       " 'Wages1_Checkin_2017Q3 Cat',\n",
       " 'Wages1_Checkin_2017Q4',\n",
       " 'Wages1_Checkin_2018Q1',\n",
       " 'Wages1_Checkin_2018Q2',\n",
       " 'Wages1_Checkin_2018Q3']"
      ]
     },
     "execution_count": 9,
     "metadata": {},
     "output_type": "execute_result"
    }
   ],
   "source": [
    "[w for w in df.columns if 'Wages1' in w]"
   ]
  },
  {
   "cell_type": "code",
   "execution_count": 10,
   "metadata": {},
   "outputs": [],
   "source": [
    "df['Wages1 2016_Q1']=df['Wages1 2016_Q1'].fillna('NULL')\n",
    "df['Wages1_2016_Q1_code']=np.where(df['Wages1 2016_Q1']=='NULL', 'NULL', '1')\n",
    "\n",
    "df['Wages1 2016_Q2']=df['Wages1 2016_Q2'].fillna('NULL')\n",
    "df['Wages1_2016_Q2_code']=np.where(df['Wages1 2016_Q2']=='NULL', 'NULL', '2')\n",
    "\n",
    "df['Wages1_Checkin 2016_Q3']=df['Wages1_Checkin 2016_Q3'].fillna('NULL')\n",
    "df['Wages1_2016_Q3_code']=np.where(df['Wages1_Checkin 2016_Q3']=='NULL', 'NULL', '3')\n",
    "\n",
    "df['Wages1_Checkin 2016_Q4']=df['Wages1_Checkin 2016_Q4'].fillna('NULL')\n",
    "df['Wages1_2016_Q4_code']=np.where(df['Wages1_Checkin 2016_Q4']=='NULL', 'NULL', '4')\n",
    "\n",
    "df['Wages1 2017_Q1']=df['Wages1 2017_Q1'].fillna('NULL')\n",
    "df['Wages1_2017_Q1_code']=np.where(df['Wages1 2017_Q1']=='NULL', 'NULL', '5')\n",
    "\n",
    "df['Wages1_Checkin_2017Q2']=df['Wages1_Checkin_2017Q2'].fillna('NULL')\n",
    "df['Wages1_2017_Q2_code']=np.where(df['Wages1_Checkin_2017Q2']=='NULL', 'NULL', '6')\n",
    "\n",
    "df['Wages1_Checkin_2017Q3']=df['Wages1_Checkin_2017Q3'].fillna('NULL')\n",
    "df['Wages1_2017_Q3_code']=np.where(df['Wages1_Checkin_2017Q3']=='NULL', 'NULL', '7')\n",
    "\n",
    "df['Wages1_Checkin_2017Q4']=df['Wages1_Checkin_2017Q4'].fillna('NULL')\n",
    "df['Wages1_2017_Q4_code']=np.where(df['Wages1_Checkin_2017Q4']=='NULL', 'NULL', '8')\n",
    "\n",
    "df['Wages1_Checkin_2018Q1']=df['Wages1_Checkin_2018Q1'].fillna('NULL')\n",
    "df['Wages1_2018_Q1_code']=np.where(df['Wages1_Checkin_2018Q1']=='NULL', 'NULL', '9')\n",
    "\n",
    "df['Wages1_Checkin_2018Q2']=df['Wages1_Checkin_2018Q2'].fillna('NULL')\n",
    "df['Wages1_2018_Q2_code']=np.where(df['Wages1_Checkin_2018Q2']=='NULL', 'NULL', '10')\n",
    "\n",
    "df['Wages1_Checkin_2018Q3']=df['Wages1_Checkin_2018Q3'].fillna('NULL')\n",
    "df['Wages1_2018_Q3_code']=np.where(df['Wages1_Checkin_2018Q3']=='NULL', 'NULL', '11')"
   ]
  },
  {
   "cell_type": "code",
   "execution_count": 11,
   "metadata": {},
   "outputs": [],
   "source": [
    "def get_wages1_all(df):\n",
    "    if df['Wages1_2018_Q3_code']=='11':\n",
    "        return df['Wages1_Checkin_2018Q3']\n",
    "    elif df['Wages1_2018_Q2_code']=='10':\n",
    "        return df['Wages1_Checkin_2018Q2']\n",
    "    elif df['Wages1_2018_Q1_code']=='9':\n",
    "        return df['Wages1_Checkin_2018Q1']\n",
    "    elif df['Wages1_2017_Q4_code']=='8':\n",
    "        return df['Wages1_Checkin_2017Q4']\n",
    "    elif df['Wages1_2017_Q3_code']=='7':\n",
    "        return df['Wages1_Checkin_2017Q3']\n",
    "    elif df['Wages1_2017_Q2_code']=='6':\n",
    "        return df['Wages1_Checkin_2017Q2']\n",
    "    elif df['Wages1_2017_Q1_code']=='5':\n",
    "        return df['Wages1 2017_Q1']\n",
    "    elif df['Wages1_2016_Q4_code']=='4':\n",
    "        return df['Wages1_Checkin 2016_Q4']\n",
    "    elif df['Wages1_2016_Q3_code']=='3':\n",
    "        return df['Wages1_Checkin 2016_Q3']\n",
    "    elif df['Wages1_2016_Q2_code']=='2':\n",
    "        return df['Wages1 2016_Q2']\n",
    "    elif df['Wages1_2016_Q1_code']=='1':\n",
    "        return df['Wages1 2016_Q1']\n",
    "    else:\n",
    "        return 'NULL'\n",
    "\n",
    "df['Wages1_AllTime']=df.apply(get_wages1_all, axis=1)"
   ]
  },
  {
   "cell_type": "code",
   "execution_count": 14,
   "metadata": {},
   "outputs": [],
   "source": [
    "#df['Wages1_AllTime'].value_counts()"
   ]
  },
  {
   "cell_type": "markdown",
   "metadata": {},
   "source": [
    "### savings all time"
   ]
  },
  {
   "cell_type": "code",
   "execution_count": 16,
   "metadata": {},
   "outputs": [
    {
     "data": {
      "text/plain": [
       "['Savings_Baseline',\n",
       " 'Savings_Baseline Cat',\n",
       " 'Savings 2016_Q1',\n",
       " 'Savings 2016_Q1 Cat',\n",
       " 'Savings 2016_Q2',\n",
       " 'Savings 2016_Q2 Cat',\n",
       " 'Savings_Checkin 2016_Q3',\n",
       " 'Savings_Checkin 2016_Q3 Cat',\n",
       " 'Savings_Checkin 2016_Q4',\n",
       " 'Savings_Checkin 2016_Q4.1',\n",
       " 'Savings 2017_Q1',\n",
       " 'Savings 2017_Q1 Cat',\n",
       " 'Savings_Checkin_2017Q2',\n",
       " 'Savings_Checkin_CAT_2017Q2',\n",
       " 'Savings_Checkin_2017Q3',\n",
       " 'Savings_Checkin_2017Q3_Cat',\n",
       " 'Savings_Checkin_2017Q4',\n",
       " 'Savings_Checkin_Cat_2017Q4',\n",
       " 'Savings_Checkin_2018Q1',\n",
       " 'Savings_Checkin_Cat_2018Q1',\n",
       " 'Savings_Checkin_2018Q2',\n",
       " 'Savings_Checkin_Cat_2018Q2',\n",
       " 'Savings_Checkin_2018Q3',\n",
       " 'Savings_Cat_Checkin_2018Q3']"
      ]
     },
     "execution_count": 16,
     "metadata": {},
     "output_type": "execute_result"
    }
   ],
   "source": [
    "[w for w in df.columns if 'Savings' in w]"
   ]
  },
  {
   "cell_type": "code",
   "execution_count": 17,
   "metadata": {},
   "outputs": [],
   "source": [
    "df['Savings 2016_Q1']=df['Savings 2016_Q1'].fillna('NULL')\n",
    "df['Savings_2016_Q1_code']=np.where(df['Savings 2016_Q1']=='NULL', 'NULL', '1')\n",
    "\n",
    "df['Savings 2016_Q2']=df['Savings 2016_Q2'].fillna('NULL')\n",
    "df['Savings_2016_Q2_code']=np.where(df['Savings 2016_Q2']=='NULL', 'NULL', '2')\n",
    "\n",
    "df['Savings_Checkin 2016_Q3']=df['Savings_Checkin 2016_Q3'].fillna('NULL')\n",
    "df['Savings_2016_Q3_code']=np.where(df['Savings_Checkin 2016_Q3']=='NULL', 'NULL', '3')\n",
    "\n",
    "df['Savings_Checkin 2016_Q4']=df['Savings_Checkin 2016_Q4'].fillna('NULL')\n",
    "df['Savings_2016_Q4_code']=np.where(df['Savings_Checkin 2016_Q4']=='NULL', 'NULL', '4')\n",
    "\n",
    "df['Savings 2017_Q1']=df['Savings 2017_Q1'].fillna('NULL')\n",
    "df['Savings_2017_Q1_code']=np.where(df['Savings 2017_Q1']=='NULL', 'NULL', '5')\n",
    "\n",
    "df['Savings_Checkin_2017Q2']=df['Savings_Checkin_2017Q2'].fillna('NULL')\n",
    "df['Savings_2017_Q2_code']=np.where(df['Savings_Checkin_2017Q2']=='NULL', 'NULL', '6')\n",
    "\n",
    "df['Savings_Checkin_2017Q3']=df['Savings_Checkin_2017Q3'].fillna('NULL')\n",
    "df['Savings_2017_Q3_code']=np.where(df['Savings_Checkin_2017Q3']=='NULL', 'NULL', '7')\n",
    "\n",
    "df['Savings_Checkin_2017Q4']=df['Savings_Checkin_2017Q4'].fillna('NULL')\n",
    "df['Savings_2017_Q4_code']=np.where(df['Savings_Checkin_2017Q4']=='NULL', 'NULL', '8')\n",
    "\n",
    "df['Savings_Checkin_2018Q1']=df['Savings_Checkin_2018Q1'].fillna('NULL')\n",
    "df['Savings_2018_Q1_code']=np.where(df['Savings_Checkin_2018Q1']=='NULL', 'NULL', '9')\n",
    "\n",
    "df['Savings_Checkin_2018Q2']=df['Savings_Checkin_2018Q2'].fillna('NULL')\n",
    "df['Savings_2018_Q2_code']=np.where(df['Savings_Checkin_2018Q2']=='NULL', 'NULL', '10')\n",
    "\n",
    "df['Savings_Checkin_2018Q3']=df['Savings_Checkin_2018Q3'].fillna('NULL')\n",
    "df['Savings_2018_Q3_code']=np.where(df['Savings_Checkin_2018Q3']=='NULL', 'NULL', '11')"
   ]
  },
  {
   "cell_type": "code",
   "execution_count": 18,
   "metadata": {},
   "outputs": [],
   "source": [
    "def get_savings_all(df):\n",
    "    if df['Savings_2018_Q3_code']=='11':\n",
    "        return df['Savings_Checkin_2018Q3']\n",
    "    elif df['Savings_2018_Q2_code']=='10':\n",
    "        return df['Savings_Checkin_2018Q2']\n",
    "    elif df['Savings_2018_Q1_code']=='9':\n",
    "        return df['Savings_Checkin_2018Q1']\n",
    "    elif df['Savings_2017_Q4_code']=='8':\n",
    "        return df['Savings_Checkin_2017Q4']\n",
    "    elif df['Savings_2017_Q3_code']=='7':\n",
    "        return df['Savings_Checkin_2017Q3']\n",
    "    elif df['Savings_2017_Q2_code']=='6':\n",
    "        return df['Savings_Checkin_2017Q2']\n",
    "    elif df['Savings_2017_Q1_code']=='5':\n",
    "        return df['Savings 2017_Q1']\n",
    "    elif df['Savings_2016_Q4_code']=='4':\n",
    "        return df['Savings_Checkin 2016_Q4']\n",
    "    elif df['Savings_2016_Q3_code']=='3':\n",
    "        return df['Savings_Checkin 2016_Q3']\n",
    "    elif df['Savings_2016_Q2_code']=='2':\n",
    "        return df['Savings 2016_Q2']\n",
    "    elif df['Savings_2016_Q1_code']=='1':\n",
    "        return df['Savings 2016_Q1']\n",
    "    else:\n",
    "        return 'NULL'\n",
    "\n",
    "df['Savings_AllTime']=df.apply(get_savings_all, axis=1)"
   ]
  },
  {
   "cell_type": "code",
   "execution_count": 23,
   "metadata": {},
   "outputs": [],
   "source": [
    "#df['Savings_AllTime'].value_counts()"
   ]
  },
  {
   "cell_type": "code",
   "execution_count": 24,
   "metadata": {},
   "outputs": [],
   "source": [
    "df=df.replace('NULL','')"
   ]
  },
  {
   "cell_type": "code",
   "execution_count": 25,
   "metadata": {},
   "outputs": [],
   "source": [
    "df.to_excel('Alltime_SavingsWages.xlsx')"
   ]
  },
  {
   "cell_type": "code",
   "execution_count": null,
   "metadata": {},
   "outputs": [],
   "source": []
  }
 ],
 "metadata": {
  "kernelspec": {
   "display_name": "Python 3",
   "language": "python",
   "name": "python3"
  },
  "language_info": {
   "codemirror_mode": {
    "name": "ipython",
    "version": 3
   },
   "file_extension": ".py",
   "mimetype": "text/x-python",
   "name": "python",
   "nbconvert_exporter": "python",
   "pygments_lexer": "ipython3",
   "version": "3.6.5"
  }
 },
 "nbformat": 4,
 "nbformat_minor": 2
}
