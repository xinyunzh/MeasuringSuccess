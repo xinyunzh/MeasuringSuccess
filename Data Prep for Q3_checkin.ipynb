{
 "cells": [
  {
   "cell_type": "code",
   "execution_count": 1,
   "metadata": {},
   "outputs": [],
   "source": [
    "import pandas as pd\n",
    "import numpy as np"
   ]
  },
  {
   "cell_type": "code",
   "execution_count": 2,
   "metadata": {},
   "outputs": [
    {
     "data": {
      "text/plain": [
       "'C:\\\\Users\\\\Leah\\\\Google Drive\\\\Parent Folder\\\\2. Clients\\\\Local\\\\Dallas\\\\Communities Foundation of Texas\\\\Q32018\\\\Data Work'"
      ]
     },
     "execution_count": 2,
     "metadata": {},
     "output_type": "execute_result"
    }
   ],
   "source": [
    "%pwd"
   ]
  },
  {
   "cell_type": "markdown",
   "metadata": {},
   "source": [
    "### Process for Check-in data"
   ]
  },
  {
   "cell_type": "code",
   "execution_count": 220,
   "metadata": {},
   "outputs": [],
   "source": [
    "df=pd.read_excel(r\"C:\\Users\\Leah\\Google Drive\\Parent Folder\\2. Clients\\Local\\Dallas\\Communities Foundation of Texas\\Q32018\\Data Work\\Q3Data.xlsx\")"
   ]
  },
  {
   "cell_type": "code",
   "execution_count": 221,
   "metadata": {},
   "outputs": [
    {
     "data": {
      "text/html": [
       "<div>\n",
       "<style scoped>\n",
       "    .dataframe tbody tr th:only-of-type {\n",
       "        vertical-align: middle;\n",
       "    }\n",
       "\n",
       "    .dataframe tbody tr th {\n",
       "        vertical-align: top;\n",
       "    }\n",
       "\n",
       "    .dataframe thead th {\n",
       "        text-align: right;\n",
       "    }\n",
       "</style>\n",
       "<table border=\"1\" class=\"dataframe\">\n",
       "  <thead>\n",
       "    <tr style=\"text-align: right;\">\n",
       "      <th></th>\n",
       "      <th>Agency</th>\n",
       "      <th>Client ID</th>\n",
       "      <th>Baseline_2018Q3</th>\n",
       "      <th>DOB</th>\n",
       "      <th>Gender</th>\n",
       "      <th>Race</th>\n",
       "      <th>Hispanic</th>\n",
       "      <th>MaritalStatus</th>\n",
       "      <th>HighestEd</th>\n",
       "      <th>HousingType</th>\n",
       "      <th>...</th>\n",
       "      <th>ExpensesHH_Checkin_Cat_2018Q3</th>\n",
       "      <th>BenefitsScreening</th>\n",
       "      <th>PublicBenefitsAccess</th>\n",
       "      <th>AgencyProvidedSupport</th>\n",
       "      <th>FinCap_Budget</th>\n",
       "      <th>FinCap_Goals</th>\n",
       "      <th>FinCap_EmergencyFund</th>\n",
       "      <th>FinCap_AutoDeposit</th>\n",
       "      <th>FinCap_IncomeExpenses</th>\n",
       "      <th>FinCap_LateFee</th>\n",
       "    </tr>\n",
       "  </thead>\n",
       "  <tbody>\n",
       "    <tr>\n",
       "      <th>0</th>\n",
       "      <td>CCD</td>\n",
       "      <td>1038583</td>\n",
       "      <td>0</td>\n",
       "      <td>1963-11-01 00:00:00</td>\n",
       "      <td>1</td>\n",
       "      <td>3.0</td>\n",
       "      <td>NaN</td>\n",
       "      <td>2.0</td>\n",
       "      <td>99.0</td>\n",
       "      <td>99.0</td>\n",
       "      <td>...</td>\n",
       "      <td>NaN</td>\n",
       "      <td>1.0</td>\n",
       "      <td>NaN</td>\n",
       "      <td>NaN</td>\n",
       "      <td>1.0</td>\n",
       "      <td>2.0</td>\n",
       "      <td>0.0</td>\n",
       "      <td>1.0</td>\n",
       "      <td>1.0</td>\n",
       "      <td>1.0</td>\n",
       "    </tr>\n",
       "    <tr>\n",
       "      <th>1</th>\n",
       "      <td>CCD</td>\n",
       "      <td>1038869</td>\n",
       "      <td>0</td>\n",
       "      <td>1962-04-29 00:00:00</td>\n",
       "      <td>2</td>\n",
       "      <td>8.0</td>\n",
       "      <td>NaN</td>\n",
       "      <td>2.0</td>\n",
       "      <td>1.0</td>\n",
       "      <td>5.0</td>\n",
       "      <td>...</td>\n",
       "      <td>NaN</td>\n",
       "      <td>0.0</td>\n",
       "      <td>NaN</td>\n",
       "      <td>NaN</td>\n",
       "      <td>1.0</td>\n",
       "      <td>0.0</td>\n",
       "      <td>0.0</td>\n",
       "      <td>0.0</td>\n",
       "      <td>0.0</td>\n",
       "      <td>1.0</td>\n",
       "    </tr>\n",
       "    <tr>\n",
       "      <th>2</th>\n",
       "      <td>CCD</td>\n",
       "      <td>1044721</td>\n",
       "      <td>0</td>\n",
       "      <td>1964-07-04 00:00:00</td>\n",
       "      <td>2</td>\n",
       "      <td>8.0</td>\n",
       "      <td>NaN</td>\n",
       "      <td>2.0</td>\n",
       "      <td>1.0</td>\n",
       "      <td>4.0</td>\n",
       "      <td>...</td>\n",
       "      <td>NaN</td>\n",
       "      <td>0.0</td>\n",
       "      <td>NaN</td>\n",
       "      <td>NaN</td>\n",
       "      <td>1.0</td>\n",
       "      <td>1.0</td>\n",
       "      <td>0.0</td>\n",
       "      <td>0.0</td>\n",
       "      <td>1.0</td>\n",
       "      <td>1.0</td>\n",
       "    </tr>\n",
       "    <tr>\n",
       "      <th>3</th>\n",
       "      <td>CCD</td>\n",
       "      <td>1045973</td>\n",
       "      <td>0</td>\n",
       "      <td>1955-08-13 00:00:00</td>\n",
       "      <td>2</td>\n",
       "      <td>7.0</td>\n",
       "      <td>NaN</td>\n",
       "      <td>3.0</td>\n",
       "      <td>4.0</td>\n",
       "      <td>99.0</td>\n",
       "      <td>...</td>\n",
       "      <td>NaN</td>\n",
       "      <td>1.0</td>\n",
       "      <td>NaN</td>\n",
       "      <td>NaN</td>\n",
       "      <td>1.0</td>\n",
       "      <td>2.0</td>\n",
       "      <td>1.0</td>\n",
       "      <td>1.0</td>\n",
       "      <td>1.0</td>\n",
       "      <td>1.0</td>\n",
       "    </tr>\n",
       "    <tr>\n",
       "      <th>4</th>\n",
       "      <td>CCD</td>\n",
       "      <td>1047005</td>\n",
       "      <td>0</td>\n",
       "      <td>1966-12-27 00:00:00</td>\n",
       "      <td>2</td>\n",
       "      <td>3.0</td>\n",
       "      <td>NaN</td>\n",
       "      <td>3.0</td>\n",
       "      <td>1.0</td>\n",
       "      <td>4.0</td>\n",
       "      <td>...</td>\n",
       "      <td>NaN</td>\n",
       "      <td>1.0</td>\n",
       "      <td>NaN</td>\n",
       "      <td>NaN</td>\n",
       "      <td>0.0</td>\n",
       "      <td>1.0</td>\n",
       "      <td>0.0</td>\n",
       "      <td>0.0</td>\n",
       "      <td>1.0</td>\n",
       "      <td>1.0</td>\n",
       "    </tr>\n",
       "  </tbody>\n",
       "</table>\n",
       "<p>5 rows × 57 columns</p>\n",
       "</div>"
      ],
      "text/plain": [
       "  Agency Client ID  Baseline_2018Q3                  DOB  Gender  Race  \\\n",
       "0    CCD   1038583                0  1963-11-01 00:00:00       1   3.0   \n",
       "1    CCD   1038869                0  1962-04-29 00:00:00       2   8.0   \n",
       "2    CCD   1044721                0  1964-07-04 00:00:00       2   8.0   \n",
       "3    CCD   1045973                0  1955-08-13 00:00:00       2   7.0   \n",
       "4    CCD   1047005                0  1966-12-27 00:00:00       2   3.0   \n",
       "\n",
       "   Hispanic  MaritalStatus  HighestEd  HousingType       ...        \\\n",
       "0       NaN            2.0       99.0         99.0       ...         \n",
       "1       NaN            2.0        1.0          5.0       ...         \n",
       "2       NaN            2.0        1.0          4.0       ...         \n",
       "3       NaN            3.0        4.0         99.0       ...         \n",
       "4       NaN            3.0        1.0          4.0       ...         \n",
       "\n",
       "   ExpensesHH_Checkin_Cat_2018Q3  BenefitsScreening  PublicBenefitsAccess  \\\n",
       "0                            NaN                1.0                   NaN   \n",
       "1                            NaN                0.0                   NaN   \n",
       "2                            NaN                0.0                   NaN   \n",
       "3                            NaN                1.0                   NaN   \n",
       "4                            NaN                1.0                   NaN   \n",
       "\n",
       "   AgencyProvidedSupport FinCap_Budget  FinCap_Goals  FinCap_EmergencyFund  \\\n",
       "0                    NaN           1.0           2.0                   0.0   \n",
       "1                    NaN           1.0           0.0                   0.0   \n",
       "2                    NaN           1.0           1.0                   0.0   \n",
       "3                    NaN           1.0           2.0                   1.0   \n",
       "4                    NaN           0.0           1.0                   0.0   \n",
       "\n",
       "  FinCap_AutoDeposit FinCap_IncomeExpenses  FinCap_LateFee  \n",
       "0                1.0                   1.0             1.0  \n",
       "1                0.0                   0.0             1.0  \n",
       "2                0.0                   1.0             1.0  \n",
       "3                1.0                   1.0             1.0  \n",
       "4                0.0                   1.0             1.0  \n",
       "\n",
       "[5 rows x 57 columns]"
      ]
     },
     "execution_count": 221,
     "metadata": {},
     "output_type": "execute_result"
    }
   ],
   "source": [
    "df.head()"
   ]
  },
  {
   "cell_type": "code",
   "execution_count": 222,
   "metadata": {},
   "outputs": [],
   "source": [
    "##Add a suffix to each column name\n",
    "#https://stackoverflow.com/questions/34049618/how-to-add-a-suffix-to-each-column-name"
   ]
  },
  {
   "cell_type": "code",
   "execution_count": 223,
   "metadata": {},
   "outputs": [],
   "source": [
    "df.columns = [str(col) + '_Checkin_2018Q3' for col in df.columns]"
   ]
  },
  {
   "cell_type": "code",
   "execution_count": 224,
   "metadata": {},
   "outputs": [
    {
     "data": {
      "text/plain": [
       "['Assets_Checkin_2018Q3_Checkin_2018Q3',\n",
       " 'AccessFinancialCoach_Checkin_2018Q3_Checkin_2018Q3',\n",
       " 'IntensityFinancialEd_Checkin_2018Q3_Checkin_2018Q3',\n",
       " 'IntensityFinancialCoach_Checkin_2018Q3_Checkin_2018Q3',\n",
       " 'Wages Merged_Checkin_2018Q3_Checkin_2018Q3',\n",
       " 'Hours Merged_Checkin_2018Q3_Checkin_2018Q3']"
      ]
     },
     "execution_count": 224,
     "metadata": {},
     "output_type": "execute_result"
    }
   ],
   "source": [
    "[w for w in df.columns if '_Checkin_2018Q3_Checkin_2018Q3' in w]"
   ]
  },
  {
   "cell_type": "code",
   "execution_count": 225,
   "metadata": {},
   "outputs": [],
   "source": [
    "df = df.rename(columns = {'Assets_Checkin_2018Q3_Checkin_2018Q3':'Assets_Checkin_2018Q3',\n",
    "                         'AccessFinancialCoach_Checkin_2018Q3_Checkin_2018Q3':'AccessFinancialCoach_Checkin_2018Q3',\n",
    "                         'IntensityFinancialEd_Checkin_2018Q3_Checkin_2018Q3':'IntensityFinancialEd_Checkin_2018Q3',\n",
    "                         'IntensityFinancialCoach_Checkin_2018Q3_Checkin_2018Q3':'IntensityFinancialCoach_Checkin_2018Q3',\n",
    "                         'Wages Merged_Checkin_2018Q3_Checkin_2018Q3':'Wages Merged_Checkin_2018Q3',\n",
    "                         'Hours Merged_Checkin_2018Q3_Checkin_2018Q3':'Hours Merged_Checkin_2018Q3'})"
   ]
  },
  {
   "cell_type": "code",
   "execution_count": 226,
   "metadata": {},
   "outputs": [],
   "source": [
    "#df=df.rename(columns={col: col.split('_')[0] for col in df.columns if '_Checkin_2018Q3_Checkin_2018Q3' in df.columns})"
   ]
  },
  {
   "cell_type": "code",
   "execution_count": 227,
   "metadata": {},
   "outputs": [],
   "source": [
    "#df[alter1].columns = [str(col).replace('_Checkin_2018Q3_Checkin_2018Q3', '_Checkin_2018Q3') for col in df[alter1].columns]"
   ]
  },
  {
   "cell_type": "code",
   "execution_count": 228,
   "metadata": {},
   "outputs": [
    {
     "data": {
      "text/plain": [
       "['Savings_Checkin_Cat_2018Q3_Checkin_2018Q3',\n",
       " 'Assets_Checkin_Cat_2018Q3_Checkin_2018Q3',\n",
       " 'CreditScore_Checkin_Cat_2018Q3_Checkin_2018Q3',\n",
       " 'Debt_Checkin_Cat_2018Q3_Checkin_2018Q3',\n",
       " 'Wages Merged_Checkin_Cat_2018Q3_Checkin_2018Q3',\n",
       " 'Hours Merged_Checkin_Cat_2018Q3_Checkin_2018Q3',\n",
       " 'IncomeClient_Checkin_Cat_2018Q3_Checkin_2018Q3',\n",
       " 'IncomeHH_Checkin_Cat_2018Q3_Checkin_2018Q3',\n",
       " 'ExpensesHH_Checkin_Cat_2018Q3_Checkin_2018Q3']"
      ]
     },
     "execution_count": 228,
     "metadata": {},
     "output_type": "execute_result"
    }
   ],
   "source": [
    "[w for w in df.columns if '_Checkin_Cat_2018Q3_Checkin_2018Q3' in w]"
   ]
  },
  {
   "cell_type": "code",
   "execution_count": 229,
   "metadata": {},
   "outputs": [],
   "source": [
    "df = df.rename(columns = {'Savings_Checkin_Cat_2018Q3_Checkin_2018Q3':'Savings_Cat_Checkin_2018Q3',\n",
    "                         'Assets_Checkin_Cat_2018Q3_Checkin_2018Q3':'Assets_Cat_Checkin_2018Q3',\n",
    "                         'CreditScore_Checkin_Cat_2018Q3_Checkin_2018Q3':'CreditScore_Cat_Checkin_2018Q3',\n",
    "                         'Debt_Checkin_Cat_2018Q3_Checkin_2018Q3':'Debt_Cat_Checkin_2018Q3',\n",
    "                         'Wages Merged_Checkin_Cat_2018Q3_Checkin_2018Q3':'Wages Merged_Cat_Checkin_2018Q3',\n",
    "                         'Hours Merged_Checkin_Cat_2018Q3_Checkin_2018Q3':'Hours Merged_Cat_Checkin_2018Q3',\n",
    "                         'IncomeClient_Checkin_Cat_2018Q3_Checkin_2018Q3':'IncomeClient_Cat_Checkin_2018Q3',\n",
    "                         'IncomeHH_Checkin_Cat_2018Q3_Checkin_2018Q3':'IncomeHH_Cat_Checkin_2018Q3',\n",
    "                         'ExpensesHH_Checkin_Cat_2018Q3_Checkin_2018Q3':'ExpensesHH_Cat_Checkin_2018Q3'})"
   ]
  },
  {
   "cell_type": "code",
   "execution_count": 230,
   "metadata": {},
   "outputs": [],
   "source": [
    "#df.to_excel('Q3_checkin.xlsx')"
   ]
  },
  {
   "cell_type": "code",
   "execution_count": 231,
   "metadata": {},
   "outputs": [],
   "source": [
    "df['Hispanic_Checkin_2018Q3'] = np.where(df['Race_Checkin_2018Q3']==8,'Hispanic',\"\")"
   ]
  },
  {
   "cell_type": "markdown",
   "metadata": {},
   "source": [
    "### calculate wages merged and to make sure blank doesn't convert into 0"
   ]
  },
  {
   "cell_type": "code",
   "execution_count": 232,
   "metadata": {},
   "outputs": [],
   "source": [
    "df['Wages1_Checkin_2018Q3_recode'] = df['Wages1_Checkin_2018Q3'].fillna(0)"
   ]
  },
  {
   "cell_type": "code",
   "execution_count": 233,
   "metadata": {},
   "outputs": [],
   "source": [
    "df['Wages2_Checkin_2018Q3_recode'] = df['Wages2_Checkin_2018Q3'].fillna(0)"
   ]
  },
  {
   "cell_type": "code",
   "execution_count": 234,
   "metadata": {},
   "outputs": [],
   "source": [
    "df['Wages Merged_Checkin_2018Q3'] = np.where(df['Wages1_Checkin_2018Q3_recode']>=df['Wages2_Checkin_2018Q3_recode'],df['Wages1_Checkin_2018Q3_recode'],df['Wages2_Checkin_2018Q3_recode'])"
   ]
  },
  {
   "cell_type": "code",
   "execution_count": 235,
   "metadata": {},
   "outputs": [],
   "source": [
    "df['Wages1_Checkin_2018Q3_recode2']= df['Wages1_Checkin_2018Q3'].fillna('N')"
   ]
  },
  {
   "cell_type": "code",
   "execution_count": 236,
   "metadata": {},
   "outputs": [],
   "source": [
    "df['Wages2_Checkin_2018Q3_recode2']= df['Wages2_Checkin_2018Q3'].fillna('N')"
   ]
  },
  {
   "cell_type": "code",
   "execution_count": 237,
   "metadata": {},
   "outputs": [],
   "source": [
    "df['Wages Merged_Checkin_2018Q3'] = np.where(df['Wages1_Checkin_2018Q3_recode2'] =='N', \"\", df['Wages Merged_Checkin_2018Q3'])"
   ]
  },
  {
   "cell_type": "code",
   "execution_count": 238,
   "metadata": {},
   "outputs": [],
   "source": [
    "df['Wages Merged_Checkin_2018Q3'] = np.where(df['Wages2_Checkin_2018Q3_recode2'] ==df['Wages1_Checkin_2018Q3_recode2'], \"\", df['Wages Merged_Checkin_2018Q3'])"
   ]
  },
  {
   "cell_type": "code",
   "execution_count": 239,
   "metadata": {},
   "outputs": [],
   "source": [
    "df['Wages Merged_Checkin_2018Q3']=pd.to_numeric(df['Wages Merged_Checkin_2018Q3'] )"
   ]
  },
  {
   "cell_type": "markdown",
   "metadata": {},
   "source": [
    "### calculate hours merged"
   ]
  },
  {
   "cell_type": "code",
   "execution_count": 240,
   "metadata": {},
   "outputs": [],
   "source": [
    "conditions = [df['Wages Merged_Checkin_2018Q3'] == df['Wages1_Checkin_2018Q3'],\n",
    "             df['Wages Merged_Checkin_2018Q3'] == df['Wages2_Checkin_2018Q3']]\n",
    "choices = [df['Hours1_Checkin_2018Q3'], df['Hours2_Checkin_2018Q3']]\n",
    "df['Hours Merged_Checkin_2018Q3'] = np.select(conditions, choices, default = \"\")"
   ]
  },
  {
   "cell_type": "code",
   "execution_count": 241,
   "metadata": {},
   "outputs": [],
   "source": [
    "df[df['Hours Merged_Checkin_2018Q3']=='nan']=df[df['Hours Merged_Checkin_2018Q3']=='nan'].replace('nan', 0)"
   ]
  },
  {
   "cell_type": "code",
   "execution_count": 242,
   "metadata": {
    "scrolled": false
   },
   "outputs": [],
   "source": [
    "df['Hours Merged_Checkin_2018Q3']= pd.to_numeric(df['Hours Merged_Checkin_2018Q3'])"
   ]
  },
  {
   "cell_type": "markdown",
   "metadata": {},
   "source": [
    "### categorize variables"
   ]
  },
  {
   "cell_type": "code",
   "execution_count": 243,
   "metadata": {},
   "outputs": [
    {
     "data": {
      "text/plain": [
       "['Savings_Cat_Checkin_2018Q3',\n",
       " 'Assets_Cat_Checkin_2018Q3',\n",
       " 'CreditScore_Cat_Checkin_2018Q3',\n",
       " 'Debt_Cat_Checkin_2018Q3',\n",
       " 'Wages Merged_Cat_Checkin_2018Q3',\n",
       " 'Hours Merged_Cat_Checkin_2018Q3',\n",
       " 'IncomeClient_Cat_Checkin_2018Q3',\n",
       " 'IncomeHH_Cat_Checkin_2018Q3',\n",
       " 'ExpensesHH_Cat_Checkin_2018Q3']"
      ]
     },
     "execution_count": 243,
     "metadata": {},
     "output_type": "execute_result"
    }
   ],
   "source": [
    "[w for w in df.columns if 'Cat' in w]"
   ]
  },
  {
   "cell_type": "code",
   "execution_count": 244,
   "metadata": {},
   "outputs": [],
   "source": [
    "#categorize savings data\n",
    "df.loc[(df['Savings_Checkin_2018Q3'] ==0),'Savings_Cat_Checkin_2018Q3'] =0\n",
    "df.loc[(df['Savings_Checkin_2018Q3'] >0) & (df['Savings_Checkin_2018Q3']<=49),'Savings_Cat_Checkin_2018Q3'] ='$1-$49'\n",
    "df.loc[(df['Savings_Checkin_2018Q3'] >49) & (df['Savings_Checkin_2018Q3']<=199),'Savings_Cat_Checkin_2018Q3'] ='$50-$199'\n",
    "df.loc[(df['Savings_Checkin_2018Q3'] >199) & (df['Savings_Checkin_2018Q3']<=499),'Savings_Cat_Checkin_2018Q3'] ='$200-$499'\n",
    "df.loc[(df['Savings_Checkin_2018Q3'] >499) & (df['Savings_Checkin_2018Q3']<=999),'Savings_Cat_Checkin_2018Q3'] ='$500-$999'\n",
    "df.loc[(df['Savings_Checkin_2018Q3'] >1000) & (df['Savings_Checkin_2018Q3']<=2999),'Savings_Cat_Checkin_2018Q3'] ='$1000-$2999'\n",
    "df.loc[(df['Savings_Checkin_2018Q3'] >2999),'Savings_Cat_Checkin_2018Q3'] ='$3000+'"
   ]
  },
  {
   "cell_type": "code",
   "execution_count": 245,
   "metadata": {},
   "outputs": [],
   "source": [
    "#categorize creditscore data\n",
    "df.loc[(df['CreditScore_Checkin_2018Q3'] <500),'CreditScore_Cat_Checkin_2018Q3'] ='Below 500'\n",
    "df.loc[(df['CreditScore_Checkin_2018Q3'] >499) & (df['CreditScore_Checkin_2018Q3']<=599),'CreditScore_Cat_Checkin_2018Q3'] ='500-599'\n",
    "df.loc[(df['CreditScore_Checkin_2018Q3'] >599) & (df['CreditScore_Checkin_2018Q3']<=699),'CreditScore_Cat_Checkin_2018Q3'] ='600-699'\n",
    "df.loc[(df['CreditScore_Checkin_2018Q3'] >699),'CreditScore_Cat_Checkin_2018Q3'] ='700+'"
   ]
  },
  {
   "cell_type": "code",
   "execution_count": 246,
   "metadata": {},
   "outputs": [],
   "source": [
    "#categorize Debt data\n",
    "df.loc[(df['Debt_Checkin_2018Q3'] ==0),'Debt_Cat_Checkin_2018Q3'] ='$0'\n",
    "df.loc[(df['Debt_Checkin_2018Q3'] >0) & (df['Debt_Checkin_2018Q3']<=999),'Debt_Cat_Checkin_2018Q3'] ='$1-$999'\n",
    "df.loc[(df['Debt_Checkin_2018Q3'] >999) & (df['Debt_Checkin_2018Q3']<=4999),'Debt_Cat_Checkin_2018Q3'] ='$1,000-$4,999'\n",
    "df.loc[(df['Debt_Checkin_2018Q3'] >4999) & (df['Debt_Checkin_2018Q3']<=9999),'Debt_Cat_Checkin_2018Q3'] ='$5,000-$9,999'\n",
    "df.loc[(df['Debt_Checkin_2018Q3'] >9999) & (df['Debt_Checkin_2018Q3']<=29999),'Debt_Cat_Checkin_2018Q3'] ='$10,000-$29,999'\n",
    "df.loc[(df['Debt_Checkin_2018Q3'] >29999) & (df['Debt_Checkin_2018Q3']<=49999),'Debt_Cat_Checkin_2018Q3'] ='$30,000-$49,999'\n",
    "df.loc[(df['Debt_Checkin_2018Q3'] >49999) & (df['Debt_Checkin_2018Q3']<=99999),'Debt_Cat_Checkin_2018Q3'] ='$50,000-$99,999'\n",
    "df.loc[(df['Debt_Checkin_2018Q3'] >99999),'Debt_Cat_Checkin_2018Q3'] ='$100,000+'"
   ]
  },
  {
   "cell_type": "code",
   "execution_count": 247,
   "metadata": {},
   "outputs": [],
   "source": [
    "#categorize Wages merged data\n",
    "df.loc[(df['Wages Merged_Checkin_2018Q3'] ==0),'Wages Merged_Cat_Checkin_2018Q3'] =0\n",
    "df.loc[(df['Wages Merged_Checkin_2018Q3'] >0) & (df['Wages Merged_Checkin_2018Q3']<=9.99),'Wages Merged_Cat_Checkin_2018Q3'] ='$1-$9.99'\n",
    "df.loc[(df['Wages Merged_Checkin_2018Q3'] >9.99) & (df['Wages Merged_Checkin_2018Q3']<=11.99),'Wages Merged_Cat_Checkin_2018Q3'] ='$10-$11.99'\n",
    "df.loc[(df['Wages Merged_Checkin_2018Q3'] >11.99) & (df['Wages Merged_Checkin_2018Q3']<=14.99),'Wages Merged_Cat_Checkin_2018Q3'] ='$12-$14.99'\n",
    "df.loc[(df['Wages Merged_Checkin_2018Q3'] >14.99) & (df['Wages Merged_Checkin_2018Q3']<=19.99),'Wages Merged_Cat_Checkin_2018Q3'] ='$15-$19.99'\n",
    "df.loc[(df['Wages Merged_Checkin_2018Q3'] >19.99),'Wages Merged_Cat_Checkin_2018Q3'] ='$20+'"
   ]
  },
  {
   "cell_type": "code",
   "execution_count": 248,
   "metadata": {},
   "outputs": [],
   "source": [
    "#categorize hours merged data\n",
    "df.loc[(df['Hours Merged_Checkin_2018Q3'] ==0),'Hours Merged_Cat_Checkin_2018Q3'] =0\n",
    "df.loc[(df['Hours Merged_Checkin_2018Q3'] >0) & (df['Hours Merged_Checkin_2018Q3']<=9),'Hours Merged_Cat_Checkin_2018Q3'] ='1-9'\n",
    "df.loc[(df['Hours Merged_Checkin_2018Q3'] >9) & (df['Hours Merged_Checkin_2018Q3']<=19),'Hours Merged_Cat_Checkin_2018Q3'] ='10-19'\n",
    "df.loc[(df['Hours Merged_Checkin_2018Q3'] >19) & (df['Hours Merged_Checkin_2018Q3']<=29),'Hours Merged_Cat_Checkin_2018Q3'] ='20-29'\n",
    "df.loc[(df['Hours Merged_Checkin_2018Q3'] >29) & (df['Hours Merged_Checkin_2018Q3']<=39),'Hours Merged_Cat_Checkin_2018Q3'] ='30-39'\n",
    "df.loc[(df['Hours Merged_Checkin_2018Q3'] >39) & (df['Hours Merged_Checkin_2018Q3']<=49),'Hours Merged_Cat_Checkin_2018Q3'] ='40-49'\n",
    "df.loc[(df['Hours Merged_Checkin_2018Q3'] >49),'Hours Merged_Cat_Checkin_2018Q3'] ='50+'"
   ]
  },
  {
   "cell_type": "code",
   "execution_count": 249,
   "metadata": {},
   "outputs": [],
   "source": [
    "#categorize incomeclient data \n",
    "df.loc[(df['IncomeClient_Checkin_2018Q3'] ==0),'IncomeClient_Cat_Checkin_2018Q3'] =0\n",
    "df.loc[(df['IncomeClient_Checkin_2018Q3'] >0) & (df['IncomeClient_Checkin_2018Q3']<=499),'IncomeClient_Cat_Checkin_2018Q3'] ='$1-$499'\n",
    "df.loc[(df['IncomeClient_Checkin_2018Q3'] >499) & (df['IncomeClient_Checkin_2018Q3']<=999),'IncomeClient_Cat_Checkin_2018Q3'] ='$500-$999'\n",
    "df.loc[(df['IncomeClient_Checkin_2018Q3'] >999) & (df['IncomeClient_Checkin_2018Q3']<=1499),'IncomeClient_Cat_Checkin_2018Q3'] ='$1000-$1499'\n",
    "df.loc[(df['IncomeClient_Checkin_2018Q3'] >1499) & (df['IncomeClient_Checkin_2018Q3']<=1999),'IncomeClient_Cat_Checkin_2018Q3'] ='$1500-$1999'\n",
    "df.loc[(df['IncomeClient_Checkin_2018Q3'] >1999) & (df['IncomeClient_Checkin_2018Q3']<=2999),'IncomeClient_Cat_Checkin_2018Q3'] ='$2000-$2999'\n",
    "df.loc[(df['IncomeClient_Checkin_2018Q3'] >2999),'IncomeClient_Cat_Checkin_2018Q3'] ='$3000+'"
   ]
  },
  {
   "cell_type": "code",
   "execution_count": 250,
   "metadata": {},
   "outputs": [],
   "source": [
    "#categorize incomehh data\n",
    "df.loc[(df['IncomeHH_Checkin_2018Q3'] ==0),'IncomeHH_Cat_Checkin_2018Q3'] =0\n",
    "df.loc[(df['IncomeHH_Checkin_2018Q3'] >0) & (df['IncomeHH_Checkin_2018Q3']<=499),'IncomeHH_Cat_Checkin_2018Q3'] ='$1-$499'\n",
    "df.loc[(df['IncomeHH_Checkin_2018Q3'] >499) & (df['IncomeHH_Checkin_2018Q3']<=999),'IncomeHH_Cat_Checkin_2018Q3'] ='$500-$999'\n",
    "df.loc[(df['IncomeHH_Checkin_2018Q3'] >999) & (df['IncomeHH_Checkin_2018Q3']<=1499),'IncomeHH_Cat_Checkin_2018Q3'] ='$1000-$1499'\n",
    "df.loc[(df['IncomeHH_Checkin_2018Q3'] >1499) & (df['IncomeHH_Checkin_2018Q3']<=1999),'IncomeHH_Cat_Checkin_2018Q3'] ='$1500-$1999'\n",
    "df.loc[(df['IncomeHH_Checkin_2018Q3'] >1999) & (df['IncomeHH_Checkin_2018Q3']<=2999),'IncomeHH_Cat_Checkin_2018Q3'] ='$2000-$2999'\n",
    "df.loc[(df['IncomeHH_Checkin_2018Q3'] >2999),'IncomeHH_Cat_Checkin_2018Q3'] ='$3000+'"
   ]
  },
  {
   "cell_type": "code",
   "execution_count": 251,
   "metadata": {},
   "outputs": [],
   "source": [
    "#categorize expenseshh data\n",
    "df.loc[(df['ExpensesHH_Checkin_2018Q3'] ==0),'ExpensesHH_Cat_Checkin_2018Q3'] =0\n",
    "df.loc[(df['ExpensesHH_Checkin_2018Q3'] >0) & (df['ExpensesHH_Checkin_2018Q3']<=499),'ExpensesHH_Cat_Checkin_2018Q3'] ='$1-$499'\n",
    "df.loc[(df['ExpensesHH_Checkin_2018Q3'] >499) & (df['ExpensesHH_Checkin_2018Q3']<=999),'ExpensesHH_Cat_Checkin_2018Q3'] ='$500-$999'\n",
    "df.loc[(df['ExpensesHH_Checkin_2018Q3'] >999) & (df['ExpensesHH_Checkin_2018Q3']<=1499),'ExpensesHH_Cat_Checkin_2018Q3'] ='$1000-$1499'\n",
    "df.loc[(df['ExpensesHH_Checkin_2018Q3'] >1499) & (df['ExpensesHH_Checkin_2018Q3']<=1999),'ExpensesHH_Cat_Checkin_2018Q3'] ='$1500-$1999'\n",
    "df.loc[(df['ExpensesHH_Checkin_2018Q3'] >1999) & (df['ExpensesHH_Checkin_2018Q3']<=2999),'ExpensesHH_Cat_Checkin_2018Q3'] ='$2000-$2999'\n",
    "df.loc[(df['ExpensesHH_Checkin_2018Q3'] >2999),'ExpensesHH_Cat_Checkin_2018Q3'] ='$3000+'"
   ]
  },
  {
   "cell_type": "markdown",
   "metadata": {},
   "source": [
    "## convert numeric to string values"
   ]
  },
  {
   "cell_type": "code",
   "execution_count": 252,
   "metadata": {},
   "outputs": [
    {
     "data": {
      "text/plain": [
       "2     1014\n",
       "1      551\n",
       "99       1\n",
       "Name: Gender_Checkin_2018Q3, dtype: int64"
      ]
     },
     "execution_count": 252,
     "metadata": {},
     "output_type": "execute_result"
    }
   ],
   "source": [
    "df['Gender_Checkin_2018Q3'].value_counts()"
   ]
  },
  {
   "cell_type": "code",
   "execution_count": 253,
   "metadata": {},
   "outputs": [],
   "source": [
    "#Gender\n",
    "\n",
    "gender_mapping = {1: 'Male',\n",
    "                2: 'Female',\n",
    "                99: 'Unknown',\n",
    "                 'Male':'Male',\n",
    "                 'Female':'Female',\n",
    "                 'Unknown':'Unknown',\n",
    "                 'F':'Female',\n",
    "                 'M':'Male'}\n",
    "df['Gender_Checkin_2018Q3'] = df['Gender_Checkin_2018Q3'].map(gender_mapping)"
   ]
  },
  {
   "cell_type": "code",
   "execution_count": 254,
   "metadata": {},
   "outputs": [],
   "source": [
    "#Race\n",
    "\n",
    "race_mapping = {1: 'American Indian or Alaska Native',\n",
    "                2: 'Asian',\n",
    "                3: 'Black or African American',\n",
    "                4: 'Multiple',\n",
    "                5: 'Native Hawaiian or Pacific Islander',\n",
    "                6: 'Other',\n",
    "                7: 'White',\n",
    "                8: 'Hispanic',\n",
    "                99: 'Unknown',\n",
    "                'American Indian or Alaska Native': 'American Indian or Alaska Native',\n",
    "                'Asian': 'Asian',\n",
    "                'Black or African American': 'Black or African American',\n",
    "                'Black or African-American': 'Black or African American',\n",
    "                'African American': 'Black or African American',\n",
    "                'Multiple': 'Multiple',\n",
    "                'Native Hawaiian or Pacific Islander': 'Native Hawaiian or Pacific Islander',\n",
    "                'Native Hawaiian or Pcific Islander': 'Native Hawaiian or Pacific Islander',\n",
    "                'Other': 'Other',\n",
    "                'White': 'White',\n",
    "                'Unknown': 'Unknown'}\n",
    "df['Race_Checkin_2018Q3'] = df['Race_Checkin_2018Q3'].map(race_mapping)"
   ]
  },
  {
   "cell_type": "code",
   "execution_count": 255,
   "metadata": {},
   "outputs": [],
   "source": [
    "#Marital Status\n",
    "marital_mapping = {1: 'Single',\n",
    "                2: 'Married or Domestic Partnership',\n",
    "                3: 'Divorced',\n",
    "                4: 'Separated',\n",
    "                5: 'Widowed',\n",
    "                99: 'Unknown',\n",
    "                'Single': 'Single',\n",
    "                'Married or Domestic Partnership': 'Married or Domestic Partnership',\n",
    "                'Divorced': 'Divorced',\n",
    "                'Separated': 'Separated',\n",
    "                'Widowed': 'Widowed',\n",
    "                'Unknown': 'Unknown'}\n",
    "df['MaritalStatus_Checkin_2018Q3'] = df['MaritalStatus_Checkin_2018Q3'].map(marital_mapping)"
   ]
  },
  {
   "cell_type": "code",
   "execution_count": 256,
   "metadata": {},
   "outputs": [],
   "source": [
    "#HighestEd\n",
    "highestEd_mapping = {1: 'Less than HS',\n",
    "                2: 'HS, GED, or equivalent',\n",
    "                3: 'Some college, no degree',\n",
    "                4: 'Associate Degree',\n",
    "                5: \"Bachelor's Degree\",\n",
    "                6: 'Graduate Degree or above',\n",
    "                99: 'Unknown',\n",
    "                'Unknown': 'Unknown', \n",
    "                'HS, GED, or equivalent':'HS, GED, or equivalent', \n",
    "                'Associate Degree':'Associate Degree',\n",
    "                'Less than HS':'Less than HS', \n",
    "                'Some college, no degree':'Some college, no degree',\n",
    "                \"Bachelor's Degree\":\"Bachelor's Degree\", \n",
    "                'Gradeuate Degree or above':'Graduate Degree or above',\n",
    "                'HS GED or equivalent':'HS, GED, or equivalent', \n",
    "                'Graduate Degree or above':'Graduate Degree or above',\n",
    "                'Bachelors Degree':\"Bachelor's Degree\", \n",
    "                'Some college no degree':'Some college, no degree'}\n",
    "df['HighestEd_Checkin_2018Q3'] = df['HighestEd_Checkin_2018Q3'].map(highestEd_mapping)"
   ]
  },
  {
   "cell_type": "code",
   "execution_count": 257,
   "metadata": {},
   "outputs": [],
   "source": [
    "#Housing Type\n",
    "housingType_mapping = {1: 'Homeless',\n",
    "                2: 'Lives with Relatives/Friends',\n",
    "                3: 'Receives free or subsidized housing',\n",
    "                4: 'Rents',\n",
    "                5: 'Owns',\n",
    "                99: 'Unknown',\n",
    "                'Unknown':'Unknown', \n",
    "                'Lives with Relatives/Friends':'Lives with Relatives/Friends', \n",
    "                'Rents':'Rents', \n",
    "                'Owns':'Owns', \n",
    "                'Homeless':'Homeless', \n",
    "                'Receives free or subsidized housing':'Receives free or subsidized housing',\n",
    "                'lives with relatives/friends':'Lives with Relatives/Friends', \n",
    "                'rents':'Rents', \n",
    "                'owns':'Owns',\n",
    "                'Lives with Relatives or Friends':'Lives with Relatives/Friends'}\n",
    "df['HousingType_Checkin_2018Q3'] = df['HousingType_Checkin_2018Q3'].map(housingType_mapping)"
   ]
  },
  {
   "cell_type": "code",
   "execution_count": 258,
   "metadata": {},
   "outputs": [],
   "source": [
    "#Criminal Background\n",
    "criminalBackground_mapping = {1: 'Yes',\n",
    "                             0: 'No',\n",
    "                             99: 'Unknown',\n",
    "                             'Yes': 'Yes',\n",
    "                             'No': 'No',\n",
    "                             'Unknown': 'Unknown'}\n",
    "df['CriminalBackground_Checkin_2018Q3'] = df['CriminalBackground_Checkin_2018Q3'].map(criminalBackground_mapping)"
   ]
  },
  {
   "cell_type": "code",
   "execution_count": 259,
   "metadata": {},
   "outputs": [],
   "source": [
    "#Access Employment\n",
    "accessEmployment_mapping = {1: 'Yes',\n",
    "                            0: 'No',\n",
    "                            'Yes':'Yes',\n",
    "                            'No':'No'}\n",
    "df['AccessEmployment_Checkin_2018Q3'] = df['AccessEmployment_Checkin_2018Q3'].map(accessEmployment_mapping)"
   ]
  },
  {
   "cell_type": "code",
   "execution_count": 260,
   "metadata": {},
   "outputs": [],
   "source": [
    "#Employment Status\n",
    "employmentStatus_mapping = {1: 'Employed Full Time',\n",
    "                            2: 'Employed Part Time',\n",
    "                            3: 'Not employed',\n",
    "                           'Employed Full Time': 'Employed Full Time',\n",
    "                           'Employed Part Time': 'Employed Part Time',\n",
    "                           'Not employed': 'Not employed',\n",
    "                           'Unemployed':'Not employed', \n",
    "                           'Employed Part-Time':'Employed Part Time', \n",
    "                           'Employed Full-Time':'Employed Full Time'}\n",
    "df['EmploymentStatus_Checkin_2018Q3'] = df['EmploymentStatus_Checkin_2018Q3'].map(employmentStatus_mapping)"
   ]
  },
  {
   "cell_type": "code",
   "execution_count": 261,
   "metadata": {},
   "outputs": [],
   "source": [
    "#Employment Retention\n",
    "employmentRetention_mapping = {1: 'Yes',\n",
    "                             0: 'No',\n",
    "                            'Yes': 'Yes',\n",
    "                            'No': 'No'}\n",
    "df['EmploymentRetention_Checkin_2018Q3'] = df['EmploymentRetention_Checkin_2018Q3'].map(employmentRetention_mapping)"
   ]
  },
  {
   "cell_type": "code",
   "execution_count": 262,
   "metadata": {},
   "outputs": [],
   "source": [
    "jobTrainingEnrolled_mapping = {1: 'Yes',\n",
    "                             0: 'No',\n",
    "                            'Yes': 'Yes',\n",
    "                            'No': 'No'}\n",
    "df['JobTrainingEnrolled_Checkin_2018Q3'] = df['JobTrainingEnrolled_Checkin_2018Q3'].map(jobTrainingEnrolled_mapping)"
   ]
  },
  {
   "cell_type": "code",
   "execution_count": 263,
   "metadata": {},
   "outputs": [],
   "source": [
    "jobTrainingCompleted_mapping = {1: 'Yes',\n",
    "                             0: 'No',\n",
    "                            'Yes': 'Yes',\n",
    "                            'No': 'No'}\n",
    "df['JobTrainingCompleted_Checkin_2018Q3'] = df['JobTrainingCompleted_Checkin_2018Q3'].map(jobTrainingCompleted_mapping)"
   ]
  },
  {
   "cell_type": "code",
   "execution_count": 278,
   "metadata": {},
   "outputs": [
    {
     "ename": "AttributeError",
     "evalue": "'DataFrame' object has no attribute 'map'",
     "output_type": "error",
     "traceback": [
      "\u001b[1;31m---------------------------------------------------------------------------\u001b[0m",
      "\u001b[1;31mAttributeError\u001b[0m                            Traceback (most recent call last)",
      "\u001b[1;32m<ipython-input-278-23934fae8825>\u001b[0m in \u001b[0;36m<module>\u001b[1;34m()\u001b[0m\n\u001b[0;32m      4\u001b[0m                             \u001b[1;34m'Yes'\u001b[0m\u001b[1;33m:\u001b[0m \u001b[1;34m'Yes'\u001b[0m\u001b[1;33m,\u001b[0m\u001b[1;33m\u001b[0m\u001b[0m\n\u001b[0;32m      5\u001b[0m                             'No': 'No'}\n\u001b[1;32m----> 6\u001b[1;33m \u001b[0mdf\u001b[0m\u001b[1;33m[\u001b[0m\u001b[1;34m'AccessFinancialCoach_Checkin_2018Q3'\u001b[0m\u001b[1;33m]\u001b[0m \u001b[1;33m=\u001b[0m \u001b[0mdf\u001b[0m\u001b[1;33m[\u001b[0m\u001b[1;34m'AccessFinancialCoach_Checkin_2018Q3'\u001b[0m\u001b[1;33m]\u001b[0m\u001b[1;33m.\u001b[0m\u001b[0mmap\u001b[0m\u001b[1;33m(\u001b[0m\u001b[0maccessFinancialCoach_mapping\u001b[0m\u001b[1;33m)\u001b[0m\u001b[1;33m\u001b[0m\u001b[0m\n\u001b[0m",
      "\u001b[1;32m~\\Anaconda3\\lib\\site-packages\\pandas\\core\\generic.py\u001b[0m in \u001b[0;36m__getattr__\u001b[1;34m(self, name)\u001b[0m\n\u001b[0;32m   4370\u001b[0m             \u001b[1;32mif\u001b[0m \u001b[0mself\u001b[0m\u001b[1;33m.\u001b[0m\u001b[0m_info_axis\u001b[0m\u001b[1;33m.\u001b[0m\u001b[0m_can_hold_identifiers_and_holds_name\u001b[0m\u001b[1;33m(\u001b[0m\u001b[0mname\u001b[0m\u001b[1;33m)\u001b[0m\u001b[1;33m:\u001b[0m\u001b[1;33m\u001b[0m\u001b[0m\n\u001b[0;32m   4371\u001b[0m                 \u001b[1;32mreturn\u001b[0m \u001b[0mself\u001b[0m\u001b[1;33m[\u001b[0m\u001b[0mname\u001b[0m\u001b[1;33m]\u001b[0m\u001b[1;33m\u001b[0m\u001b[0m\n\u001b[1;32m-> 4372\u001b[1;33m             \u001b[1;32mreturn\u001b[0m \u001b[0mobject\u001b[0m\u001b[1;33m.\u001b[0m\u001b[0m__getattribute__\u001b[0m\u001b[1;33m(\u001b[0m\u001b[0mself\u001b[0m\u001b[1;33m,\u001b[0m \u001b[0mname\u001b[0m\u001b[1;33m)\u001b[0m\u001b[1;33m\u001b[0m\u001b[0m\n\u001b[0m\u001b[0;32m   4373\u001b[0m \u001b[1;33m\u001b[0m\u001b[0m\n\u001b[0;32m   4374\u001b[0m     \u001b[1;32mdef\u001b[0m \u001b[0m__setattr__\u001b[0m\u001b[1;33m(\u001b[0m\u001b[0mself\u001b[0m\u001b[1;33m,\u001b[0m \u001b[0mname\u001b[0m\u001b[1;33m,\u001b[0m \u001b[0mvalue\u001b[0m\u001b[1;33m)\u001b[0m\u001b[1;33m:\u001b[0m\u001b[1;33m\u001b[0m\u001b[0m\n",
      "\u001b[1;31mAttributeError\u001b[0m: 'DataFrame' object has no attribute 'map'"
     ]
    }
   ],
   "source": [
    "#Access Financial Coach\n",
    "accessFinancialCoach_mapping = {1: 'Yes',\n",
    "                             0: 'No',\n",
    "                            'Yes': 'Yes',\n",
    "                            'No': 'No'}\n",
    "df['AccessFinancialCoach_Checkin_2018Q3'] = df['AccessFinancialCoach_Checkin_2018Q3'].map(accessFinancialCoach_mapping)"
   ]
  },
  {
   "cell_type": "code",
   "execution_count": 265,
   "metadata": {},
   "outputs": [],
   "source": [
    "#Benefits Screening\n",
    "\n",
    "benefitsScreening_mapping = {1: 'Yes',\n",
    "                             0: 'No',\n",
    "                            'Yes': 'Yes',\n",
    "                            'No': 'No'}\n",
    "df['BenefitsScreening_Checkin_2018Q3'] = df['BenefitsScreening_Checkin_2018Q3'].map(benefitsScreening_mapping)\n"
   ]
  },
  {
   "cell_type": "code",
   "execution_count": 266,
   "metadata": {},
   "outputs": [],
   "source": [
    "#Public Benefits Access\n",
    "\n",
    "publicBenefitsAccess_mapping = {1: 'Yes',\n",
    "                             0: 'No',\n",
    "                            'Yes': 'Yes',\n",
    "                            'No': 'No'}\n",
    "df['PublicBenefitsAccess_Checkin_2018Q3'] = df['PublicBenefitsAccess_Checkin_2018Q3'].map(publicBenefitsAccess_mapping)\n"
   ]
  },
  {
   "cell_type": "code",
   "execution_count": 271,
   "metadata": {},
   "outputs": [],
   "source": [
    "#Agency Provided Support\n",
    "agencyProvidedSupport_mapping = {1: 'Yes',\n",
    "                             0: 'No',\n",
    "                            'Yes': 'Yes',\n",
    "                            'No': 'No'}\n",
    "df['AgencyProvidedSupport_Checkin_2018Q3'] = df['AgencyProvidedSupport_Checkin_2018Q3'].map(agencyProvidedSupport_mapping)"
   ]
  },
  {
   "cell_type": "code",
   "execution_count": 272,
   "metadata": {},
   "outputs": [],
   "source": [
    "#FinCap Budget\n",
    "finCapBudget_mapping = {1: 'Yes',\n",
    "                        0: 'No',\n",
    "                       'Yes': 'Yes',\n",
    "                       'No': 'No'}\n",
    "df['FinCap_Budget_Checkin_2018Q3'] = df['FinCap_Budget_Checkin_2018Q3'].map(finCapBudget_mapping)"
   ]
  },
  {
   "cell_type": "code",
   "execution_count": 273,
   "metadata": {},
   "outputs": [],
   "source": [
    "#FinCap Goals\n",
    "finCapGoals_mapping = {1: 'Somewhat confident',\n",
    "                             0: 'Not at all confident',\n",
    "                      2: 'Very confident',\n",
    "                      'Very confident':'Very confident', \n",
    "                      'Somewhat confident':'Somewhat confident',\n",
    "                      'Not at all confident':'Not at all confident', \n",
    "                      'Somewhat Confident':'Somewhat confident',\n",
    "                      'Very Confident':'Very confident'}\n",
    "df['FinCap_Goals_Checkin_2018Q3'] = df['FinCap_Goals_Checkin_2018Q3'].map(finCapGoals_mapping)"
   ]
  },
  {
   "cell_type": "code",
   "execution_count": 274,
   "metadata": {},
   "outputs": [],
   "source": [
    "#FinCap Emergency Fund\n",
    "finCapEmergencyFund_mapping = {1: 'Yes',\n",
    "                             0: 'No',\n",
    "                            'Yes': 'Yes',\n",
    "                            'No': 'No'}\n",
    "df['FinCap_EmergencyFund_Checkin_2018Q3'] = df['FinCap_EmergencyFund_Checkin_2018Q3'].map(finCapEmergencyFund_mapping)\n"
   ]
  },
  {
   "cell_type": "code",
   "execution_count": 275,
   "metadata": {},
   "outputs": [],
   "source": [
    "#FinCap Auto Deposit\n",
    "\n",
    "finCapAutoDeposit_mapping = {1: 'Yes',\n",
    "                             0: 'No',\n",
    "                            'Yes': 'Yes',\n",
    "                            'No': 'No'}\n",
    "df['FinCap_AutoDeposit_Checkin_2018Q3'] = df['FinCap_AutoDeposit_Checkin_2018Q3'].map(finCapAutoDeposit_mapping)"
   ]
  },
  {
   "cell_type": "code",
   "execution_count": 276,
   "metadata": {},
   "outputs": [],
   "source": [
    "#FinCap Income Expenses\n",
    "finCapIncomeExpenses_mapping = {1: 'Yes',\n",
    "                                0: 'No',\n",
    "                             'No':'No', \n",
    "                             'Yes':'Yes', \n",
    "                             \"No/Don't know\":\"Don't know\"}\n",
    "df['FinCap_IncomeExpenses_Checkin_2018Q3'] = df['FinCap_IncomeExpenses_Checkin_2018Q3'].map(finCapIncomeExpenses_mapping)"
   ]
  },
  {
   "cell_type": "code",
   "execution_count": 277,
   "metadata": {},
   "outputs": [],
   "source": [
    "#FinCap Late Fee\n",
    "finCapLateFee_mapping = {1: 'Yes',\n",
    "                             0: 'No',\n",
    "                        'Yes': 'Yes',\n",
    "                        'No': 'No'}\n",
    "df['FinCap_LateFee_Checkin_2018Q3'] = df['FinCap_LateFee_Checkin_2018Q3'].map(finCapLateFee_mapping)"
   ]
  },
  {
   "cell_type": "code",
   "execution_count": null,
   "metadata": {},
   "outputs": [],
   "source": [
    "drop_list = [w for w in df.columns if 'recode' in w]"
   ]
  },
  {
   "cell_type": "code",
   "execution_count": null,
   "metadata": {},
   "outputs": [],
   "source": [
    "df = df.drop(columns =drop_list)"
   ]
  },
  {
   "cell_type": "code",
   "execution_count": null,
   "metadata": {},
   "outputs": [],
   "source": [
    "#df.to_excel('Q3_checkin.xlsx')"
   ]
  },
  {
   "cell_type": "markdown",
   "metadata": {},
   "source": [
    "### Calculate AccessIncome checkin and BundledServices checkin"
   ]
  },
  {
   "cell_type": "code",
   "execution_count": 61,
   "metadata": {},
   "outputs": [],
   "source": [
    "#read Q3 checkin data\n",
    "df_checkin = pd.read_excel(r\"C:\\Users\\Leah\\Google Drive\\Parent Folder\\2. Clients\\Local\\Dallas\\Communities Foundation of Texas\\Q32018\\Data Work\\Q3_checkin_v2.xlsx\")"
   ]
  },
  {
   "cell_type": "code",
   "execution_count": 62,
   "metadata": {},
   "outputs": [],
   "source": [
    "#fill na with NA\n",
    "df_checkin['BenefitsScreening_Checkin_2018Q3'] = df_checkin['BenefitsScreening_Checkin_2018Q3'].fillna(value='NULL')\n",
    "df_checkin['PublicBenefitsAccess_Checkin_2018Q3'] = df_checkin['PublicBenefitsAccess_Checkin_2018Q3'].fillna(value='NULL')\n",
    "df_checkin['AgencyProvidedSupport_Checkin_2018Q3'] = df_checkin['AgencyProvidedSupport_Checkin_2018Q3'].fillna(value='NULL')"
   ]
  },
  {
   "cell_type": "code",
   "execution_count": 63,
   "metadata": {},
   "outputs": [],
   "source": [
    "conditions1 = [\n",
    "    (df_checkin['BenefitsScreening_Checkin_2018Q3']=='Yes')|(df_checkin['PublicBenefitsAccess_Checkin_2018Q3']=='Yes')|(df_checkin['AgencyProvidedSupport_Checkin_2018Q3']=='Yes')\n",
    "]\n",
    "choices1 = ['Yes']\n",
    "df_checkin['AccessIncome_Checkin_2018Q3_code1']=np.select(conditions1,choices1,default='No')"
   ]
  },
  {
   "cell_type": "code",
   "execution_count": 64,
   "metadata": {},
   "outputs": [
    {
     "data": {
      "text/plain": [
       "Yes    820\n",
       "No     742\n",
       "Name: AccessIncome_Checkin_2018Q3_code1, dtype: int64"
      ]
     },
     "execution_count": 64,
     "metadata": {},
     "output_type": "execute_result"
    }
   ],
   "source": [
    "df_checkin['AccessIncome_Checkin_2018Q3_code1'].value_counts()"
   ]
  },
  {
   "cell_type": "code",
   "execution_count": 65,
   "metadata": {},
   "outputs": [],
   "source": [
    "conditions2 = [\n",
    "    (df_checkin['BenefitsScreening_Checkin_2018Q3']=='NULL') & (df_checkin['PublicBenefitsAccess_Checkin_2018Q3']=='NULL') & (df_checkin['AgencyProvidedSupport_Checkin_2018Q3']=='NULL')\n",
    "]\n",
    "choices2 = ['NULL']\n",
    "df_checkin['AccessIncome_Checkin_2018Q3_code2'] = np.select(conditions2, choices2,\"\")"
   ]
  },
  {
   "cell_type": "code",
   "execution_count": 66,
   "metadata": {},
   "outputs": [
    {
     "data": {
      "text/plain": [
       "Yes    820\n",
       "No     742\n",
       "Name: AccessIncome_Checkin_2018Q3_code1, dtype: int64"
      ]
     },
     "execution_count": 66,
     "metadata": {},
     "output_type": "execute_result"
    }
   ],
   "source": [
    "df_checkin['AccessIncome_Checkin_2018Q3_code1'].value_counts()"
   ]
  },
  {
   "cell_type": "code",
   "execution_count": 67,
   "metadata": {},
   "outputs": [
    {
     "data": {
      "text/plain": [
       "        1071\n",
       "NULL     491\n",
       "Name: AccessIncome_Checkin_2018Q3_code2, dtype: int64"
      ]
     },
     "execution_count": 67,
     "metadata": {},
     "output_type": "execute_result"
    }
   ],
   "source": [
    "df_checkin['AccessIncome_Checkin_2018Q3_code2'].value_counts()"
   ]
  },
  {
   "cell_type": "code",
   "execution_count": 68,
   "metadata": {},
   "outputs": [],
   "source": [
    "conditions3 = [\n",
    "    (df_checkin['AccessIncome_Checkin_2018Q3_code2']=='NULL')\n",
    "]\n",
    "choices3 = ['NULL']\n",
    "df_checkin['AccessIncome_Checkin_2018Q3']=np.select(conditions3,choices3,df_checkin['AccessIncome_Checkin_2018Q3_code1'])"
   ]
  },
  {
   "cell_type": "code",
   "execution_count": 69,
   "metadata": {},
   "outputs": [
    {
     "data": {
      "text/plain": [
       "Yes     820\n",
       "NULL    491\n",
       "No      251\n",
       "Name: AccessIncome_Checkin_2018Q3, dtype: int64"
      ]
     },
     "execution_count": 69,
     "metadata": {},
     "output_type": "execute_result"
    }
   ],
   "source": [
    "df_checkin['AccessIncome_Checkin_2018Q3'].value_counts()"
   ]
  },
  {
   "cell_type": "markdown",
   "metadata": {},
   "source": [
    "#### remember to drop _code1,_code2, and drop NULL"
   ]
  },
  {
   "cell_type": "markdown",
   "metadata": {},
   "source": [
    "### Calculate Bundled services"
   ]
  },
  {
   "cell_type": "code",
   "execution_count": 70,
   "metadata": {},
   "outputs": [
    {
     "data": {
      "text/plain": [
       "1.0    745\n",
       "0.0    401\n",
       "Name: AccessFinancialCoach_Checkin_2018Q3, dtype: int64"
      ]
     },
     "execution_count": 70,
     "metadata": {},
     "output_type": "execute_result"
    }
   ],
   "source": [
    "df_checkin['AccessFinancialCoach_Checkin_2018Q3'].value_counts()"
   ]
  },
  {
   "cell_type": "code",
   "execution_count": 81,
   "metadata": {},
   "outputs": [],
   "source": [
    "df_checkin['AccessFinancialCoach_Checkin_2018Q3_recode']=df_checkin['AccessFinancialCoach_Checkin_2018Q3'].fillna(0)"
   ]
  },
  {
   "cell_type": "code",
   "execution_count": 82,
   "metadata": {},
   "outputs": [
    {
     "data": {
      "text/plain": [
       "0.0    817\n",
       "1.0    745\n",
       "Name: AccessFinancialCoach_Checkin_2018Q3_recode, dtype: int64"
      ]
     },
     "execution_count": 82,
     "metadata": {},
     "output_type": "execute_result"
    }
   ],
   "source": [
    "df_checkin['AccessFinancialCoach_Checkin_2018Q3_recode'].value_counts()"
   ]
  },
  {
   "cell_type": "code",
   "execution_count": 71,
   "metadata": {},
   "outputs": [
    {
     "data": {
      "text/plain": [
       "Yes    585\n",
       "No     545\n",
       "Name: AccessEmployment_Checkin_2018Q3, dtype: int64"
      ]
     },
     "execution_count": 71,
     "metadata": {},
     "output_type": "execute_result"
    }
   ],
   "source": [
    "df_checkin['AccessEmployment_Checkin_2018Q3'].value_counts()"
   ]
  },
  {
   "cell_type": "code",
   "execution_count": 83,
   "metadata": {},
   "outputs": [],
   "source": [
    "conditions5 = [\n",
    "    df_checkin['AccessEmployment_Checkin_2018Q3']=='Yes',\n",
    "    df_checkin['AccessEmployment_Checkin_2018Q3']=='No'\n",
    "]\n",
    "choices5= [1,0]\n",
    "df_checkin['AccessEmployment_Checkin_2018Q3_recode']=np.select(conditions5,choices5,0)"
   ]
  },
  {
   "cell_type": "code",
   "execution_count": 84,
   "metadata": {},
   "outputs": [
    {
     "data": {
      "text/plain": [
       "0    977\n",
       "1    585\n",
       "Name: AccessEmployment_Checkin_2018Q3_recode, dtype: int64"
      ]
     },
     "execution_count": 84,
     "metadata": {},
     "output_type": "execute_result"
    }
   ],
   "source": [
    "df_checkin['AccessEmployment_Checkin_2018Q3_recode'].value_counts()"
   ]
  },
  {
   "cell_type": "code",
   "execution_count": 85,
   "metadata": {},
   "outputs": [],
   "source": [
    "conditions6 = [\n",
    "    df_checkin['AccessIncome_Checkin_2018Q3']=='Yes',\n",
    "    df_checkin['AccessIncome_Checkin_2018Q3']=='No'\n",
    "]\n",
    "choices6=[1,0]\n",
    "df_checkin['AccessIncome_Checkin_2018Q3_recode']=np.select(conditions6,choices6,0)"
   ]
  },
  {
   "cell_type": "code",
   "execution_count": 86,
   "metadata": {},
   "outputs": [
    {
     "data": {
      "text/plain": [
       "1    820\n",
       "0    742\n",
       "Name: AccessIncome_Checkin_2018Q3_recode, dtype: int64"
      ]
     },
     "execution_count": 86,
     "metadata": {},
     "output_type": "execute_result"
    }
   ],
   "source": [
    "df_checkin['AccessIncome_Checkin_2018Q3_recode'].value_counts()"
   ]
  },
  {
   "cell_type": "code",
   "execution_count": 87,
   "metadata": {},
   "outputs": [],
   "source": [
    "df_checkin['BundledServices_Checkin_2018Q3']=df_checkin['AccessIncome_Checkin_2018Q3_recode']+df_checkin['AccessEmployment_Checkin_2018Q3_recode']+df_checkin['AccessFinancialCoach_Checkin_2018Q3_recode']"
   ]
  },
  {
   "cell_type": "code",
   "execution_count": 88,
   "metadata": {},
   "outputs": [
    {
     "data": {
      "text/plain": [
       "0.0    436\n",
       "1.0    429\n",
       "2.0    370\n",
       "3.0    327\n",
       "Name: BundledServices_Checkin_2018Q3, dtype: int64"
      ]
     },
     "execution_count": 88,
     "metadata": {},
     "output_type": "execute_result"
    }
   ],
   "source": [
    "df_checkin['BundledServices_Checkin_2018Q3'].value_counts()"
   ]
  },
  {
   "cell_type": "code",
   "execution_count": 89,
   "metadata": {},
   "outputs": [],
   "source": [
    "#**********************************\n",
    "conditions4 = [\n",
    "    (df_checkin['AccessFinancialCoach_Checkin_2018Q3']==1),\n",
    "    (df_checkin['AccessFinancialCoach_Checkin_2018Q3']==0)\n",
    "]\n",
    "choices4 = ['Yes','No']\n",
    "df_checkin['AccessFinancialCoach_Checkin_2018Q3']= np.select(conditions4,choices4,\"\")"
   ]
  },
  {
   "cell_type": "code",
   "execution_count": 90,
   "metadata": {},
   "outputs": [
    {
     "data": {
      "text/plain": [
       "Yes    745\n",
       "       416\n",
       "No     401\n",
       "Name: AccessFinancialCoach_Checkin_2018Q3, dtype: int64"
      ]
     },
     "execution_count": 90,
     "metadata": {},
     "output_type": "execute_result"
    }
   ],
   "source": [
    "df_checkin['AccessFinancialCoach_Checkin_2018Q3'].value_counts()"
   ]
  },
  {
   "cell_type": "code",
   "execution_count": 91,
   "metadata": {},
   "outputs": [],
   "source": [
    "df_checkin = df_checkin.rename(columns = {'AccessFinancialCoach_Checkin_2018Q3.1':'AccessFinancialEd_Checkin_2018Q3'})"
   ]
  },
  {
   "cell_type": "code",
   "execution_count": 95,
   "metadata": {},
   "outputs": [],
   "source": [
    "drop_list2 = [w for w in df_checkin.columns if 'code'in w]"
   ]
  },
  {
   "cell_type": "code",
   "execution_count": 96,
   "metadata": {},
   "outputs": [],
   "source": [
    "df_checkin = df_checkin.drop(columns=drop_list2)"
   ]
  },
  {
   "cell_type": "code",
   "execution_count": 100,
   "metadata": {},
   "outputs": [],
   "source": [
    "df_checkin = df_checkin.replace('NULL',\"\")"
   ]
  },
  {
   "cell_type": "code",
   "execution_count": 101,
   "metadata": {},
   "outputs": [],
   "source": [
    "df_checkin.to_excel('Q3_checkin_v3.xlsx')"
   ]
  },
  {
   "cell_type": "code",
   "execution_count": null,
   "metadata": {},
   "outputs": [],
   "source": []
  }
 ],
 "metadata": {
  "kernelspec": {
   "display_name": "Python 3",
   "language": "python",
   "name": "python3"
  },
  "language_info": {
   "codemirror_mode": {
    "name": "ipython",
    "version": 3
   },
   "file_extension": ".py",
   "mimetype": "text/x-python",
   "name": "python",
   "nbconvert_exporter": "python",
   "pygments_lexer": "ipython3",
   "version": "3.6.5"
  }
 },
 "nbformat": 4,
 "nbformat_minor": 2
}
